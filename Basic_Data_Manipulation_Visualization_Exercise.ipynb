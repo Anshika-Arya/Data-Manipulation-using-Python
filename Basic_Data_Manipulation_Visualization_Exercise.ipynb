{
 "cells": [
  {
   "cell_type": "markdown",
   "metadata": {},
   "source": [
    "# Basic Exercises on Data Importing - Understanding - Manipulating - Analysis - Visualization"
   ]
  },
  {
   "cell_type": "markdown",
   "metadata": {},
   "source": [
    "## Section-1: The pupose of the below exercises (1-7) is to create dictionary and convert into dataframes, how to diplay etc...\n",
    "## The below exercises required to create data "
   ]
  },
  {
   "cell_type": "markdown",
   "metadata": {},
   "source": [
    "### 1. Import the necessary libraries (pandas, numpy, datetime, re etc)"
   ]
  },
  {
   "cell_type": "code",
   "execution_count": 19,
   "metadata": {},
   "outputs": [],
   "source": [
    "#importing the libraries \n",
    "import pandas as pd\n",
    "import numpy as np\n",
    "import matplotlib.pyplot as plt\n",
    "import datetime as dt\n",
    "import seaborn as sns\n",
    "\n",
    "\n",
    "# set the graphs to show in the jupyter notebook\n",
    "%matplotlib inline\n",
    "\n",
    "# set seabor graphs to a better style\n",
    "sns.set(style=\"ticks\")"
   ]
  },
  {
   "cell_type": "markdown",
   "metadata": {},
   "source": [
    "### 2. Run the below line of code to create a dictionary and this will be used for below exercises"
   ]
  },
  {
   "cell_type": "code",
   "execution_count": 20,
   "metadata": {},
   "outputs": [],
   "source": [
    "raw_data = {\"name\": ['Bulbasaur', 'Charmander','Squirtle','Caterpie'],\n",
    "            \"evolution\": ['Ivysaur','Charmeleon','Wartortle','Metapod'],\n",
    "            \"type\": ['grass', 'fire', 'water', 'bug'],\n",
    "            \"hp\": [45, 39, 44, 45],\n",
    "            \"pokedex\": ['yes', 'no','yes','no']                        \n",
    "            }"
   ]
  },
  {
   "cell_type": "code",
   "execution_count": 21,
   "metadata": {},
   "outputs": [
    {
     "data": {
      "text/plain": [
       "{'name': ['Bulbasaur', 'Charmander', 'Squirtle', 'Caterpie'],\n",
       " 'evolution': ['Ivysaur', 'Charmeleon', 'Wartortle', 'Metapod'],\n",
       " 'type': ['grass', 'fire', 'water', 'bug'],\n",
       " 'hp': [45, 39, 44, 45],\n",
       " 'pokedex': ['yes', 'no', 'yes', 'no']}"
      ]
     },
     "execution_count": 21,
     "metadata": {},
     "output_type": "execute_result"
    }
   ],
   "source": [
    "raw_data"
   ]
  },
  {
   "cell_type": "markdown",
   "metadata": {},
   "source": [
    "### 3. Assign it to a object called pokemon and it should be a pandas DataFrame"
   ]
  },
  {
   "cell_type": "code",
   "execution_count": 22,
   "metadata": {},
   "outputs": [],
   "source": [
    "pokemon = pd.DataFrame(raw_data)\n"
   ]
  },
  {
   "cell_type": "markdown",
   "metadata": {},
   "source": [
    "### 4. If the DataFrame columns are in alphabetical order, change the order of the columns as name, type, hp, evolution, pokedex"
   ]
  },
  {
   "cell_type": "code",
   "execution_count": 23,
   "metadata": {
    "scrolled": true
   },
   "outputs": [],
   "source": [
    "pokemon = pokemon[['name', 'type', 'hp', 'evolution', 'pokedex']]\n"
   ]
  },
  {
   "cell_type": "markdown",
   "metadata": {},
   "source": [
    "### 5. Add another column called place, and insert places (lakes, parks, hills, forest etc) of your choice."
   ]
  },
  {
   "cell_type": "code",
   "execution_count": 24,
   "metadata": {},
   "outputs": [
    {
     "name": "stdout",
     "output_type": "stream",
     "text": [
      "         name   type  hp   evolution pokedex   place\n",
      "0   Bulbasaur  grass  45     Ivysaur     yes   lakes\n",
      "1  Charmander   fire  39  Charmeleon      no   parks\n",
      "2    Squirtle  water  44   Wartortle     yes   hills\n",
      "3    Caterpie    bug  45     Metapod      no  forest\n"
     ]
    }
   ],
   "source": [
    "places = ['lakes', 'parks', 'hills', 'forest']\n",
    "pokemon['place'] = places\n",
    "\n",
    "print(pokemon)"
   ]
  },
  {
   "cell_type": "markdown",
   "metadata": {},
   "source": [
    "### 6. Display the data type of each column"
   ]
  },
  {
   "cell_type": "code",
   "execution_count": 25,
   "metadata": {},
   "outputs": [
    {
     "name": "stdout",
     "output_type": "stream",
     "text": [
      "name         object\n",
      "type         object\n",
      "hp            int64\n",
      "evolution    object\n",
      "pokedex      object\n",
      "place        object\n",
      "dtype: object\n"
     ]
    }
   ],
   "source": [
    "print(pokemon.dtypes)"
   ]
  },
  {
   "cell_type": "markdown",
   "metadata": {},
   "source": [
    "### 7. Display the info of dataframe"
   ]
  },
  {
   "cell_type": "code",
   "execution_count": 26,
   "metadata": {},
   "outputs": [
    {
     "name": "stdout",
     "output_type": "stream",
     "text": [
      "<class 'pandas.core.frame.DataFrame'>\n",
      "RangeIndex: 4 entries, 0 to 3\n",
      "Data columns (total 6 columns):\n",
      " #   Column     Non-Null Count  Dtype \n",
      "---  ------     --------------  ----- \n",
      " 0   name       4 non-null      object\n",
      " 1   type       4 non-null      object\n",
      " 2   hp         4 non-null      int64 \n",
      " 3   evolution  4 non-null      object\n",
      " 4   pokedex    4 non-null      object\n",
      " 5   place      4 non-null      object\n",
      "dtypes: int64(1), object(5)\n",
      "memory usage: 324.0+ bytes\n"
     ]
    }
   ],
   "source": [
    "\n",
    "pokemon.info()\n"
   ]
  },
  {
   "cell_type": "markdown",
   "metadata": {},
   "source": [
    "## Section-2: The pupose of the below exercise (8-20) is to understand deleting data with pandas.\n",
    "## The below exercises required to use wine.data"
   ]
  },
  {
   "cell_type": "markdown",
   "metadata": {},
   "source": [
    "### 8. Import the dataset *wine.txt* from the folder and assign it to a object called wine\n",
    "\n",
    "Please note that the original data text file doesn't contain any header. Please ensure that when you import the data, you should use a suitable argument so as to avoid data getting imported as header."
   ]
  },
  {
   "cell_type": "code",
   "execution_count": 27,
   "metadata": {},
   "outputs": [],
   "source": [
    "wine = pd.read_csv(r\"C:\\Users\\hp\\Downloads\\Basic Data Manipulation - Visualization Exercise\\2. Basic Data Manipulation - Visualization Exercise\\Exercise Data Files\\wine.txt\", header=None)"
   ]
  },
  {
   "cell_type": "code",
   "execution_count": 28,
   "metadata": {},
   "outputs": [
    {
     "data": {
      "text/html": [
       "<div>\n",
       "<style scoped>\n",
       "    .dataframe tbody tr th:only-of-type {\n",
       "        vertical-align: middle;\n",
       "    }\n",
       "\n",
       "    .dataframe tbody tr th {\n",
       "        vertical-align: top;\n",
       "    }\n",
       "\n",
       "    .dataframe thead th {\n",
       "        text-align: right;\n",
       "    }\n",
       "</style>\n",
       "<table border=\"1\" class=\"dataframe\">\n",
       "  <thead>\n",
       "    <tr style=\"text-align: right;\">\n",
       "      <th></th>\n",
       "      <th>0</th>\n",
       "      <th>1</th>\n",
       "      <th>2</th>\n",
       "      <th>3</th>\n",
       "      <th>4</th>\n",
       "      <th>5</th>\n",
       "      <th>6</th>\n",
       "      <th>7</th>\n",
       "      <th>8</th>\n",
       "      <th>9</th>\n",
       "      <th>10</th>\n",
       "      <th>11</th>\n",
       "      <th>12</th>\n",
       "      <th>13</th>\n",
       "    </tr>\n",
       "  </thead>\n",
       "  <tbody>\n",
       "    <tr>\n",
       "      <th>0</th>\n",
       "      <td>1</td>\n",
       "      <td>14.23</td>\n",
       "      <td>1.71</td>\n",
       "      <td>2.43</td>\n",
       "      <td>15.6</td>\n",
       "      <td>127</td>\n",
       "      <td>2.80</td>\n",
       "      <td>3.06</td>\n",
       "      <td>0.28</td>\n",
       "      <td>2.29</td>\n",
       "      <td>5.64</td>\n",
       "      <td>1.04</td>\n",
       "      <td>3.92</td>\n",
       "      <td>1065</td>\n",
       "    </tr>\n",
       "    <tr>\n",
       "      <th>1</th>\n",
       "      <td>1</td>\n",
       "      <td>13.20</td>\n",
       "      <td>1.78</td>\n",
       "      <td>2.14</td>\n",
       "      <td>11.2</td>\n",
       "      <td>100</td>\n",
       "      <td>2.65</td>\n",
       "      <td>2.76</td>\n",
       "      <td>0.26</td>\n",
       "      <td>1.28</td>\n",
       "      <td>4.38</td>\n",
       "      <td>1.05</td>\n",
       "      <td>3.40</td>\n",
       "      <td>1050</td>\n",
       "    </tr>\n",
       "    <tr>\n",
       "      <th>2</th>\n",
       "      <td>1</td>\n",
       "      <td>13.16</td>\n",
       "      <td>2.36</td>\n",
       "      <td>2.67</td>\n",
       "      <td>18.6</td>\n",
       "      <td>101</td>\n",
       "      <td>2.80</td>\n",
       "      <td>3.24</td>\n",
       "      <td>0.30</td>\n",
       "      <td>2.81</td>\n",
       "      <td>5.68</td>\n",
       "      <td>1.03</td>\n",
       "      <td>3.17</td>\n",
       "      <td>1185</td>\n",
       "    </tr>\n",
       "    <tr>\n",
       "      <th>3</th>\n",
       "      <td>1</td>\n",
       "      <td>14.37</td>\n",
       "      <td>1.95</td>\n",
       "      <td>2.50</td>\n",
       "      <td>16.8</td>\n",
       "      <td>113</td>\n",
       "      <td>3.85</td>\n",
       "      <td>3.49</td>\n",
       "      <td>0.24</td>\n",
       "      <td>2.18</td>\n",
       "      <td>7.80</td>\n",
       "      <td>0.86</td>\n",
       "      <td>3.45</td>\n",
       "      <td>1480</td>\n",
       "    </tr>\n",
       "    <tr>\n",
       "      <th>4</th>\n",
       "      <td>1</td>\n",
       "      <td>13.24</td>\n",
       "      <td>2.59</td>\n",
       "      <td>2.87</td>\n",
       "      <td>21.0</td>\n",
       "      <td>118</td>\n",
       "      <td>2.80</td>\n",
       "      <td>2.69</td>\n",
       "      <td>0.39</td>\n",
       "      <td>1.82</td>\n",
       "      <td>4.32</td>\n",
       "      <td>1.04</td>\n",
       "      <td>2.93</td>\n",
       "      <td>735</td>\n",
       "    </tr>\n",
       "    <tr>\n",
       "      <th>...</th>\n",
       "      <td>...</td>\n",
       "      <td>...</td>\n",
       "      <td>...</td>\n",
       "      <td>...</td>\n",
       "      <td>...</td>\n",
       "      <td>...</td>\n",
       "      <td>...</td>\n",
       "      <td>...</td>\n",
       "      <td>...</td>\n",
       "      <td>...</td>\n",
       "      <td>...</td>\n",
       "      <td>...</td>\n",
       "      <td>...</td>\n",
       "      <td>...</td>\n",
       "    </tr>\n",
       "    <tr>\n",
       "      <th>173</th>\n",
       "      <td>3</td>\n",
       "      <td>13.71</td>\n",
       "      <td>5.65</td>\n",
       "      <td>2.45</td>\n",
       "      <td>20.5</td>\n",
       "      <td>95</td>\n",
       "      <td>1.68</td>\n",
       "      <td>0.61</td>\n",
       "      <td>0.52</td>\n",
       "      <td>1.06</td>\n",
       "      <td>7.70</td>\n",
       "      <td>0.64</td>\n",
       "      <td>1.74</td>\n",
       "      <td>740</td>\n",
       "    </tr>\n",
       "    <tr>\n",
       "      <th>174</th>\n",
       "      <td>3</td>\n",
       "      <td>13.40</td>\n",
       "      <td>3.91</td>\n",
       "      <td>2.48</td>\n",
       "      <td>23.0</td>\n",
       "      <td>102</td>\n",
       "      <td>1.80</td>\n",
       "      <td>0.75</td>\n",
       "      <td>0.43</td>\n",
       "      <td>1.41</td>\n",
       "      <td>7.30</td>\n",
       "      <td>0.70</td>\n",
       "      <td>1.56</td>\n",
       "      <td>750</td>\n",
       "    </tr>\n",
       "    <tr>\n",
       "      <th>175</th>\n",
       "      <td>3</td>\n",
       "      <td>13.27</td>\n",
       "      <td>4.28</td>\n",
       "      <td>2.26</td>\n",
       "      <td>20.0</td>\n",
       "      <td>120</td>\n",
       "      <td>1.59</td>\n",
       "      <td>0.69</td>\n",
       "      <td>0.43</td>\n",
       "      <td>1.35</td>\n",
       "      <td>10.20</td>\n",
       "      <td>0.59</td>\n",
       "      <td>1.56</td>\n",
       "      <td>835</td>\n",
       "    </tr>\n",
       "    <tr>\n",
       "      <th>176</th>\n",
       "      <td>3</td>\n",
       "      <td>13.17</td>\n",
       "      <td>2.59</td>\n",
       "      <td>2.37</td>\n",
       "      <td>20.0</td>\n",
       "      <td>120</td>\n",
       "      <td>1.65</td>\n",
       "      <td>0.68</td>\n",
       "      <td>0.53</td>\n",
       "      <td>1.46</td>\n",
       "      <td>9.30</td>\n",
       "      <td>0.60</td>\n",
       "      <td>1.62</td>\n",
       "      <td>840</td>\n",
       "    </tr>\n",
       "    <tr>\n",
       "      <th>177</th>\n",
       "      <td>3</td>\n",
       "      <td>14.13</td>\n",
       "      <td>4.10</td>\n",
       "      <td>2.74</td>\n",
       "      <td>24.5</td>\n",
       "      <td>96</td>\n",
       "      <td>2.05</td>\n",
       "      <td>0.76</td>\n",
       "      <td>0.56</td>\n",
       "      <td>1.35</td>\n",
       "      <td>9.20</td>\n",
       "      <td>0.61</td>\n",
       "      <td>1.60</td>\n",
       "      <td>560</td>\n",
       "    </tr>\n",
       "  </tbody>\n",
       "</table>\n",
       "<p>178 rows × 14 columns</p>\n",
       "</div>"
      ],
      "text/plain": [
       "     0      1     2     3     4    5     6     7     8     9      10    11  \\\n",
       "0     1  14.23  1.71  2.43  15.6  127  2.80  3.06  0.28  2.29   5.64  1.04   \n",
       "1     1  13.20  1.78  2.14  11.2  100  2.65  2.76  0.26  1.28   4.38  1.05   \n",
       "2     1  13.16  2.36  2.67  18.6  101  2.80  3.24  0.30  2.81   5.68  1.03   \n",
       "3     1  14.37  1.95  2.50  16.8  113  3.85  3.49  0.24  2.18   7.80  0.86   \n",
       "4     1  13.24  2.59  2.87  21.0  118  2.80  2.69  0.39  1.82   4.32  1.04   \n",
       "..   ..    ...   ...   ...   ...  ...   ...   ...   ...   ...    ...   ...   \n",
       "173   3  13.71  5.65  2.45  20.5   95  1.68  0.61  0.52  1.06   7.70  0.64   \n",
       "174   3  13.40  3.91  2.48  23.0  102  1.80  0.75  0.43  1.41   7.30  0.70   \n",
       "175   3  13.27  4.28  2.26  20.0  120  1.59  0.69  0.43  1.35  10.20  0.59   \n",
       "176   3  13.17  2.59  2.37  20.0  120  1.65  0.68  0.53  1.46   9.30  0.60   \n",
       "177   3  14.13  4.10  2.74  24.5   96  2.05  0.76  0.56  1.35   9.20  0.61   \n",
       "\n",
       "       12    13  \n",
       "0    3.92  1065  \n",
       "1    3.40  1050  \n",
       "2    3.17  1185  \n",
       "3    3.45  1480  \n",
       "4    2.93   735  \n",
       "..    ...   ...  \n",
       "173  1.74   740  \n",
       "174  1.56   750  \n",
       "175  1.56   835  \n",
       "176  1.62   840  \n",
       "177  1.60   560  \n",
       "\n",
       "[178 rows x 14 columns]"
      ]
     },
     "execution_count": 28,
     "metadata": {},
     "output_type": "execute_result"
    }
   ],
   "source": [
    "wine"
   ]
  },
  {
   "cell_type": "markdown",
   "metadata": {},
   "source": [
    "### 9. Delete the first, fourth, seventh, nineth, eleventh, thirteenth and fourteenth columns"
   ]
  },
  {
   "cell_type": "code",
   "execution_count": 29,
   "metadata": {},
   "outputs": [],
   "source": [
    "columns_to_drop = [0, 3, 6, 8, 10, 12, 13]  # Column indices to be dropped\n",
    "\n",
    "wine = wine.drop(columns=columns_to_drop, axis=1)\n"
   ]
  },
  {
   "cell_type": "markdown",
   "metadata": {},
   "source": [
    "### 10. Assign the columns as below:\n",
    "\n",
    "The attributes are (dontated by Riccardo Leardi, riclea '@' anchem.unige.it):  \n",
    "1) alcohol  \n",
    "2) malic_acid  \n",
    "3) alcalinity_of_ash  \n",
    "4) magnesium  \n",
    "5) flavanoids  \n",
    "6) proanthocyanins  \n",
    "7) hue "
   ]
  },
  {
   "cell_type": "code",
   "execution_count": 30,
   "metadata": {},
   "outputs": [],
   "source": [
    "wine.columns=(\"alcohol\", \"malic_acid\",\"alcalinity_of_ash\",\"magnesium\",\"flavanoids\",\"proanthocyanins\",\"hue\")"
   ]
  },
  {
   "cell_type": "code",
   "execution_count": 31,
   "metadata": {},
   "outputs": [
    {
     "data": {
      "text/html": [
       "<div>\n",
       "<style scoped>\n",
       "    .dataframe tbody tr th:only-of-type {\n",
       "        vertical-align: middle;\n",
       "    }\n",
       "\n",
       "    .dataframe tbody tr th {\n",
       "        vertical-align: top;\n",
       "    }\n",
       "\n",
       "    .dataframe thead th {\n",
       "        text-align: right;\n",
       "    }\n",
       "</style>\n",
       "<table border=\"1\" class=\"dataframe\">\n",
       "  <thead>\n",
       "    <tr style=\"text-align: right;\">\n",
       "      <th></th>\n",
       "      <th>alcohol</th>\n",
       "      <th>malic_acid</th>\n",
       "      <th>alcalinity_of_ash</th>\n",
       "      <th>magnesium</th>\n",
       "      <th>flavanoids</th>\n",
       "      <th>proanthocyanins</th>\n",
       "      <th>hue</th>\n",
       "    </tr>\n",
       "  </thead>\n",
       "  <tbody>\n",
       "    <tr>\n",
       "      <th>0</th>\n",
       "      <td>14.23</td>\n",
       "      <td>1.71</td>\n",
       "      <td>15.6</td>\n",
       "      <td>127</td>\n",
       "      <td>3.06</td>\n",
       "      <td>2.29</td>\n",
       "      <td>1.04</td>\n",
       "    </tr>\n",
       "    <tr>\n",
       "      <th>1</th>\n",
       "      <td>13.20</td>\n",
       "      <td>1.78</td>\n",
       "      <td>11.2</td>\n",
       "      <td>100</td>\n",
       "      <td>2.76</td>\n",
       "      <td>1.28</td>\n",
       "      <td>1.05</td>\n",
       "    </tr>\n",
       "    <tr>\n",
       "      <th>2</th>\n",
       "      <td>13.16</td>\n",
       "      <td>2.36</td>\n",
       "      <td>18.6</td>\n",
       "      <td>101</td>\n",
       "      <td>3.24</td>\n",
       "      <td>2.81</td>\n",
       "      <td>1.03</td>\n",
       "    </tr>\n",
       "    <tr>\n",
       "      <th>3</th>\n",
       "      <td>14.37</td>\n",
       "      <td>1.95</td>\n",
       "      <td>16.8</td>\n",
       "      <td>113</td>\n",
       "      <td>3.49</td>\n",
       "      <td>2.18</td>\n",
       "      <td>0.86</td>\n",
       "    </tr>\n",
       "    <tr>\n",
       "      <th>4</th>\n",
       "      <td>13.24</td>\n",
       "      <td>2.59</td>\n",
       "      <td>21.0</td>\n",
       "      <td>118</td>\n",
       "      <td>2.69</td>\n",
       "      <td>1.82</td>\n",
       "      <td>1.04</td>\n",
       "    </tr>\n",
       "    <tr>\n",
       "      <th>...</th>\n",
       "      <td>...</td>\n",
       "      <td>...</td>\n",
       "      <td>...</td>\n",
       "      <td>...</td>\n",
       "      <td>...</td>\n",
       "      <td>...</td>\n",
       "      <td>...</td>\n",
       "    </tr>\n",
       "    <tr>\n",
       "      <th>173</th>\n",
       "      <td>13.71</td>\n",
       "      <td>5.65</td>\n",
       "      <td>20.5</td>\n",
       "      <td>95</td>\n",
       "      <td>0.61</td>\n",
       "      <td>1.06</td>\n",
       "      <td>0.64</td>\n",
       "    </tr>\n",
       "    <tr>\n",
       "      <th>174</th>\n",
       "      <td>13.40</td>\n",
       "      <td>3.91</td>\n",
       "      <td>23.0</td>\n",
       "      <td>102</td>\n",
       "      <td>0.75</td>\n",
       "      <td>1.41</td>\n",
       "      <td>0.70</td>\n",
       "    </tr>\n",
       "    <tr>\n",
       "      <th>175</th>\n",
       "      <td>13.27</td>\n",
       "      <td>4.28</td>\n",
       "      <td>20.0</td>\n",
       "      <td>120</td>\n",
       "      <td>0.69</td>\n",
       "      <td>1.35</td>\n",
       "      <td>0.59</td>\n",
       "    </tr>\n",
       "    <tr>\n",
       "      <th>176</th>\n",
       "      <td>13.17</td>\n",
       "      <td>2.59</td>\n",
       "      <td>20.0</td>\n",
       "      <td>120</td>\n",
       "      <td>0.68</td>\n",
       "      <td>1.46</td>\n",
       "      <td>0.60</td>\n",
       "    </tr>\n",
       "    <tr>\n",
       "      <th>177</th>\n",
       "      <td>14.13</td>\n",
       "      <td>4.10</td>\n",
       "      <td>24.5</td>\n",
       "      <td>96</td>\n",
       "      <td>0.76</td>\n",
       "      <td>1.35</td>\n",
       "      <td>0.61</td>\n",
       "    </tr>\n",
       "  </tbody>\n",
       "</table>\n",
       "<p>178 rows × 7 columns</p>\n",
       "</div>"
      ],
      "text/plain": [
       "     alcohol  malic_acid  alcalinity_of_ash  magnesium  flavanoids  \\\n",
       "0      14.23        1.71               15.6        127        3.06   \n",
       "1      13.20        1.78               11.2        100        2.76   \n",
       "2      13.16        2.36               18.6        101        3.24   \n",
       "3      14.37        1.95               16.8        113        3.49   \n",
       "4      13.24        2.59               21.0        118        2.69   \n",
       "..       ...         ...                ...        ...         ...   \n",
       "173    13.71        5.65               20.5         95        0.61   \n",
       "174    13.40        3.91               23.0        102        0.75   \n",
       "175    13.27        4.28               20.0        120        0.69   \n",
       "176    13.17        2.59               20.0        120        0.68   \n",
       "177    14.13        4.10               24.5         96        0.76   \n",
       "\n",
       "     proanthocyanins   hue  \n",
       "0               2.29  1.04  \n",
       "1               1.28  1.05  \n",
       "2               2.81  1.03  \n",
       "3               2.18  0.86  \n",
       "4               1.82  1.04  \n",
       "..               ...   ...  \n",
       "173             1.06  0.64  \n",
       "174             1.41  0.70  \n",
       "175             1.35  0.59  \n",
       "176             1.46  0.60  \n",
       "177             1.35  0.61  \n",
       "\n",
       "[178 rows x 7 columns]"
      ]
     },
     "execution_count": 31,
     "metadata": {},
     "output_type": "execute_result"
    }
   ],
   "source": [
    "wine"
   ]
  },
  {
   "cell_type": "markdown",
   "metadata": {},
   "source": [
    "### 11. Set the values of the first 3 values from alcohol column as NaN"
   ]
  },
  {
   "cell_type": "code",
   "execution_count": 32,
   "metadata": {},
   "outputs": [],
   "source": [
    "wine.loc[:2, 'alcohol'] = float('NaN')"
   ]
  },
  {
   "cell_type": "markdown",
   "metadata": {},
   "source": [
    "### 12. Now set the value of the rows 3 and 4 of magnesium as NaN"
   ]
  },
  {
   "cell_type": "code",
   "execution_count": 33,
   "metadata": {},
   "outputs": [],
   "source": [
    "wine.loc[2:3, 'magnesium'] = float('NaN')"
   ]
  },
  {
   "cell_type": "markdown",
   "metadata": {},
   "source": [
    "### 13. Fill the value of NaN with the number 10 in alcohol and 100 in magnesium"
   ]
  },
  {
   "cell_type": "code",
   "execution_count": 34,
   "metadata": {},
   "outputs": [],
   "source": [
    "wine['alcohol'].fillna(10, inplace=True)\n",
    "wine['magnesium'].fillna(100, inplace=True)"
   ]
  },
  {
   "cell_type": "markdown",
   "metadata": {},
   "source": [
    "### 14. Count the number of missing values in all columns."
   ]
  },
  {
   "cell_type": "code",
   "execution_count": 35,
   "metadata": {},
   "outputs": [
    {
     "name": "stdout",
     "output_type": "stream",
     "text": [
      "alcohol              0\n",
      "malic_acid           0\n",
      "alcalinity_of_ash    0\n",
      "magnesium            0\n",
      "flavanoids           0\n",
      "proanthocyanins      0\n",
      "hue                  0\n",
      "dtype: int64\n"
     ]
    }
   ],
   "source": [
    "missing_values_count = wine.isna().sum()\n",
    "print(missing_values_count)"
   ]
  },
  {
   "cell_type": "markdown",
   "metadata": {},
   "source": [
    "### 15.  Create an array of 10 random numbers up until 10 and save it."
   ]
  },
  {
   "cell_type": "code",
   "execution_count": 36,
   "metadata": {},
   "outputs": [
    {
     "name": "stdout",
     "output_type": "stream",
     "text": [
      "[ 8  0  9  9  4  3  2 10  7  7]\n"
     ]
    }
   ],
   "source": [
    "random_numbers = np.random.randint(0, 11, 10)\n",
    "\n",
    "print(random_numbers)"
   ]
  },
  {
   "cell_type": "markdown",
   "metadata": {},
   "source": [
    "### 16.  Set the rows corresponding to the random numbers to NaN in the column *alcohol*"
   ]
  },
  {
   "cell_type": "code",
   "execution_count": 37,
   "metadata": {},
   "outputs": [],
   "source": [
    "wine.loc[random_numbers, 'alcohol'] = np.nan"
   ]
  },
  {
   "cell_type": "code",
   "execution_count": 38,
   "metadata": {},
   "outputs": [
    {
     "data": {
      "text/html": [
       "<div>\n",
       "<style scoped>\n",
       "    .dataframe tbody tr th:only-of-type {\n",
       "        vertical-align: middle;\n",
       "    }\n",
       "\n",
       "    .dataframe tbody tr th {\n",
       "        vertical-align: top;\n",
       "    }\n",
       "\n",
       "    .dataframe thead th {\n",
       "        text-align: right;\n",
       "    }\n",
       "</style>\n",
       "<table border=\"1\" class=\"dataframe\">\n",
       "  <thead>\n",
       "    <tr style=\"text-align: right;\">\n",
       "      <th></th>\n",
       "      <th>alcohol</th>\n",
       "      <th>malic_acid</th>\n",
       "      <th>alcalinity_of_ash</th>\n",
       "      <th>magnesium</th>\n",
       "      <th>flavanoids</th>\n",
       "      <th>proanthocyanins</th>\n",
       "      <th>hue</th>\n",
       "    </tr>\n",
       "  </thead>\n",
       "  <tbody>\n",
       "    <tr>\n",
       "      <th>0</th>\n",
       "      <td>NaN</td>\n",
       "      <td>1.71</td>\n",
       "      <td>15.6</td>\n",
       "      <td>127.0</td>\n",
       "      <td>3.06</td>\n",
       "      <td>2.29</td>\n",
       "      <td>1.04</td>\n",
       "    </tr>\n",
       "    <tr>\n",
       "      <th>1</th>\n",
       "      <td>10.00</td>\n",
       "      <td>1.78</td>\n",
       "      <td>11.2</td>\n",
       "      <td>100.0</td>\n",
       "      <td>2.76</td>\n",
       "      <td>1.28</td>\n",
       "      <td>1.05</td>\n",
       "    </tr>\n",
       "    <tr>\n",
       "      <th>2</th>\n",
       "      <td>NaN</td>\n",
       "      <td>2.36</td>\n",
       "      <td>18.6</td>\n",
       "      <td>100.0</td>\n",
       "      <td>3.24</td>\n",
       "      <td>2.81</td>\n",
       "      <td>1.03</td>\n",
       "    </tr>\n",
       "    <tr>\n",
       "      <th>3</th>\n",
       "      <td>NaN</td>\n",
       "      <td>1.95</td>\n",
       "      <td>16.8</td>\n",
       "      <td>100.0</td>\n",
       "      <td>3.49</td>\n",
       "      <td>2.18</td>\n",
       "      <td>0.86</td>\n",
       "    </tr>\n",
       "    <tr>\n",
       "      <th>4</th>\n",
       "      <td>NaN</td>\n",
       "      <td>2.59</td>\n",
       "      <td>21.0</td>\n",
       "      <td>118.0</td>\n",
       "      <td>2.69</td>\n",
       "      <td>1.82</td>\n",
       "      <td>1.04</td>\n",
       "    </tr>\n",
       "    <tr>\n",
       "      <th>...</th>\n",
       "      <td>...</td>\n",
       "      <td>...</td>\n",
       "      <td>...</td>\n",
       "      <td>...</td>\n",
       "      <td>...</td>\n",
       "      <td>...</td>\n",
       "      <td>...</td>\n",
       "    </tr>\n",
       "    <tr>\n",
       "      <th>173</th>\n",
       "      <td>13.71</td>\n",
       "      <td>5.65</td>\n",
       "      <td>20.5</td>\n",
       "      <td>95.0</td>\n",
       "      <td>0.61</td>\n",
       "      <td>1.06</td>\n",
       "      <td>0.64</td>\n",
       "    </tr>\n",
       "    <tr>\n",
       "      <th>174</th>\n",
       "      <td>13.40</td>\n",
       "      <td>3.91</td>\n",
       "      <td>23.0</td>\n",
       "      <td>102.0</td>\n",
       "      <td>0.75</td>\n",
       "      <td>1.41</td>\n",
       "      <td>0.70</td>\n",
       "    </tr>\n",
       "    <tr>\n",
       "      <th>175</th>\n",
       "      <td>13.27</td>\n",
       "      <td>4.28</td>\n",
       "      <td>20.0</td>\n",
       "      <td>120.0</td>\n",
       "      <td>0.69</td>\n",
       "      <td>1.35</td>\n",
       "      <td>0.59</td>\n",
       "    </tr>\n",
       "    <tr>\n",
       "      <th>176</th>\n",
       "      <td>13.17</td>\n",
       "      <td>2.59</td>\n",
       "      <td>20.0</td>\n",
       "      <td>120.0</td>\n",
       "      <td>0.68</td>\n",
       "      <td>1.46</td>\n",
       "      <td>0.60</td>\n",
       "    </tr>\n",
       "    <tr>\n",
       "      <th>177</th>\n",
       "      <td>14.13</td>\n",
       "      <td>4.10</td>\n",
       "      <td>24.5</td>\n",
       "      <td>96.0</td>\n",
       "      <td>0.76</td>\n",
       "      <td>1.35</td>\n",
       "      <td>0.61</td>\n",
       "    </tr>\n",
       "  </tbody>\n",
       "</table>\n",
       "<p>178 rows × 7 columns</p>\n",
       "</div>"
      ],
      "text/plain": [
       "     alcohol  malic_acid  alcalinity_of_ash  magnesium  flavanoids  \\\n",
       "0        NaN        1.71               15.6      127.0        3.06   \n",
       "1      10.00        1.78               11.2      100.0        2.76   \n",
       "2        NaN        2.36               18.6      100.0        3.24   \n",
       "3        NaN        1.95               16.8      100.0        3.49   \n",
       "4        NaN        2.59               21.0      118.0        2.69   \n",
       "..       ...         ...                ...        ...         ...   \n",
       "173    13.71        5.65               20.5       95.0        0.61   \n",
       "174    13.40        3.91               23.0      102.0        0.75   \n",
       "175    13.27        4.28               20.0      120.0        0.69   \n",
       "176    13.17        2.59               20.0      120.0        0.68   \n",
       "177    14.13        4.10               24.5       96.0        0.76   \n",
       "\n",
       "     proanthocyanins   hue  \n",
       "0               2.29  1.04  \n",
       "1               1.28  1.05  \n",
       "2               2.81  1.03  \n",
       "3               2.18  0.86  \n",
       "4               1.82  1.04  \n",
       "..               ...   ...  \n",
       "173             1.06  0.64  \n",
       "174             1.41  0.70  \n",
       "175             1.35  0.59  \n",
       "176             1.46  0.60  \n",
       "177             1.35  0.61  \n",
       "\n",
       "[178 rows x 7 columns]"
      ]
     },
     "execution_count": 38,
     "metadata": {},
     "output_type": "execute_result"
    }
   ],
   "source": [
    "wine"
   ]
  },
  {
   "cell_type": "markdown",
   "metadata": {},
   "source": [
    "### 17.  How many missing values do we have now?"
   ]
  },
  {
   "cell_type": "code",
   "execution_count": 39,
   "metadata": {},
   "outputs": [
    {
     "name": "stdout",
     "output_type": "stream",
     "text": [
      "Number of missing values in 'alcohol' column: 8\n"
     ]
    }
   ],
   "source": [
    "\n",
    "\n",
    "missing_values_alcohol = wine['alcohol'].isna().sum()\n",
    "print(\"Number of missing values in 'alcohol' column:\", missing_values_alcohol)\n"
   ]
  },
  {
   "cell_type": "markdown",
   "metadata": {},
   "source": [
    "### 18. Print only the non-null values in alcohol"
   ]
  },
  {
   "cell_type": "code",
   "execution_count": 40,
   "metadata": {},
   "outputs": [
    {
     "name": "stdout",
     "output_type": "stream",
     "text": [
      "1      10.00\n",
      "5      14.20\n",
      "6      14.39\n",
      "11     14.12\n",
      "12     13.75\n",
      "       ...  \n",
      "173    13.71\n",
      "174    13.40\n",
      "175    13.27\n",
      "176    13.17\n",
      "177    14.13\n",
      "Name: alcohol, Length: 170, dtype: float64\n"
     ]
    }
   ],
   "source": [
    "\n",
    "\n",
    "non_null_alcohol = wine['alcohol'].notnull()  # Creating a boolean mask for non-null values\n",
    "non_null_alcohol_values = wine.loc[non_null_alcohol, 'alcohol']\n",
    "\n",
    "print(non_null_alcohol_values)\n"
   ]
  },
  {
   "cell_type": "markdown",
   "metadata": {},
   "source": [
    "### 19. Delete the rows that contain missing values"
   ]
  },
  {
   "cell_type": "code",
   "execution_count": 41,
   "metadata": {},
   "outputs": [],
   "source": [
    "wine.dropna(inplace=True)"
   ]
  },
  {
   "cell_type": "markdown",
   "metadata": {},
   "source": [
    "### 20.  Reset the index, so it starts with 0 again"
   ]
  },
  {
   "cell_type": "code",
   "execution_count": 42,
   "metadata": {},
   "outputs": [],
   "source": [
    "wine.reset_index(drop=True, inplace=True)"
   ]
  },
  {
   "cell_type": "code",
   "execution_count": 43,
   "metadata": {},
   "outputs": [
    {
     "data": {
      "text/html": [
       "<div>\n",
       "<style scoped>\n",
       "    .dataframe tbody tr th:only-of-type {\n",
       "        vertical-align: middle;\n",
       "    }\n",
       "\n",
       "    .dataframe tbody tr th {\n",
       "        vertical-align: top;\n",
       "    }\n",
       "\n",
       "    .dataframe thead th {\n",
       "        text-align: right;\n",
       "    }\n",
       "</style>\n",
       "<table border=\"1\" class=\"dataframe\">\n",
       "  <thead>\n",
       "    <tr style=\"text-align: right;\">\n",
       "      <th></th>\n",
       "      <th>alcohol</th>\n",
       "      <th>malic_acid</th>\n",
       "      <th>alcalinity_of_ash</th>\n",
       "      <th>magnesium</th>\n",
       "      <th>flavanoids</th>\n",
       "      <th>proanthocyanins</th>\n",
       "      <th>hue</th>\n",
       "    </tr>\n",
       "  </thead>\n",
       "  <tbody>\n",
       "    <tr>\n",
       "      <th>0</th>\n",
       "      <td>10.00</td>\n",
       "      <td>1.78</td>\n",
       "      <td>11.2</td>\n",
       "      <td>100.0</td>\n",
       "      <td>2.76</td>\n",
       "      <td>1.28</td>\n",
       "      <td>1.05</td>\n",
       "    </tr>\n",
       "    <tr>\n",
       "      <th>1</th>\n",
       "      <td>14.20</td>\n",
       "      <td>1.76</td>\n",
       "      <td>15.2</td>\n",
       "      <td>112.0</td>\n",
       "      <td>3.39</td>\n",
       "      <td>1.97</td>\n",
       "      <td>1.05</td>\n",
       "    </tr>\n",
       "    <tr>\n",
       "      <th>2</th>\n",
       "      <td>14.39</td>\n",
       "      <td>1.87</td>\n",
       "      <td>14.6</td>\n",
       "      <td>96.0</td>\n",
       "      <td>2.52</td>\n",
       "      <td>1.98</td>\n",
       "      <td>1.02</td>\n",
       "    </tr>\n",
       "    <tr>\n",
       "      <th>3</th>\n",
       "      <td>14.12</td>\n",
       "      <td>1.48</td>\n",
       "      <td>16.8</td>\n",
       "      <td>95.0</td>\n",
       "      <td>2.43</td>\n",
       "      <td>1.57</td>\n",
       "      <td>1.17</td>\n",
       "    </tr>\n",
       "    <tr>\n",
       "      <th>4</th>\n",
       "      <td>13.75</td>\n",
       "      <td>1.73</td>\n",
       "      <td>16.0</td>\n",
       "      <td>89.0</td>\n",
       "      <td>2.76</td>\n",
       "      <td>1.81</td>\n",
       "      <td>1.15</td>\n",
       "    </tr>\n",
       "    <tr>\n",
       "      <th>...</th>\n",
       "      <td>...</td>\n",
       "      <td>...</td>\n",
       "      <td>...</td>\n",
       "      <td>...</td>\n",
       "      <td>...</td>\n",
       "      <td>...</td>\n",
       "      <td>...</td>\n",
       "    </tr>\n",
       "    <tr>\n",
       "      <th>165</th>\n",
       "      <td>13.71</td>\n",
       "      <td>5.65</td>\n",
       "      <td>20.5</td>\n",
       "      <td>95.0</td>\n",
       "      <td>0.61</td>\n",
       "      <td>1.06</td>\n",
       "      <td>0.64</td>\n",
       "    </tr>\n",
       "    <tr>\n",
       "      <th>166</th>\n",
       "      <td>13.40</td>\n",
       "      <td>3.91</td>\n",
       "      <td>23.0</td>\n",
       "      <td>102.0</td>\n",
       "      <td>0.75</td>\n",
       "      <td>1.41</td>\n",
       "      <td>0.70</td>\n",
       "    </tr>\n",
       "    <tr>\n",
       "      <th>167</th>\n",
       "      <td>13.27</td>\n",
       "      <td>4.28</td>\n",
       "      <td>20.0</td>\n",
       "      <td>120.0</td>\n",
       "      <td>0.69</td>\n",
       "      <td>1.35</td>\n",
       "      <td>0.59</td>\n",
       "    </tr>\n",
       "    <tr>\n",
       "      <th>168</th>\n",
       "      <td>13.17</td>\n",
       "      <td>2.59</td>\n",
       "      <td>20.0</td>\n",
       "      <td>120.0</td>\n",
       "      <td>0.68</td>\n",
       "      <td>1.46</td>\n",
       "      <td>0.60</td>\n",
       "    </tr>\n",
       "    <tr>\n",
       "      <th>169</th>\n",
       "      <td>14.13</td>\n",
       "      <td>4.10</td>\n",
       "      <td>24.5</td>\n",
       "      <td>96.0</td>\n",
       "      <td>0.76</td>\n",
       "      <td>1.35</td>\n",
       "      <td>0.61</td>\n",
       "    </tr>\n",
       "  </tbody>\n",
       "</table>\n",
       "<p>170 rows × 7 columns</p>\n",
       "</div>"
      ],
      "text/plain": [
       "     alcohol  malic_acid  alcalinity_of_ash  magnesium  flavanoids  \\\n",
       "0      10.00        1.78               11.2      100.0        2.76   \n",
       "1      14.20        1.76               15.2      112.0        3.39   \n",
       "2      14.39        1.87               14.6       96.0        2.52   \n",
       "3      14.12        1.48               16.8       95.0        2.43   \n",
       "4      13.75        1.73               16.0       89.0        2.76   \n",
       "..       ...         ...                ...        ...         ...   \n",
       "165    13.71        5.65               20.5       95.0        0.61   \n",
       "166    13.40        3.91               23.0      102.0        0.75   \n",
       "167    13.27        4.28               20.0      120.0        0.69   \n",
       "168    13.17        2.59               20.0      120.0        0.68   \n",
       "169    14.13        4.10               24.5       96.0        0.76   \n",
       "\n",
       "     proanthocyanins   hue  \n",
       "0               1.28  1.05  \n",
       "1               1.97  1.05  \n",
       "2               1.98  1.02  \n",
       "3               1.57  1.17  \n",
       "4               1.81  1.15  \n",
       "..               ...   ...  \n",
       "165             1.06  0.64  \n",
       "166             1.41  0.70  \n",
       "167             1.35  0.59  \n",
       "168             1.46  0.60  \n",
       "169             1.35  0.61  \n",
       "\n",
       "[170 rows x 7 columns]"
      ]
     },
     "execution_count": 43,
     "metadata": {},
     "output_type": "execute_result"
    }
   ],
   "source": [
    "wine"
   ]
  },
  {
   "cell_type": "markdown",
   "metadata": {},
   "source": [
    "## Section-3: The pupose of the below exercise (21-27) is to understand ***filtering & sorting*** data from dataframe.\n",
    "## The below exercises required to use chipotle.tsv"
   ]
  },
  {
   "cell_type": "markdown",
   "metadata": {},
   "source": [
    "This time we are going to pull data directly from the internet.  \n",
    "Import the dataset directly from this link (https://raw.githubusercontent.com/justmarkham/DAT8/master/data/chipotle.tsv) and create dataframe called chipo"
   ]
  },
  {
   "cell_type": "code",
   "execution_count": 44,
   "metadata": {},
   "outputs": [],
   "source": [
    "chipo=pd.read_csv(\"https://raw.githubusercontent.com/justmarkham/DAT8/master/data/chipotle.tsv\",sep='\\t')"
   ]
  },
  {
   "cell_type": "markdown",
   "metadata": {},
   "source": [
    "### 21. How many products cost more than $10.00? \n",
    "\n",
    "Use `str` attribute to remove the $ sign and convert the column to proper numeric type data before filtering.\n"
   ]
  },
  {
   "cell_type": "code",
   "execution_count": 45,
   "metadata": {},
   "outputs": [
    {
     "name": "stdout",
     "output_type": "stream",
     "text": [
      "Number of products that cost more than $10.00: 1130\n"
     ]
    }
   ],
   "source": [
    "\n",
    "# Remove the '$' sign and convert 'item_price' column to numeric\n",
    "chipo['item_price'] = chipo['item_price'].str.slice(start=1).astype(np.float64)\n",
    "\n",
    "# Filter products that cost more than $10.00 and count them\n",
    "products_over_10 = chipo[chipo['item_price'] > 10.00]\n",
    "count_products_over_10 = len(products_over_10)\n",
    "\n",
    "print(f\"Number of products that cost more than $10.00: {count_products_over_10}\")\n"
   ]
  },
  {
   "cell_type": "markdown",
   "metadata": {},
   "source": [
    "### 22. Print the Chipo Dataframe & info about data frame"
   ]
  },
  {
   "cell_type": "code",
   "execution_count": 46,
   "metadata": {},
   "outputs": [
    {
     "name": "stdout",
     "output_type": "stream",
     "text": [
      "Chipo DataFrame:\n",
      "      order_id  quantity                              item_name  \\\n",
      "0            1         1           Chips and Fresh Tomato Salsa   \n",
      "1            1         1                                   Izze   \n",
      "2            1         1                       Nantucket Nectar   \n",
      "3            1         1  Chips and Tomatillo-Green Chili Salsa   \n",
      "4            2         2                           Chicken Bowl   \n",
      "...        ...       ...                                    ...   \n",
      "4617      1833         1                          Steak Burrito   \n",
      "4618      1833         1                          Steak Burrito   \n",
      "4619      1834         1                     Chicken Salad Bowl   \n",
      "4620      1834         1                     Chicken Salad Bowl   \n",
      "4621      1834         1                     Chicken Salad Bowl   \n",
      "\n",
      "                                     choice_description  item_price  \n",
      "0                                                   NaN        2.39  \n",
      "1                                          [Clementine]        3.39  \n",
      "2                                               [Apple]        3.39  \n",
      "3                                                   NaN        2.39  \n",
      "4     [Tomatillo-Red Chili Salsa (Hot), [Black Beans...       16.98  \n",
      "...                                                 ...         ...  \n",
      "4617  [Fresh Tomato Salsa, [Rice, Black Beans, Sour ...       11.75  \n",
      "4618  [Fresh Tomato Salsa, [Rice, Sour Cream, Cheese...       11.75  \n",
      "4619  [Fresh Tomato Salsa, [Fajita Vegetables, Pinto...       11.25  \n",
      "4620  [Fresh Tomato Salsa, [Fajita Vegetables, Lettu...        8.75  \n",
      "4621  [Fresh Tomato Salsa, [Fajita Vegetables, Pinto...        8.75  \n",
      "\n",
      "[4622 rows x 5 columns]\n",
      "\n",
      "Information about the Chipo DataFrame:\n",
      "<class 'pandas.core.frame.DataFrame'>\n",
      "RangeIndex: 4622 entries, 0 to 4621\n",
      "Data columns (total 5 columns):\n",
      " #   Column              Non-Null Count  Dtype  \n",
      "---  ------              --------------  -----  \n",
      " 0   order_id            4622 non-null   int64  \n",
      " 1   quantity            4622 non-null   int64  \n",
      " 2   item_name           4622 non-null   object \n",
      " 3   choice_description  3376 non-null   object \n",
      " 4   item_price          4622 non-null   float64\n",
      "dtypes: float64(1), int64(2), object(2)\n",
      "memory usage: 180.7+ KB\n",
      "None\n"
     ]
    }
   ],
   "source": [
    "\n",
    "\n",
    "# Print the 'chipo' DataFrame\n",
    "print(\"Chipo DataFrame:\")\n",
    "print(chipo)\n",
    "\n",
    "# Get information about the 'chipo' DataFrame\n",
    "print(\"\\nInformation about the Chipo DataFrame:\")\n",
    "print(chipo.info())\n"
   ]
  },
  {
   "cell_type": "markdown",
   "metadata": {},
   "source": [
    "### 23. What is the price of each item? \n",
    "- Delete the duplicates in item_name and quantity\n",
    "- Print a data frame with only two columns `item_name` and `item_price`\n",
    "- Sort the values from the most to less expensive"
   ]
  },
  {
   "cell_type": "code",
   "execution_count": 47,
   "metadata": {},
   "outputs": [
    {
     "name": "stdout",
     "output_type": "stream",
     "text": [
      "Data frame with item_name and item_price:\n",
      "                  item_name  item_price\n",
      "606        Steak Salad Bowl       11.89\n",
      "1132    Carnitas Salad Bowl       11.89\n",
      "1229    Barbacoa Salad Bowl       11.89\n",
      "281        Steak Salad Bowl       11.89\n",
      "168   Barbacoa Crispy Tacos       11.75\n",
      "...                     ...         ...\n",
      "28              Canned Soda        1.09\n",
      "18              Canned Soda        1.09\n",
      "34            Bottled Water        1.09\n",
      "2235            Canned Soda        1.09\n",
      "818           Bottled Water        1.09\n",
      "\n",
      "[103 rows x 2 columns]\n"
     ]
    }
   ],
   "source": [
    "\n",
    "# Calculate the price of each item\n",
    "chipo['item_price'] = chipo['item_price'] / chipo['quantity']\n",
    "\n",
    "# Remove duplicates in 'item_name' and 'quantity'\n",
    "chipo_filtered = chipo.drop_duplicates(['item_name', 'quantity'])\n",
    "\n",
    "# Create a DataFrame with 'item_name' and 'item_price' columns\n",
    "item_prices = chipo_filtered[['item_name', 'item_price']]\n",
    "\n",
    "# Sort the values from most to least expensive\n",
    "sorted_items = item_prices.sort_values(by='item_price', ascending=False)\n",
    "\n",
    "print(\"Data frame with item_name and item_price:\")\n",
    "print(sorted_items)\n"
   ]
  },
  {
   "cell_type": "markdown",
   "metadata": {},
   "source": [
    "### 24. Sort by the name of the item"
   ]
  },
  {
   "cell_type": "code",
   "execution_count": 48,
   "metadata": {},
   "outputs": [
    {
     "name": "stdout",
     "output_type": "stream",
     "text": [
      "Sorted DataFrame by item_name:\n",
      "      order_id  quantity          item_name  \\\n",
      "3389      1360         2  6 Pack Soft Drink   \n",
      "341        148         1  6 Pack Soft Drink   \n",
      "1849       749         1  6 Pack Soft Drink   \n",
      "1860       754         1  6 Pack Soft Drink   \n",
      "2713      1076         1  6 Pack Soft Drink   \n",
      "...        ...       ...                ...   \n",
      "2384       948         1  Veggie Soft Tacos   \n",
      "781        322         1  Veggie Soft Tacos   \n",
      "2851      1132         1  Veggie Soft Tacos   \n",
      "1699       688         1  Veggie Soft Tacos   \n",
      "1395       567         1  Veggie Soft Tacos   \n",
      "\n",
      "                                     choice_description  item_price  \n",
      "3389                                        [Diet Coke]        6.49  \n",
      "341                                         [Diet Coke]        6.49  \n",
      "1849                                             [Coke]        6.49  \n",
      "1860                                        [Diet Coke]        6.49  \n",
      "2713                                             [Coke]        6.49  \n",
      "...                                                 ...         ...  \n",
      "2384  [Roasted Chili Corn Salsa, [Fajita Vegetables,...        8.75  \n",
      "781   [Fresh Tomato Salsa, [Black Beans, Cheese, Sou...        8.75  \n",
      "2851  [Roasted Chili Corn Salsa (Medium), [Black Bea...        8.49  \n",
      "1699  [Fresh Tomato Salsa, [Fajita Vegetables, Rice,...       11.25  \n",
      "1395  [Fresh Tomato Salsa (Mild), [Pinto Beans, Rice...        8.49  \n",
      "\n",
      "[4622 rows x 5 columns]\n"
     ]
    }
   ],
   "source": [
    "\n",
    "\n",
    "# Sort the DataFrame by the 'item_name' column\n",
    "sorted_by_item_name = chipo.sort_values(by='item_name')\n",
    "\n",
    "print(\"Sorted DataFrame by item_name:\")\n",
    "print(sorted_by_item_name)\n"
   ]
  },
  {
   "cell_type": "markdown",
   "metadata": {},
   "source": [
    "### 25. What was the quantity of the most expensive item ordered?"
   ]
  },
  {
   "cell_type": "code",
   "execution_count": 49,
   "metadata": {},
   "outputs": [
    {
     "name": "stdout",
     "output_type": "stream",
     "text": [
      "Quantity of the most expensive item ordered: 1\n"
     ]
    }
   ],
   "source": [
    "\n",
    "\n",
    "# Calculate the price of each item\n",
    "chipo['item_price'] = chipo['item_price'] / chipo['quantity']\n",
    "\n",
    "# Find the most expensive item\n",
    "most_expensive_item = chipo[chipo['item_price'] == chipo['item_price'].max()]\n",
    "\n",
    "# Get the quantity of the most expensive item ordered\n",
    "quantity_most_expensive = most_expensive_item['quantity'].values[0]\n",
    "\n",
    "print(f\"Quantity of the most expensive item ordered: {quantity_most_expensive}\")\n"
   ]
  },
  {
   "cell_type": "markdown",
   "metadata": {},
   "source": [
    "### 26. How many times were a Veggie Salad Bowl ordered?"
   ]
  },
  {
   "cell_type": "code",
   "execution_count": 50,
   "metadata": {},
   "outputs": [
    {
     "name": "stdout",
     "output_type": "stream",
     "text": [
      "Number of times Veggie Salad Bowl was ordered: 18\n"
     ]
    }
   ],
   "source": [
    "\n",
    "veggie_salad_bowl_count = len(chipo[chipo['item_name'] == 'Veggie Salad Bowl'])\n",
    "\n",
    "print(f\"Number of times Veggie Salad Bowl was ordered: {veggie_salad_bowl_count}\")\n"
   ]
  },
  {
   "cell_type": "markdown",
   "metadata": {},
   "source": [
    "### 27. How many times people orderd more than one Canned Soda?"
   ]
  },
  {
   "cell_type": "code",
   "execution_count": 51,
   "metadata": {},
   "outputs": [
    {
     "name": "stdout",
     "output_type": "stream",
     "text": [
      "Number of times more than one Canned Soda was ordered: 20\n"
     ]
    }
   ],
   "source": [
    "\n",
    "# Count the occurrences of 'Canned Soda' with quantity greater than 1\n",
    "canned_soda_multiple_orders = len(chipo[(chipo['item_name'] == 'Canned Soda') & (chipo['quantity'] > 1)])\n",
    "\n",
    "print(f\"Number of times more than one Canned Soda was ordered: {canned_soda_multiple_orders}\")\n"
   ]
  },
  {
   "cell_type": "markdown",
   "metadata": {},
   "source": [
    "## Section-4: The purpose of the below exercises is to understand how to perform aggregations of data frame\n",
    "## The below exercises (28-33) required to use occupation.csv"
   ]
  },
  {
   "cell_type": "markdown",
   "metadata": {},
   "source": [
    "###  28. Import the dataset occupation.csv and assign object as users"
   ]
  },
  {
   "cell_type": "code",
   "execution_count": 52,
   "metadata": {},
   "outputs": [],
   "source": [
    "\n",
    "# Importing the dataset into a DataFrame 'users'\n",
    "users = pd.read_csv(r\"C:\\Users\\hp\\Downloads\\Basic Data Manipulation - Visualization Exercise\\2. Basic Data Manipulation - Visualization Exercise\\Exercise Data Files\\occupation.csv\",sep=\"|\")\n",
    "\n"
   ]
  },
  {
   "cell_type": "code",
   "execution_count": 53,
   "metadata": {},
   "outputs": [
    {
     "data": {
      "text/html": [
       "<div>\n",
       "<style scoped>\n",
       "    .dataframe tbody tr th:only-of-type {\n",
       "        vertical-align: middle;\n",
       "    }\n",
       "\n",
       "    .dataframe tbody tr th {\n",
       "        vertical-align: top;\n",
       "    }\n",
       "\n",
       "    .dataframe thead th {\n",
       "        text-align: right;\n",
       "    }\n",
       "</style>\n",
       "<table border=\"1\" class=\"dataframe\">\n",
       "  <thead>\n",
       "    <tr style=\"text-align: right;\">\n",
       "      <th></th>\n",
       "      <th>user_id</th>\n",
       "      <th>age</th>\n",
       "      <th>gender</th>\n",
       "      <th>occupation</th>\n",
       "      <th>zip_code</th>\n",
       "    </tr>\n",
       "  </thead>\n",
       "  <tbody>\n",
       "    <tr>\n",
       "      <th>0</th>\n",
       "      <td>1</td>\n",
       "      <td>24</td>\n",
       "      <td>M</td>\n",
       "      <td>technician</td>\n",
       "      <td>85711</td>\n",
       "    </tr>\n",
       "    <tr>\n",
       "      <th>1</th>\n",
       "      <td>2</td>\n",
       "      <td>53</td>\n",
       "      <td>F</td>\n",
       "      <td>other</td>\n",
       "      <td>94043</td>\n",
       "    </tr>\n",
       "    <tr>\n",
       "      <th>2</th>\n",
       "      <td>3</td>\n",
       "      <td>23</td>\n",
       "      <td>M</td>\n",
       "      <td>writer</td>\n",
       "      <td>32067</td>\n",
       "    </tr>\n",
       "    <tr>\n",
       "      <th>3</th>\n",
       "      <td>4</td>\n",
       "      <td>24</td>\n",
       "      <td>M</td>\n",
       "      <td>technician</td>\n",
       "      <td>43537</td>\n",
       "    </tr>\n",
       "    <tr>\n",
       "      <th>4</th>\n",
       "      <td>5</td>\n",
       "      <td>33</td>\n",
       "      <td>F</td>\n",
       "      <td>other</td>\n",
       "      <td>15213</td>\n",
       "    </tr>\n",
       "    <tr>\n",
       "      <th>...</th>\n",
       "      <td>...</td>\n",
       "      <td>...</td>\n",
       "      <td>...</td>\n",
       "      <td>...</td>\n",
       "      <td>...</td>\n",
       "    </tr>\n",
       "    <tr>\n",
       "      <th>938</th>\n",
       "      <td>939</td>\n",
       "      <td>26</td>\n",
       "      <td>F</td>\n",
       "      <td>student</td>\n",
       "      <td>33319</td>\n",
       "    </tr>\n",
       "    <tr>\n",
       "      <th>939</th>\n",
       "      <td>940</td>\n",
       "      <td>32</td>\n",
       "      <td>M</td>\n",
       "      <td>administrator</td>\n",
       "      <td>02215</td>\n",
       "    </tr>\n",
       "    <tr>\n",
       "      <th>940</th>\n",
       "      <td>941</td>\n",
       "      <td>20</td>\n",
       "      <td>M</td>\n",
       "      <td>student</td>\n",
       "      <td>97229</td>\n",
       "    </tr>\n",
       "    <tr>\n",
       "      <th>941</th>\n",
       "      <td>942</td>\n",
       "      <td>48</td>\n",
       "      <td>F</td>\n",
       "      <td>librarian</td>\n",
       "      <td>78209</td>\n",
       "    </tr>\n",
       "    <tr>\n",
       "      <th>942</th>\n",
       "      <td>943</td>\n",
       "      <td>22</td>\n",
       "      <td>M</td>\n",
       "      <td>student</td>\n",
       "      <td>77841</td>\n",
       "    </tr>\n",
       "  </tbody>\n",
       "</table>\n",
       "<p>943 rows × 5 columns</p>\n",
       "</div>"
      ],
      "text/plain": [
       "     user_id  age gender     occupation zip_code\n",
       "0          1   24      M     technician    85711\n",
       "1          2   53      F          other    94043\n",
       "2          3   23      M         writer    32067\n",
       "3          4   24      M     technician    43537\n",
       "4          5   33      F          other    15213\n",
       "..       ...  ...    ...            ...      ...\n",
       "938      939   26      F        student    33319\n",
       "939      940   32      M  administrator    02215\n",
       "940      941   20      M        student    97229\n",
       "941      942   48      F      librarian    78209\n",
       "942      943   22      M        student    77841\n",
       "\n",
       "[943 rows x 5 columns]"
      ]
     },
     "execution_count": 53,
     "metadata": {},
     "output_type": "execute_result"
    }
   ],
   "source": [
    "users"
   ]
  },
  {
   "cell_type": "markdown",
   "metadata": {},
   "source": [
    "### 29. Discover what is the mean age per occupation"
   ]
  },
  {
   "cell_type": "code",
   "execution_count": 54,
   "metadata": {},
   "outputs": [
    {
     "name": "stdout",
     "output_type": "stream",
     "text": [
      "occupation\n",
      "administrator    38.746835\n",
      "artist           31.392857\n",
      "doctor           43.571429\n",
      "educator         42.010526\n",
      "engineer         36.388060\n",
      "entertainment    29.222222\n",
      "executive        38.718750\n",
      "healthcare       41.562500\n",
      "homemaker        32.571429\n",
      "lawyer           36.750000\n",
      "librarian        40.000000\n",
      "marketing        37.615385\n",
      "none             26.555556\n",
      "other            34.523810\n",
      "programmer       33.121212\n",
      "retired          63.071429\n",
      "salesman         35.666667\n",
      "scientist        35.548387\n",
      "student          22.081633\n",
      "technician       33.148148\n",
      "writer           36.311111\n",
      "Name: age, dtype: float64\n"
     ]
    }
   ],
   "source": [
    "\n",
    "# Calculate the mean age per occupation\n",
    "mean_age_per_occupation = users.groupby('occupation')['age'].mean()\n",
    "\n",
    "print(mean_age_per_occupation)\n"
   ]
  },
  {
   "cell_type": "markdown",
   "metadata": {},
   "source": [
    "### 30. Discover the Male ratio per occupation and sort it from the most to the least.\n",
    "\n",
    "Use numpy.where() to encode gender column."
   ]
  },
  {
   "cell_type": "code",
   "execution_count": 55,
   "metadata": {},
   "outputs": [
    {
     "name": "stdout",
     "output_type": "stream",
     "text": [
      "Male ratio per occupation (sorted from most to least):\n",
      "occupation\n",
      "doctor           1.000000\n",
      "engineer         0.970149\n",
      "technician       0.962963\n",
      "retired          0.928571\n",
      "programmer       0.909091\n",
      "executive        0.906250\n",
      "scientist        0.903226\n",
      "entertainment    0.888889\n",
      "lawyer           0.833333\n",
      "salesman         0.750000\n",
      "educator         0.726316\n",
      "student          0.693878\n",
      "other            0.657143\n",
      "marketing        0.615385\n",
      "writer           0.577778\n",
      "none             0.555556\n",
      "administrator    0.544304\n",
      "artist           0.535714\n",
      "librarian        0.431373\n",
      "healthcare       0.312500\n",
      "homemaker        0.142857\n",
      "Name: gender_encoded, dtype: float64\n"
     ]
    }
   ],
   "source": [
    "\n",
    "# Encode gender column to numeric values (1 for male, 0 for female)\n",
    "users['gender_encoded'] = np.where(users['gender'] == 'M', 1, 0)\n",
    "\n",
    "# Calculate the male ratio per occupation\n",
    "male_ratio_per_occupation = users.groupby('occupation')['gender_encoded'].mean().sort_values(ascending=False)\n",
    "\n",
    "print(\"Male ratio per occupation (sorted from most to least):\")\n",
    "print(male_ratio_per_occupation)\n"
   ]
  },
  {
   "cell_type": "markdown",
   "metadata": {},
   "source": [
    "### 31. For each occupation, calculate the minimum and maximum ages"
   ]
  },
  {
   "cell_type": "code",
   "execution_count": 56,
   "metadata": {},
   "outputs": [
    {
     "name": "stdout",
     "output_type": "stream",
     "text": [
      "Minimum and maximum ages per occupation:\n",
      "               min  max\n",
      "occupation             \n",
      "administrator   21   70\n",
      "artist          19   48\n",
      "doctor          28   64\n",
      "educator        23   63\n",
      "engineer        22   70\n",
      "entertainment   15   50\n",
      "executive       22   69\n",
      "healthcare      22   62\n",
      "homemaker       20   50\n",
      "lawyer          21   53\n",
      "librarian       23   69\n",
      "marketing       24   55\n",
      "none            11   55\n",
      "other           13   64\n",
      "programmer      20   63\n",
      "retired         51   73\n",
      "salesman        18   66\n",
      "scientist       23   55\n",
      "student          7   42\n",
      "technician      21   55\n",
      "writer          18   60\n"
     ]
    }
   ],
   "source": [
    "\n",
    "# Calculate the minimum and maximum ages per occupation\n",
    "min_max_ages_per_occupation = users.groupby('occupation')['age'].agg(['min', 'max'])\n",
    "\n",
    "print(\"Minimum and maximum ages per occupation:\")\n",
    "print(min_max_ages_per_occupation)\n"
   ]
  },
  {
   "cell_type": "markdown",
   "metadata": {},
   "source": [
    "### 32. For each combination of occupation and gender, calculate the mean age"
   ]
  },
  {
   "cell_type": "code",
   "execution_count": 57,
   "metadata": {},
   "outputs": [
    {
     "name": "stdout",
     "output_type": "stream",
     "text": [
      "Mean age for each combination of occupation and gender:\n",
      "occupation     gender\n",
      "administrator  F         40.638889\n",
      "               M         37.162791\n",
      "artist         F         30.307692\n",
      "               M         32.333333\n",
      "doctor         M         43.571429\n",
      "educator       F         39.115385\n",
      "               M         43.101449\n",
      "engineer       F         29.500000\n",
      "               M         36.600000\n",
      "entertainment  F         31.000000\n",
      "               M         29.000000\n",
      "executive      F         44.000000\n",
      "               M         38.172414\n",
      "healthcare     F         39.818182\n",
      "               M         45.400000\n",
      "homemaker      F         34.166667\n",
      "               M         23.000000\n",
      "lawyer         F         39.500000\n",
      "               M         36.200000\n",
      "librarian      F         40.000000\n",
      "               M         40.000000\n",
      "marketing      F         37.200000\n",
      "               M         37.875000\n",
      "none           F         36.500000\n",
      "               M         18.600000\n",
      "other          F         35.472222\n",
      "               M         34.028986\n",
      "programmer     F         32.166667\n",
      "               M         33.216667\n",
      "retired        F         70.000000\n",
      "               M         62.538462\n",
      "salesman       F         27.000000\n",
      "               M         38.555556\n",
      "scientist      F         28.333333\n",
      "               M         36.321429\n",
      "student        F         20.750000\n",
      "               M         22.669118\n",
      "technician     F         38.000000\n",
      "               M         32.961538\n",
      "writer         F         37.631579\n",
      "               M         35.346154\n",
      "Name: age, dtype: float64\n"
     ]
    }
   ],
   "source": [
    "\n",
    "# Calculate the mean age for each combination of occupation and gender\n",
    "mean_age_combination = users.groupby(['occupation', 'gender'])['age'].mean()\n",
    "\n",
    "print(\"Mean age for each combination of occupation and gender:\")\n",
    "print(mean_age_combination)\n"
   ]
  },
  {
   "cell_type": "markdown",
   "metadata": {},
   "source": [
    "### 33.  For each occupation present the percentage of women and men"
   ]
  },
  {
   "cell_type": "code",
   "execution_count": 58,
   "metadata": {},
   "outputs": [
    {
     "name": "stdout",
     "output_type": "stream",
     "text": [
      "Percentage of women and men for each occupation:\n",
      "gender                 F           M\n",
      "occupation                          \n",
      "administrator  45.569620   54.430380\n",
      "artist         46.428571   53.571429\n",
      "doctor               NaN  100.000000\n",
      "educator       27.368421   72.631579\n",
      "engineer        2.985075   97.014925\n",
      "entertainment  11.111111   88.888889\n",
      "executive       9.375000   90.625000\n",
      "healthcare     68.750000   31.250000\n",
      "homemaker      85.714286   14.285714\n",
      "lawyer         16.666667   83.333333\n",
      "librarian      56.862745   43.137255\n",
      "marketing      38.461538   61.538462\n",
      "none           44.444444   55.555556\n",
      "other          34.285714   65.714286\n",
      "programmer      9.090909   90.909091\n",
      "retired         7.142857   92.857143\n",
      "salesman       25.000000   75.000000\n",
      "scientist       9.677419   90.322581\n",
      "student        30.612245   69.387755\n",
      "technician      3.703704   96.296296\n",
      "writer         42.222222   57.777778\n"
     ]
    }
   ],
   "source": [
    "\n",
    "# Calculate the count of each gender per occupation\n",
    "gender_counts = users.groupby(['occupation', 'gender']).size().unstack()\n",
    "\n",
    "# Calculate the total count of each occupation\n",
    "occupation_totals = gender_counts.sum(axis=1)\n",
    "\n",
    "# Calculate the percentage of women and men for each occupation\n",
    "percentage_gender_per_occupation = gender_counts.div(occupation_totals, axis=0) * 100\n",
    "\n",
    "print(\"Percentage of women and men for each occupation:\")\n",
    "print(percentage_gender_per_occupation)\n"
   ]
  },
  {
   "cell_type": "markdown",
   "metadata": {},
   "source": [
    "## Section-6: The purpose of the below exercises is to understand how to use lambda-apply-functions\n",
    "## The below exercises (34-41) required to use student-mat.csv and student-por.csv files "
   ]
  },
  {
   "cell_type": "markdown",
   "metadata": {},
   "source": [
    "### 34. Import the datasets *student-mat* and *student-por* and append them and assigned object as df"
   ]
  },
  {
   "cell_type": "code",
   "execution_count": 59,
   "metadata": {},
   "outputs": [],
   "source": [
    "\n",
    "d1 = pd.read_csv(r\"C:\\Users\\hp\\Downloads\\Basic Data Manipulation - Visualization Exercise\\2. Basic Data Manipulation - Visualization Exercise\\Exercise Data Files\\student-mat.csv\")\n",
    "d2 = pd.read_csv(r\"C:\\Users\\hp\\Downloads\\Basic Data Manipulation - Visualization Exercise\\2. Basic Data Manipulation - Visualization Exercise\\Exercise Data Files\\student-por.csv\")\n",
    "\n",
    "# Append the datasets and assign to 'd'\n",
    "d = pd.concat([d1,d2])\n"
   ]
  },
  {
   "cell_type": "code",
   "execution_count": 60,
   "metadata": {},
   "outputs": [
    {
     "data": {
      "text/html": [
       "<div>\n",
       "<style scoped>\n",
       "    .dataframe tbody tr th:only-of-type {\n",
       "        vertical-align: middle;\n",
       "    }\n",
       "\n",
       "    .dataframe tbody tr th {\n",
       "        vertical-align: top;\n",
       "    }\n",
       "\n",
       "    .dataframe thead th {\n",
       "        text-align: right;\n",
       "    }\n",
       "</style>\n",
       "<table border=\"1\" class=\"dataframe\">\n",
       "  <thead>\n",
       "    <tr style=\"text-align: right;\">\n",
       "      <th></th>\n",
       "      <th>school</th>\n",
       "      <th>sex</th>\n",
       "      <th>age</th>\n",
       "      <th>address</th>\n",
       "      <th>famsize</th>\n",
       "      <th>Pstatus</th>\n",
       "      <th>Medu</th>\n",
       "      <th>Fedu</th>\n",
       "      <th>Mjob</th>\n",
       "      <th>Fjob</th>\n",
       "      <th>...</th>\n",
       "      <th>famrel</th>\n",
       "      <th>freetime</th>\n",
       "      <th>goout</th>\n",
       "      <th>Dalc</th>\n",
       "      <th>Walc</th>\n",
       "      <th>health</th>\n",
       "      <th>absences</th>\n",
       "      <th>G1</th>\n",
       "      <th>G2</th>\n",
       "      <th>G3</th>\n",
       "    </tr>\n",
       "  </thead>\n",
       "  <tbody>\n",
       "    <tr>\n",
       "      <th>0</th>\n",
       "      <td>GP</td>\n",
       "      <td>F</td>\n",
       "      <td>18</td>\n",
       "      <td>U</td>\n",
       "      <td>GT3</td>\n",
       "      <td>A</td>\n",
       "      <td>4</td>\n",
       "      <td>4</td>\n",
       "      <td>at_home</td>\n",
       "      <td>teacher</td>\n",
       "      <td>...</td>\n",
       "      <td>4</td>\n",
       "      <td>3</td>\n",
       "      <td>4</td>\n",
       "      <td>1</td>\n",
       "      <td>1</td>\n",
       "      <td>3</td>\n",
       "      <td>6</td>\n",
       "      <td>5</td>\n",
       "      <td>6</td>\n",
       "      <td>6</td>\n",
       "    </tr>\n",
       "    <tr>\n",
       "      <th>1</th>\n",
       "      <td>GP</td>\n",
       "      <td>F</td>\n",
       "      <td>17</td>\n",
       "      <td>U</td>\n",
       "      <td>GT3</td>\n",
       "      <td>T</td>\n",
       "      <td>1</td>\n",
       "      <td>1</td>\n",
       "      <td>at_home</td>\n",
       "      <td>other</td>\n",
       "      <td>...</td>\n",
       "      <td>5</td>\n",
       "      <td>3</td>\n",
       "      <td>3</td>\n",
       "      <td>1</td>\n",
       "      <td>1</td>\n",
       "      <td>3</td>\n",
       "      <td>4</td>\n",
       "      <td>5</td>\n",
       "      <td>5</td>\n",
       "      <td>6</td>\n",
       "    </tr>\n",
       "    <tr>\n",
       "      <th>2</th>\n",
       "      <td>GP</td>\n",
       "      <td>F</td>\n",
       "      <td>15</td>\n",
       "      <td>U</td>\n",
       "      <td>LE3</td>\n",
       "      <td>T</td>\n",
       "      <td>1</td>\n",
       "      <td>1</td>\n",
       "      <td>at_home</td>\n",
       "      <td>other</td>\n",
       "      <td>...</td>\n",
       "      <td>4</td>\n",
       "      <td>3</td>\n",
       "      <td>2</td>\n",
       "      <td>2</td>\n",
       "      <td>3</td>\n",
       "      <td>3</td>\n",
       "      <td>10</td>\n",
       "      <td>7</td>\n",
       "      <td>8</td>\n",
       "      <td>10</td>\n",
       "    </tr>\n",
       "    <tr>\n",
       "      <th>3</th>\n",
       "      <td>GP</td>\n",
       "      <td>F</td>\n",
       "      <td>15</td>\n",
       "      <td>U</td>\n",
       "      <td>GT3</td>\n",
       "      <td>T</td>\n",
       "      <td>4</td>\n",
       "      <td>2</td>\n",
       "      <td>health</td>\n",
       "      <td>services</td>\n",
       "      <td>...</td>\n",
       "      <td>3</td>\n",
       "      <td>2</td>\n",
       "      <td>2</td>\n",
       "      <td>1</td>\n",
       "      <td>1</td>\n",
       "      <td>5</td>\n",
       "      <td>2</td>\n",
       "      <td>15</td>\n",
       "      <td>14</td>\n",
       "      <td>15</td>\n",
       "    </tr>\n",
       "    <tr>\n",
       "      <th>4</th>\n",
       "      <td>GP</td>\n",
       "      <td>F</td>\n",
       "      <td>16</td>\n",
       "      <td>U</td>\n",
       "      <td>GT3</td>\n",
       "      <td>T</td>\n",
       "      <td>3</td>\n",
       "      <td>3</td>\n",
       "      <td>other</td>\n",
       "      <td>other</td>\n",
       "      <td>...</td>\n",
       "      <td>4</td>\n",
       "      <td>3</td>\n",
       "      <td>2</td>\n",
       "      <td>1</td>\n",
       "      <td>2</td>\n",
       "      <td>5</td>\n",
       "      <td>4</td>\n",
       "      <td>6</td>\n",
       "      <td>10</td>\n",
       "      <td>10</td>\n",
       "    </tr>\n",
       "    <tr>\n",
       "      <th>...</th>\n",
       "      <td>...</td>\n",
       "      <td>...</td>\n",
       "      <td>...</td>\n",
       "      <td>...</td>\n",
       "      <td>...</td>\n",
       "      <td>...</td>\n",
       "      <td>...</td>\n",
       "      <td>...</td>\n",
       "      <td>...</td>\n",
       "      <td>...</td>\n",
       "      <td>...</td>\n",
       "      <td>...</td>\n",
       "      <td>...</td>\n",
       "      <td>...</td>\n",
       "      <td>...</td>\n",
       "      <td>...</td>\n",
       "      <td>...</td>\n",
       "      <td>...</td>\n",
       "      <td>...</td>\n",
       "      <td>...</td>\n",
       "      <td>...</td>\n",
       "    </tr>\n",
       "    <tr>\n",
       "      <th>644</th>\n",
       "      <td>MS</td>\n",
       "      <td>F</td>\n",
       "      <td>19</td>\n",
       "      <td>R</td>\n",
       "      <td>GT3</td>\n",
       "      <td>T</td>\n",
       "      <td>2</td>\n",
       "      <td>3</td>\n",
       "      <td>services</td>\n",
       "      <td>other</td>\n",
       "      <td>...</td>\n",
       "      <td>5</td>\n",
       "      <td>4</td>\n",
       "      <td>2</td>\n",
       "      <td>1</td>\n",
       "      <td>2</td>\n",
       "      <td>5</td>\n",
       "      <td>4</td>\n",
       "      <td>10</td>\n",
       "      <td>11</td>\n",
       "      <td>10</td>\n",
       "    </tr>\n",
       "    <tr>\n",
       "      <th>645</th>\n",
       "      <td>MS</td>\n",
       "      <td>F</td>\n",
       "      <td>18</td>\n",
       "      <td>U</td>\n",
       "      <td>LE3</td>\n",
       "      <td>T</td>\n",
       "      <td>3</td>\n",
       "      <td>1</td>\n",
       "      <td>teacher</td>\n",
       "      <td>services</td>\n",
       "      <td>...</td>\n",
       "      <td>4</td>\n",
       "      <td>3</td>\n",
       "      <td>4</td>\n",
       "      <td>1</td>\n",
       "      <td>1</td>\n",
       "      <td>1</td>\n",
       "      <td>4</td>\n",
       "      <td>15</td>\n",
       "      <td>15</td>\n",
       "      <td>16</td>\n",
       "    </tr>\n",
       "    <tr>\n",
       "      <th>646</th>\n",
       "      <td>MS</td>\n",
       "      <td>F</td>\n",
       "      <td>18</td>\n",
       "      <td>U</td>\n",
       "      <td>GT3</td>\n",
       "      <td>T</td>\n",
       "      <td>1</td>\n",
       "      <td>1</td>\n",
       "      <td>other</td>\n",
       "      <td>other</td>\n",
       "      <td>...</td>\n",
       "      <td>1</td>\n",
       "      <td>1</td>\n",
       "      <td>1</td>\n",
       "      <td>1</td>\n",
       "      <td>1</td>\n",
       "      <td>5</td>\n",
       "      <td>6</td>\n",
       "      <td>11</td>\n",
       "      <td>12</td>\n",
       "      <td>9</td>\n",
       "    </tr>\n",
       "    <tr>\n",
       "      <th>647</th>\n",
       "      <td>MS</td>\n",
       "      <td>M</td>\n",
       "      <td>17</td>\n",
       "      <td>U</td>\n",
       "      <td>LE3</td>\n",
       "      <td>T</td>\n",
       "      <td>3</td>\n",
       "      <td>1</td>\n",
       "      <td>services</td>\n",
       "      <td>services</td>\n",
       "      <td>...</td>\n",
       "      <td>2</td>\n",
       "      <td>4</td>\n",
       "      <td>5</td>\n",
       "      <td>3</td>\n",
       "      <td>4</td>\n",
       "      <td>2</td>\n",
       "      <td>6</td>\n",
       "      <td>10</td>\n",
       "      <td>10</td>\n",
       "      <td>10</td>\n",
       "    </tr>\n",
       "    <tr>\n",
       "      <th>648</th>\n",
       "      <td>MS</td>\n",
       "      <td>M</td>\n",
       "      <td>18</td>\n",
       "      <td>R</td>\n",
       "      <td>LE3</td>\n",
       "      <td>T</td>\n",
       "      <td>3</td>\n",
       "      <td>2</td>\n",
       "      <td>services</td>\n",
       "      <td>other</td>\n",
       "      <td>...</td>\n",
       "      <td>4</td>\n",
       "      <td>4</td>\n",
       "      <td>1</td>\n",
       "      <td>3</td>\n",
       "      <td>4</td>\n",
       "      <td>5</td>\n",
       "      <td>4</td>\n",
       "      <td>10</td>\n",
       "      <td>11</td>\n",
       "      <td>11</td>\n",
       "    </tr>\n",
       "  </tbody>\n",
       "</table>\n",
       "<p>1044 rows × 33 columns</p>\n",
       "</div>"
      ],
      "text/plain": [
       "    school sex  age address famsize Pstatus  Medu  Fedu      Mjob      Fjob  \\\n",
       "0       GP   F   18       U     GT3       A     4     4   at_home   teacher   \n",
       "1       GP   F   17       U     GT3       T     1     1   at_home     other   \n",
       "2       GP   F   15       U     LE3       T     1     1   at_home     other   \n",
       "3       GP   F   15       U     GT3       T     4     2    health  services   \n",
       "4       GP   F   16       U     GT3       T     3     3     other     other   \n",
       "..     ...  ..  ...     ...     ...     ...   ...   ...       ...       ...   \n",
       "644     MS   F   19       R     GT3       T     2     3  services     other   \n",
       "645     MS   F   18       U     LE3       T     3     1   teacher  services   \n",
       "646     MS   F   18       U     GT3       T     1     1     other     other   \n",
       "647     MS   M   17       U     LE3       T     3     1  services  services   \n",
       "648     MS   M   18       R     LE3       T     3     2  services     other   \n",
       "\n",
       "     ... famrel freetime  goout  Dalc  Walc health absences  G1  G2  G3  \n",
       "0    ...      4        3      4     1     1      3        6   5   6   6  \n",
       "1    ...      5        3      3     1     1      3        4   5   5   6  \n",
       "2    ...      4        3      2     2     3      3       10   7   8  10  \n",
       "3    ...      3        2      2     1     1      5        2  15  14  15  \n",
       "4    ...      4        3      2     1     2      5        4   6  10  10  \n",
       "..   ...    ...      ...    ...   ...   ...    ...      ...  ..  ..  ..  \n",
       "644  ...      5        4      2     1     2      5        4  10  11  10  \n",
       "645  ...      4        3      4     1     1      1        4  15  15  16  \n",
       "646  ...      1        1      1     1     1      5        6  11  12   9  \n",
       "647  ...      2        4      5     3     4      2        6  10  10  10  \n",
       "648  ...      4        4      1     3     4      5        4  10  11  11  \n",
       "\n",
       "[1044 rows x 33 columns]"
      ]
     },
     "execution_count": 60,
     "metadata": {},
     "output_type": "execute_result"
    }
   ],
   "source": [
    "d"
   ]
  },
  {
   "cell_type": "markdown",
   "metadata": {},
   "source": [
    "### 35. For the purpose of this exercise slice the dataframe from 'school' until the 'guardian' column"
   ]
  },
  {
   "cell_type": "code",
   "execution_count": 61,
   "metadata": {},
   "outputs": [
    {
     "data": {
      "text/html": [
       "<div>\n",
       "<style scoped>\n",
       "    .dataframe tbody tr th:only-of-type {\n",
       "        vertical-align: middle;\n",
       "    }\n",
       "\n",
       "    .dataframe tbody tr th {\n",
       "        vertical-align: top;\n",
       "    }\n",
       "\n",
       "    .dataframe thead th {\n",
       "        text-align: right;\n",
       "    }\n",
       "</style>\n",
       "<table border=\"1\" class=\"dataframe\">\n",
       "  <thead>\n",
       "    <tr style=\"text-align: right;\">\n",
       "      <th></th>\n",
       "      <th>school</th>\n",
       "      <th>sex</th>\n",
       "      <th>age</th>\n",
       "      <th>address</th>\n",
       "      <th>famsize</th>\n",
       "      <th>Pstatus</th>\n",
       "      <th>Medu</th>\n",
       "      <th>Fedu</th>\n",
       "      <th>Mjob</th>\n",
       "      <th>Fjob</th>\n",
       "      <th>reason</th>\n",
       "      <th>guardian</th>\n",
       "    </tr>\n",
       "  </thead>\n",
       "  <tbody>\n",
       "    <tr>\n",
       "      <th>0</th>\n",
       "      <td>GP</td>\n",
       "      <td>F</td>\n",
       "      <td>18</td>\n",
       "      <td>U</td>\n",
       "      <td>GT3</td>\n",
       "      <td>A</td>\n",
       "      <td>4</td>\n",
       "      <td>4</td>\n",
       "      <td>at_home</td>\n",
       "      <td>teacher</td>\n",
       "      <td>course</td>\n",
       "      <td>mother</td>\n",
       "    </tr>\n",
       "    <tr>\n",
       "      <th>1</th>\n",
       "      <td>GP</td>\n",
       "      <td>F</td>\n",
       "      <td>17</td>\n",
       "      <td>U</td>\n",
       "      <td>GT3</td>\n",
       "      <td>T</td>\n",
       "      <td>1</td>\n",
       "      <td>1</td>\n",
       "      <td>at_home</td>\n",
       "      <td>other</td>\n",
       "      <td>course</td>\n",
       "      <td>father</td>\n",
       "    </tr>\n",
       "    <tr>\n",
       "      <th>2</th>\n",
       "      <td>GP</td>\n",
       "      <td>F</td>\n",
       "      <td>15</td>\n",
       "      <td>U</td>\n",
       "      <td>LE3</td>\n",
       "      <td>T</td>\n",
       "      <td>1</td>\n",
       "      <td>1</td>\n",
       "      <td>at_home</td>\n",
       "      <td>other</td>\n",
       "      <td>other</td>\n",
       "      <td>mother</td>\n",
       "    </tr>\n",
       "    <tr>\n",
       "      <th>3</th>\n",
       "      <td>GP</td>\n",
       "      <td>F</td>\n",
       "      <td>15</td>\n",
       "      <td>U</td>\n",
       "      <td>GT3</td>\n",
       "      <td>T</td>\n",
       "      <td>4</td>\n",
       "      <td>2</td>\n",
       "      <td>health</td>\n",
       "      <td>services</td>\n",
       "      <td>home</td>\n",
       "      <td>mother</td>\n",
       "    </tr>\n",
       "    <tr>\n",
       "      <th>4</th>\n",
       "      <td>GP</td>\n",
       "      <td>F</td>\n",
       "      <td>16</td>\n",
       "      <td>U</td>\n",
       "      <td>GT3</td>\n",
       "      <td>T</td>\n",
       "      <td>3</td>\n",
       "      <td>3</td>\n",
       "      <td>other</td>\n",
       "      <td>other</td>\n",
       "      <td>home</td>\n",
       "      <td>father</td>\n",
       "    </tr>\n",
       "    <tr>\n",
       "      <th>...</th>\n",
       "      <td>...</td>\n",
       "      <td>...</td>\n",
       "      <td>...</td>\n",
       "      <td>...</td>\n",
       "      <td>...</td>\n",
       "      <td>...</td>\n",
       "      <td>...</td>\n",
       "      <td>...</td>\n",
       "      <td>...</td>\n",
       "      <td>...</td>\n",
       "      <td>...</td>\n",
       "      <td>...</td>\n",
       "    </tr>\n",
       "    <tr>\n",
       "      <th>644</th>\n",
       "      <td>MS</td>\n",
       "      <td>F</td>\n",
       "      <td>19</td>\n",
       "      <td>R</td>\n",
       "      <td>GT3</td>\n",
       "      <td>T</td>\n",
       "      <td>2</td>\n",
       "      <td>3</td>\n",
       "      <td>services</td>\n",
       "      <td>other</td>\n",
       "      <td>course</td>\n",
       "      <td>mother</td>\n",
       "    </tr>\n",
       "    <tr>\n",
       "      <th>645</th>\n",
       "      <td>MS</td>\n",
       "      <td>F</td>\n",
       "      <td>18</td>\n",
       "      <td>U</td>\n",
       "      <td>LE3</td>\n",
       "      <td>T</td>\n",
       "      <td>3</td>\n",
       "      <td>1</td>\n",
       "      <td>teacher</td>\n",
       "      <td>services</td>\n",
       "      <td>course</td>\n",
       "      <td>mother</td>\n",
       "    </tr>\n",
       "    <tr>\n",
       "      <th>646</th>\n",
       "      <td>MS</td>\n",
       "      <td>F</td>\n",
       "      <td>18</td>\n",
       "      <td>U</td>\n",
       "      <td>GT3</td>\n",
       "      <td>T</td>\n",
       "      <td>1</td>\n",
       "      <td>1</td>\n",
       "      <td>other</td>\n",
       "      <td>other</td>\n",
       "      <td>course</td>\n",
       "      <td>mother</td>\n",
       "    </tr>\n",
       "    <tr>\n",
       "      <th>647</th>\n",
       "      <td>MS</td>\n",
       "      <td>M</td>\n",
       "      <td>17</td>\n",
       "      <td>U</td>\n",
       "      <td>LE3</td>\n",
       "      <td>T</td>\n",
       "      <td>3</td>\n",
       "      <td>1</td>\n",
       "      <td>services</td>\n",
       "      <td>services</td>\n",
       "      <td>course</td>\n",
       "      <td>mother</td>\n",
       "    </tr>\n",
       "    <tr>\n",
       "      <th>648</th>\n",
       "      <td>MS</td>\n",
       "      <td>M</td>\n",
       "      <td>18</td>\n",
       "      <td>R</td>\n",
       "      <td>LE3</td>\n",
       "      <td>T</td>\n",
       "      <td>3</td>\n",
       "      <td>2</td>\n",
       "      <td>services</td>\n",
       "      <td>other</td>\n",
       "      <td>course</td>\n",
       "      <td>mother</td>\n",
       "    </tr>\n",
       "  </tbody>\n",
       "</table>\n",
       "<p>1044 rows × 12 columns</p>\n",
       "</div>"
      ],
      "text/plain": [
       "    school sex  age address famsize Pstatus  Medu  Fedu      Mjob      Fjob  \\\n",
       "0       GP   F   18       U     GT3       A     4     4   at_home   teacher   \n",
       "1       GP   F   17       U     GT3       T     1     1   at_home     other   \n",
       "2       GP   F   15       U     LE3       T     1     1   at_home     other   \n",
       "3       GP   F   15       U     GT3       T     4     2    health  services   \n",
       "4       GP   F   16       U     GT3       T     3     3     other     other   \n",
       "..     ...  ..  ...     ...     ...     ...   ...   ...       ...       ...   \n",
       "644     MS   F   19       R     GT3       T     2     3  services     other   \n",
       "645     MS   F   18       U     LE3       T     3     1   teacher  services   \n",
       "646     MS   F   18       U     GT3       T     1     1     other     other   \n",
       "647     MS   M   17       U     LE3       T     3     1  services  services   \n",
       "648     MS   M   18       R     LE3       T     3     2  services     other   \n",
       "\n",
       "     reason guardian  \n",
       "0    course   mother  \n",
       "1    course   father  \n",
       "2     other   mother  \n",
       "3      home   mother  \n",
       "4      home   father  \n",
       "..      ...      ...  \n",
       "644  course   mother  \n",
       "645  course   mother  \n",
       "646  course   mother  \n",
       "647  course   mother  \n",
       "648  course   mother  \n",
       "\n",
       "[1044 rows x 12 columns]"
      ]
     },
     "execution_count": 61,
     "metadata": {},
     "output_type": "execute_result"
    }
   ],
   "source": [
    "\n",
    "df = d.loc[:, 'school':'guardian']\n",
    "df"
   ]
  },
  {
   "cell_type": "markdown",
   "metadata": {},
   "source": [
    "### 36. Create a lambda function that captalize strings (example: if we give at_home as input function and should give At_home as output."
   ]
  },
  {
   "cell_type": "code",
   "execution_count": 62,
   "metadata": {},
   "outputs": [
    {
     "data": {
      "text/plain": [
       "'Trees'"
      ]
     },
     "execution_count": 62,
     "metadata": {},
     "output_type": "execute_result"
    }
   ],
   "source": [
    "\n",
    "myfunc= lambda x: x.capitalize()\n",
    "\n",
    "myfunc(\"trees\")"
   ]
  },
  {
   "cell_type": "markdown",
   "metadata": {},
   "source": [
    "### 37. Capitalize both Mjob and Fjob variables using above lamdba function"
   ]
  },
  {
   "cell_type": "code",
   "execution_count": 63,
   "metadata": {},
   "outputs": [
    {
     "name": "stdout",
     "output_type": "stream",
     "text": [
      "         Mjob      Fjob\n",
      "0     At_home   Teacher\n",
      "1     At_home     Other\n",
      "2     At_home     Other\n",
      "3      Health  Services\n",
      "4       Other     Other\n",
      "..        ...       ...\n",
      "644  Services     Other\n",
      "645   Teacher  Services\n",
      "646     Other     Other\n",
      "647  Services  Services\n",
      "648  Services     Other\n",
      "\n",
      "[1044 rows x 2 columns]\n"
     ]
    }
   ],
   "source": [
    "\n",
    "\n",
    "# Capitalize 'Mjob' and 'Fjob' columns using the lambda function\n",
    "d['Mjob'] = d['Mjob'].apply(lambda x: x.capitalize())\n",
    "d['Fjob'] = d['Fjob'].apply(lambda x: x.capitalize())\n",
    "\n",
    "# Displaying the updated DataFrame\n",
    "print(d[['Mjob', 'Fjob']])\n"
   ]
  },
  {
   "cell_type": "markdown",
   "metadata": {},
   "source": [
    "### 38. Print the last elements of the data set. (Last few records)"
   ]
  },
  {
   "cell_type": "code",
   "execution_count": 64,
   "metadata": {},
   "outputs": [
    {
     "name": "stdout",
     "output_type": "stream",
     "text": [
      "    school sex  age address famsize Pstatus  Medu  Fedu      Mjob      Fjob  \\\n",
      "644     MS   F   19       R     GT3       T     2     3  Services     Other   \n",
      "645     MS   F   18       U     LE3       T     3     1   Teacher  Services   \n",
      "646     MS   F   18       U     GT3       T     1     1     Other     Other   \n",
      "647     MS   M   17       U     LE3       T     3     1  Services  Services   \n",
      "648     MS   M   18       R     LE3       T     3     2  Services     Other   \n",
      "\n",
      "     ... famrel freetime  goout  Dalc  Walc health absences  G1  G2  G3  \n",
      "644  ...      5        4      2     1     2      5        4  10  11  10  \n",
      "645  ...      4        3      4     1     1      1        4  15  15  16  \n",
      "646  ...      1        1      1     1     1      5        6  11  12   9  \n",
      "647  ...      2        4      5     3     4      2        6  10  10  10  \n",
      "648  ...      4        4      1     3     4      5        4  10  11  11  \n",
      "\n",
      "[5 rows x 33 columns]\n"
     ]
    }
   ],
   "source": [
    "\n",
    "print(d.tail())"
   ]
  },
  {
   "cell_type": "markdown",
   "metadata": {},
   "source": [
    "### 39. Did you notice the original dataframe is still lowercase? Why is that? Fix it and captalize Mjob and Fjob."
   ]
  },
  {
   "cell_type": "code",
   "execution_count": 65,
   "metadata": {},
   "outputs": [
    {
     "name": "stdout",
     "output_type": "stream",
     "text": [
      "         Mjob      Fjob\n",
      "0     At_home   Teacher\n",
      "1     At_home     Other\n",
      "2     At_home     Other\n",
      "3      Health  Services\n",
      "4       Other     Other\n",
      "..        ...       ...\n",
      "644  Services     Other\n",
      "645   Teacher  Services\n",
      "646     Other     Other\n",
      "647  Services  Services\n",
      "648  Services     Other\n",
      "\n",
      "[1044 rows x 2 columns]\n"
     ]
    }
   ],
   "source": [
    "\n",
    "myfunc = lambda x: x.capitalize()\n",
    "\n",
    "# Capitalize 'Mjob' and 'Fjob' columns and update the DataFrame 'd'\n",
    "d['Mjob'] = d['Mjob'].apply(lambda x: x.capitalize())\n",
    "d['Fjob'] = d['Fjob'].apply(lambda x: x.capitalize())\n",
    "\n",
    "# Displaying the updated DataFrame\n",
    "print(d[['Mjob', 'Fjob']])\n"
   ]
  },
  {
   "cell_type": "markdown",
   "metadata": {},
   "source": [
    "### 40. Create a function called majority that return a boolean value to a new column called legal_drinker"
   ]
  },
  {
   "cell_type": "code",
   "execution_count": 66,
   "metadata": {},
   "outputs": [
    {
     "name": "stdout",
     "output_type": "stream",
     "text": [
      "     age  legal_drinker\n",
      "0     18           True\n",
      "1     17          False\n",
      "2     15          False\n",
      "3     15          False\n",
      "4     16          False\n",
      "..   ...            ...\n",
      "644   19           True\n",
      "645   18           True\n",
      "646   18           True\n",
      "647   17          False\n",
      "648   18           True\n",
      "\n",
      "[1044 rows x 2 columns]\n"
     ]
    }
   ],
   "source": [
    "\n",
    "\n",
    "# Define the majority function\n",
    "def majority(age):\n",
    "    return age >= 18  # Check if age is 18 or over\n",
    "\n",
    "# Create a new column 'legal_drinker' using the majority function\n",
    "d['legal_drinker'] = d['age'].apply(majority)\n",
    "\n",
    "# Displaying the updated DataFrame with the new column\n",
    "print(d[['age', 'legal_drinker']])\n"
   ]
  },
  {
   "cell_type": "markdown",
   "metadata": {},
   "source": [
    "### 41. Multiply every number of the dataset by 10. "
   ]
  },
  {
   "cell_type": "code",
   "execution_count": 67,
   "metadata": {},
   "outputs": [
    {
     "name": "stdout",
     "output_type": "stream",
     "text": [
      "    school sex  age address famsize Pstatus  Medu  Fedu      Mjob      Fjob  \\\n",
      "0       GP   F  180       U     GT3       A    40    40   At_home   Teacher   \n",
      "1       GP   F  170       U     GT3       T    10    10   At_home     Other   \n",
      "2       GP   F  150       U     LE3       T    10    10   At_home     Other   \n",
      "3       GP   F  150       U     GT3       T    40    20    Health  Services   \n",
      "4       GP   F  160       U     GT3       T    30    30     Other     Other   \n",
      "..     ...  ..  ...     ...     ...     ...   ...   ...       ...       ...   \n",
      "644     MS   F  190       R     GT3       T    20    30  Services     Other   \n",
      "645     MS   F  180       U     LE3       T    30    10   Teacher  Services   \n",
      "646     MS   F  180       U     GT3       T    10    10     Other     Other   \n",
      "647     MS   M  170       U     LE3       T    30    10  Services  Services   \n",
      "648     MS   M  180       R     LE3       T    30    20  Services     Other   \n",
      "\n",
      "     ... freetime goout  Dalc  Walc  health absences   G1   G2   G3  \\\n",
      "0    ...       30    40    10    10      30       60   50   60   60   \n",
      "1    ...       30    30    10    10      30       40   50   50   60   \n",
      "2    ...       30    20    20    30      30      100   70   80  100   \n",
      "3    ...       20    20    10    10      50       20  150  140  150   \n",
      "4    ...       30    20    10    20      50       40   60  100  100   \n",
      "..   ...      ...   ...   ...   ...     ...      ...  ...  ...  ...   \n",
      "644  ...       40    20    10    20      50       40  100  110  100   \n",
      "645  ...       30    40    10    10      10       40  150  150  160   \n",
      "646  ...       10    10    10    10      50       60  110  120   90   \n",
      "647  ...       40    50    30    40      20       60  100  100  100   \n",
      "648  ...       40    10    30    40      50       40  100  110  110   \n",
      "\n",
      "    legal_drinker  \n",
      "0              10  \n",
      "1               0  \n",
      "2               0  \n",
      "3               0  \n",
      "4               0  \n",
      "..            ...  \n",
      "644            10  \n",
      "645            10  \n",
      "646            10  \n",
      "647             0  \n",
      "648            10  \n",
      "\n",
      "[1044 rows x 34 columns]\n"
     ]
    }
   ],
   "source": [
    "\n",
    "d = d.applymap(lambda x: x * 10 if isinstance(x, (int, float)) else x)\n",
    "\n",
    "print(d)\n"
   ]
  },
  {
   "cell_type": "markdown",
   "metadata": {},
   "source": [
    "## Section-6: The purpose of the below exercises is to understand how to perform simple joins\n",
    "## The below exercises (42-48) required to use cars1.csv and cars2.csv files "
   ]
  },
  {
   "cell_type": "markdown",
   "metadata": {},
   "source": [
    "### 42. Import the datasets cars1.csv and cars2.csv and assign names as cars1 and cars2"
   ]
  },
  {
   "cell_type": "code",
   "execution_count": 68,
   "metadata": {},
   "outputs": [],
   "source": [
    "\n",
    "cars1 = pd.read_csv(r\"C:\\Users\\hp\\Downloads\\Basic Data Manipulation - Visualization Exercise\\2. Basic Data Manipulation - Visualization Exercise\\Exercise Data Files\\cars1.csv\")\n",
    "cars2 = pd.read_csv(r\"C:\\Users\\hp\\Downloads\\Basic Data Manipulation - Visualization Exercise\\2. Basic Data Manipulation - Visualization Exercise\\Exercise Data Files\\cars2.csv\")\n"
   ]
  },
  {
   "cell_type": "markdown",
   "metadata": {},
   "source": [
    "   ### 43. Print the information to cars1 by applying below functions \n",
    "   hint: Use different functions/methods like type(), head(), tail(), columns(), info(), dtypes(), index(), shape(), count(), size(), ndim(), axes(), describe(), memory_usage(), sort_values(), value_counts()\n",
    "   Also create profile report using pandas_profiling.Profile_Report"
   ]
  },
  {
   "cell_type": "code",
   "execution_count": 69,
   "metadata": {},
   "outputs": [
    {
     "data": {
      "text/html": [
       "<div>\n",
       "<style scoped>\n",
       "    .dataframe tbody tr th:only-of-type {\n",
       "        vertical-align: middle;\n",
       "    }\n",
       "\n",
       "    .dataframe tbody tr th {\n",
       "        vertical-align: top;\n",
       "    }\n",
       "\n",
       "    .dataframe thead th {\n",
       "        text-align: right;\n",
       "    }\n",
       "</style>\n",
       "<table border=\"1\" class=\"dataframe\">\n",
       "  <thead>\n",
       "    <tr style=\"text-align: right;\">\n",
       "      <th></th>\n",
       "      <th>mpg</th>\n",
       "      <th>cylinders</th>\n",
       "      <th>displacement</th>\n",
       "      <th>horsepower</th>\n",
       "      <th>weight</th>\n",
       "      <th>acceleration</th>\n",
       "      <th>model</th>\n",
       "      <th>origin</th>\n",
       "      <th>car</th>\n",
       "    </tr>\n",
       "  </thead>\n",
       "  <tbody>\n",
       "    <tr>\n",
       "      <th>0</th>\n",
       "      <td>33.0</td>\n",
       "      <td>4</td>\n",
       "      <td>91</td>\n",
       "      <td>53</td>\n",
       "      <td>1795</td>\n",
       "      <td>17.4</td>\n",
       "      <td>76</td>\n",
       "      <td>3</td>\n",
       "      <td>honda civic</td>\n",
       "    </tr>\n",
       "    <tr>\n",
       "      <th>1</th>\n",
       "      <td>20.0</td>\n",
       "      <td>6</td>\n",
       "      <td>225</td>\n",
       "      <td>100</td>\n",
       "      <td>3651</td>\n",
       "      <td>17.7</td>\n",
       "      <td>76</td>\n",
       "      <td>1</td>\n",
       "      <td>dodge aspen se</td>\n",
       "    </tr>\n",
       "    <tr>\n",
       "      <th>2</th>\n",
       "      <td>18.0</td>\n",
       "      <td>6</td>\n",
       "      <td>250</td>\n",
       "      <td>78</td>\n",
       "      <td>3574</td>\n",
       "      <td>21.0</td>\n",
       "      <td>76</td>\n",
       "      <td>1</td>\n",
       "      <td>ford granada ghia</td>\n",
       "    </tr>\n",
       "    <tr>\n",
       "      <th>3</th>\n",
       "      <td>18.5</td>\n",
       "      <td>6</td>\n",
       "      <td>250</td>\n",
       "      <td>110</td>\n",
       "      <td>3645</td>\n",
       "      <td>16.2</td>\n",
       "      <td>76</td>\n",
       "      <td>1</td>\n",
       "      <td>pontiac ventura sj</td>\n",
       "    </tr>\n",
       "    <tr>\n",
       "      <th>4</th>\n",
       "      <td>17.5</td>\n",
       "      <td>6</td>\n",
       "      <td>258</td>\n",
       "      <td>95</td>\n",
       "      <td>3193</td>\n",
       "      <td>17.8</td>\n",
       "      <td>76</td>\n",
       "      <td>1</td>\n",
       "      <td>amc pacer d/l</td>\n",
       "    </tr>\n",
       "  </tbody>\n",
       "</table>\n",
       "</div>"
      ],
      "text/plain": [
       "    mpg  cylinders  displacement horsepower  weight  acceleration  model  \\\n",
       "0  33.0          4            91         53    1795          17.4     76   \n",
       "1  20.0          6           225        100    3651          17.7     76   \n",
       "2  18.0          6           250         78    3574          21.0     76   \n",
       "3  18.5          6           250        110    3645          16.2     76   \n",
       "4  17.5          6           258         95    3193          17.8     76   \n",
       "\n",
       "   origin                 car  \n",
       "0       3         honda civic  \n",
       "1       1      dodge aspen se  \n",
       "2       1   ford granada ghia  \n",
       "3       1  pontiac ventura sj  \n",
       "4       1       amc pacer d/l  "
      ]
     },
     "execution_count": 69,
     "metadata": {},
     "output_type": "execute_result"
    }
   ],
   "source": [
    "cars1.head()\n",
    "cars2.head()"
   ]
  },
  {
   "cell_type": "code",
   "execution_count": 70,
   "metadata": {},
   "outputs": [
    {
     "name": "stdout",
     "output_type": "stream",
     "text": [
      "<class 'pandas.core.frame.DataFrame'>\n",
      "RangeIndex: 198 entries, 0 to 197\n",
      "Data columns (total 14 columns):\n",
      " #   Column        Non-Null Count  Dtype  \n",
      "---  ------        --------------  -----  \n",
      " 0   mpg           198 non-null    float64\n",
      " 1   cylinders     198 non-null    int64  \n",
      " 2   displacement  198 non-null    int64  \n",
      " 3   horsepower    198 non-null    object \n",
      " 4   weight        198 non-null    int64  \n",
      " 5   acceleration  198 non-null    float64\n",
      " 6   model         198 non-null    int64  \n",
      " 7   origin        198 non-null    int64  \n",
      " 8   car           198 non-null    object \n",
      " 9   Unnamed: 9    0 non-null      float64\n",
      " 10  Unnamed: 10   0 non-null      float64\n",
      " 11  Unnamed: 11   0 non-null      float64\n",
      " 12  Unnamed: 12   0 non-null      float64\n",
      " 13  Unnamed: 13   0 non-null      float64\n",
      "dtypes: float64(7), int64(5), object(2)\n",
      "memory usage: 21.8+ KB\n"
     ]
    }
   ],
   "source": [
    "cars1.info()\n"
   ]
  },
  {
   "cell_type": "code",
   "execution_count": 71,
   "metadata": {},
   "outputs": [
    {
     "name": "stdout",
     "output_type": "stream",
     "text": [
      "<class 'pandas.core.frame.DataFrame'>\n",
      "RangeIndex: 200 entries, 0 to 199\n",
      "Data columns (total 9 columns):\n",
      " #   Column        Non-Null Count  Dtype  \n",
      "---  ------        --------------  -----  \n",
      " 0   mpg           200 non-null    float64\n",
      " 1   cylinders     200 non-null    int64  \n",
      " 2   displacement  200 non-null    int64  \n",
      " 3   horsepower    200 non-null    object \n",
      " 4   weight        200 non-null    int64  \n",
      " 5   acceleration  200 non-null    float64\n",
      " 6   model         200 non-null    int64  \n",
      " 7   origin        200 non-null    int64  \n",
      " 8   car           200 non-null    object \n",
      "dtypes: float64(2), int64(5), object(2)\n",
      "memory usage: 14.2+ KB\n"
     ]
    }
   ],
   "source": [
    "cars2.info()"
   ]
  },
  {
   "cell_type": "markdown",
   "metadata": {},
   "source": [
    "### 44. It seems our first dataset has some unnamed blank columns, fix cars1"
   ]
  },
  {
   "cell_type": "code",
   "execution_count": 72,
   "metadata": {},
   "outputs": [],
   "source": [
    "cars1=cars1.loc[:,\"mpg\":\"car\"]"
   ]
  },
  {
   "cell_type": "markdown",
   "metadata": {},
   "source": [
    "### 45. What is the number of observations in each dataset?"
   ]
  },
  {
   "cell_type": "code",
   "execution_count": 73,
   "metadata": {},
   "outputs": [
    {
     "name": "stdout",
     "output_type": "stream",
     "text": [
      "Number of observations in cars1 dataset: 198\n",
      "Number of observations in cars2 dataset: 200\n"
     ]
    }
   ],
   "source": [
    "\n",
    "observations_cars1 = cars1.shape[0]\n",
    "\n",
    "observations_cars2 = cars2.shape[0]\n",
    "\n",
    "print(f\"Number of observations in cars1 dataset: {observations_cars1}\")\n",
    "print(f\"Number of observations in cars2 dataset: {observations_cars2}\")\n"
   ]
  },
  {
   "cell_type": "markdown",
   "metadata": {},
   "source": [
    "### 46. Join cars1 and cars2 into a single DataFrame called cars"
   ]
  },
  {
   "cell_type": "code",
   "execution_count": 74,
   "metadata": {},
   "outputs": [
    {
     "name": "stdout",
     "output_type": "stream",
     "text": [
      "    mpg  cylinders  displacement horsepower  weight  acceleration  model  \\\n",
      "0  18.0          8           307        130    3504          12.0     70   \n",
      "1  15.0          8           350        165    3693          11.5     70   \n",
      "2  18.0          8           318        150    3436          11.0     70   \n",
      "3  16.0          8           304        150    3433          12.0     70   \n",
      "4  17.0          8           302        140    3449          10.5     70   \n",
      "\n",
      "   origin                        car  \n",
      "0       1  chevrolet chevelle malibu  \n",
      "1       1          buick skylark 320  \n",
      "2       1         plymouth satellite  \n",
      "3       1              amc rebel sst  \n",
      "4       1                ford torino  \n"
     ]
    }
   ],
   "source": [
    "\n",
    "cars = pd.concat([cars1, cars2])\n",
    "\n",
    "print(cars.head())  \n"
   ]
  },
  {
   "cell_type": "markdown",
   "metadata": {},
   "source": [
    "### 47. There is a column missing, called owners. Create a random number Series from 15,000 to 73,000."
   ]
  },
  {
   "cell_type": "code",
   "execution_count": 75,
   "metadata": {},
   "outputs": [],
   "source": [
    "\n",
    "owners_series = np.random.randint(15000, 73001, size=len(cars))"
   ]
  },
  {
   "cell_type": "markdown",
   "metadata": {},
   "source": [
    "### 48. Add the column owners to cars"
   ]
  },
  {
   "cell_type": "code",
   "execution_count": 76,
   "metadata": {},
   "outputs": [],
   "source": [
    "\n",
    "cars['owners'] = owners_series"
   ]
  },
  {
   "cell_type": "markdown",
   "metadata": {},
   "source": [
    "## Section-7: The purpose of the below exercises is to understand how to perform date time operations"
   ]
  },
  {
   "cell_type": "markdown",
   "metadata": {},
   "source": [
    "### 49. Write a Python script to display the\n",
    "- a. Current date and time\n",
    "- b. Current year\n",
    "- c. Month of year\n",
    "- d. Week number of the year\n",
    "- e. Weekday of the week\n",
    "- f. Day of year\n",
    "- g. Day of the month\n",
    "- h. Day of week"
   ]
  },
  {
   "cell_type": "code",
   "execution_count": 77,
   "metadata": {},
   "outputs": [
    {
     "name": "stdout",
     "output_type": "stream",
     "text": [
      "Current date and time: 2024-01-20 15:55:20.779266\n",
      "Current year: 2024\n",
      "Month of year: 1\n",
      "Week number of the year: 3\n",
      "Weekday of the week: 5\n",
      "Day of year: 20\n",
      "Day of the month: 20\n",
      "Day of week: Saturday\n"
     ]
    }
   ],
   "source": [
    "import datetime\n",
    "\n",
    "# Current date and time\n",
    "current_date_time = datetime.datetime.now()\n",
    "print(\"Current date and time:\", current_date_time)\n",
    "\n",
    "# Current year\n",
    "current_year = current_date_time.year\n",
    "print(\"Current year:\", current_year)\n",
    "\n",
    "# Month of year\n",
    "month_of_year = current_date_time.month\n",
    "print(\"Month of year:\", month_of_year)\n",
    "\n",
    "# Week number of the year\n",
    "week_number = current_date_time.isocalendar()[1]\n",
    "print(\"Week number of the year:\", week_number)\n",
    "\n",
    "# Weekday of the week (0 - Monday, 6 - Sunday)\n",
    "weekday_of_week = current_date_time.weekday()\n",
    "print(\"Weekday of the week:\", weekday_of_week)\n",
    "\n",
    "# Day of year\n",
    "day_of_year = current_date_time.timetuple().tm_yday\n",
    "print(\"Day of year:\", day_of_year)\n",
    "\n",
    "# Day of the month\n",
    "day_of_month = current_date_time.day\n",
    "print(\"Day of the month:\", day_of_month)\n",
    "\n",
    "# Day of week (0 - Monday, 6 - Sunday)\n",
    "day_of_week = current_date_time.strftime(\"%A\")\n",
    "print(\"Day of week:\", day_of_week)\n"
   ]
  },
  {
   "cell_type": "markdown",
   "metadata": {},
   "source": [
    "### 50. Write a Python program to convert a string to datetime.\n",
    "Sample String : Jul 1 2014 2:43PM \n",
    "\n",
    "Expected Output : 2014-07-01 14:43:00"
   ]
  },
  {
   "cell_type": "code",
   "execution_count": 78,
   "metadata": {},
   "outputs": [
    {
     "name": "stdout",
     "output_type": "stream",
     "text": [
      "Expected Output: 2014-07-01 14:43:00\n"
     ]
    }
   ],
   "source": [
    "from datetime import datetime\n",
    "\n",
    "sample_string = 'Jul 1 2014 2:43PM'\n",
    "\n",
    "# Convert string to datetime\n",
    "formatted_date = datetime.strptime(sample_string, '%b %d %Y %I:%M%p')\n",
    "\n",
    "# Print the formatted datetime\n",
    "print(\"Expected Output:\", formatted_date)\n"
   ]
  },
  {
   "cell_type": "markdown",
   "metadata": {},
   "source": [
    "### 51. Write a Python program to subtract five days from current date.\n",
    "\n",
    "Current Date : 2015-06-22\n",
    "\n",
    "5 days before Current Date : 2015-06-17"
   ]
  },
  {
   "cell_type": "code",
   "execution_count": 79,
   "metadata": {},
   "outputs": [
    {
     "name": "stdout",
     "output_type": "stream",
     "text": [
      "5 days before Current Date: 2015-06-17\n"
     ]
    }
   ],
   "source": [
    "from datetime import datetime, timedelta\n",
    "\n",
    "# Current date\n",
    "current_date = datetime.strptime('2015-06-22', '%Y-%m-%d')\n",
    "five_days_ago = current_date - timedelta(days=5)\n",
    "five_days_ago_str = five_days_ago.strftime('%Y-%m-%d')\n",
    "\n",
    "# Print the result\n",
    "print(\"5 days before Current Date:\", five_days_ago_str)\n"
   ]
  },
  {
   "cell_type": "markdown",
   "metadata": {},
   "source": [
    "### 52. Write a Python program to convert unix timestamp string to readable date.\n",
    "\n",
    "Sample Unix timestamp string : 1284105682\n",
    "    \n",
    "Expected Output : 2010-09-10 13:31:22"
   ]
  },
  {
   "cell_type": "code",
   "execution_count": 80,
   "metadata": {},
   "outputs": [
    {
     "ename": "AttributeError",
     "evalue": "type object 'datetime.datetime' has no attribute 'datetime'",
     "output_type": "error",
     "traceback": [
      "\u001b[1;31m---------------------------------------------------------------------------\u001b[0m",
      "\u001b[1;31mAttributeError\u001b[0m                            Traceback (most recent call last)",
      "Cell \u001b[1;32mIn[80], line 4\u001b[0m\n\u001b[0;32m      1\u001b[0m timestamp_string \u001b[38;5;241m=\u001b[39m \u001b[38;5;124m'\u001b[39m\u001b[38;5;124m1284105682\u001b[39m\u001b[38;5;124m'\u001b[39m\n\u001b[0;32m      3\u001b[0m \u001b[38;5;66;03m# Convert Unix timestamp string to a datetime object\u001b[39;00m\n\u001b[1;32m----> 4\u001b[0m timestamp \u001b[38;5;241m=\u001b[39m datetime\u001b[38;5;241m.\u001b[39mdatetime\u001b[38;5;241m.\u001b[39mfromtimestamp(\u001b[38;5;28mint\u001b[39m(timestamp_string))\n\u001b[0;32m      6\u001b[0m \u001b[38;5;66;03m# Format the datetime object as a readable date\u001b[39;00m\n\u001b[0;32m      7\u001b[0m readable_date \u001b[38;5;241m=\u001b[39m timestamp\u001b[38;5;241m.\u001b[39mstrftime(\u001b[38;5;124m'\u001b[39m\u001b[38;5;124m%\u001b[39m\u001b[38;5;124mY-\u001b[39m\u001b[38;5;124m%\u001b[39m\u001b[38;5;124mm-\u001b[39m\u001b[38;5;132;01m%d\u001b[39;00m\u001b[38;5;124m \u001b[39m\u001b[38;5;124m%\u001b[39m\u001b[38;5;124mH:\u001b[39m\u001b[38;5;124m%\u001b[39m\u001b[38;5;124mM:\u001b[39m\u001b[38;5;124m%\u001b[39m\u001b[38;5;124mS\u001b[39m\u001b[38;5;124m'\u001b[39m)\n",
      "\u001b[1;31mAttributeError\u001b[0m: type object 'datetime.datetime' has no attribute 'datetime'"
     ]
    }
   ],
   "source": [
    "\n",
    "timestamp_string = '1284105682'\n",
    "\n",
    "# Convert Unix timestamp string to a datetime object\n",
    "timestamp = datetime.datetime.fromtimestamp(int(timestamp_string))\n",
    "\n",
    "# Format the datetime object as a readable date\n",
    "readable_date = timestamp.strftime('%Y-%m-%d %H:%M:%S')\n",
    "\n",
    "# Print the formatted date\n",
    "print(\"Expected Output:\", readable_date)\n"
   ]
  },
  {
   "cell_type": "markdown",
   "metadata": {},
   "source": [
    "### 53. Convert the below Series to pandas datetime : \n",
    "\n",
    "DoB = pd.Series([\"07Sep59\",\"01Jan55\",\"15Dec47\",\"11Jul42\"])\n",
    "\n",
    "Make sure that the year is 19XX not 20XX"
   ]
  },
  {
   "cell_type": "code",
   "execution_count": null,
   "metadata": {},
   "outputs": [],
   "source": [
    "\n",
    "# Given Series\n",
    "DoB = pd.Series([\"07Sep59\", \"01Jan55\", \"15Dec47\", \"11Jul42\"])\n",
    "\n",
    "# Convert Series to pandas datetime\n",
    "converted_dates = pd.to_datetime(DoB, format='%d%b%y')\n",
    "\n",
    "converted_dates = converted_dates.apply(lambda x: x - pd.DateOffset(years=100) if x.year > 2000 else x)\n",
    "\n",
    "# Print the converted dates\n",
    "print(converted_dates)\n"
   ]
  },
  {
   "cell_type": "markdown",
   "metadata": {},
   "source": [
    "### 54. Write a Python program to get days between two dates. "
   ]
  },
  {
   "cell_type": "code",
   "execution_count": null,
   "metadata": {},
   "outputs": [],
   "source": [
    "\n",
    "from datetime import datetime\n",
    "\n",
    "# Two date strings\n",
    "date_string1 = '2023-01-15'\n",
    "date_string2 = '2023-02-20'\n",
    "\n",
    "# Convert strings to datetime objects\n",
    "date1 = datetime.strptime(date_string1, '%Y-%m-%d')\n",
    "date2 = datetime.strptime(date_string2, '%Y-%m-%d')\n",
    "\n",
    "# Calculate the difference in days\n",
    "difference = abs((date2 - date1).days)\n",
    "\n",
    "# Print the number of days between the two dates\n",
    "print(f\"Days between {date_string1} and {date_string2}: {difference} days\")"
   ]
  },
  {
   "cell_type": "markdown",
   "metadata": {},
   "source": [
    "### 55. Convert the below date to datetime and then change its display format using the .dt module\n",
    "\n",
    "Date = \"15Dec1989\"\n",
    "\n",
    "Result : \"Friday, 15 Dec 98\""
   ]
  },
  {
   "cell_type": "markdown",
   "metadata": {},
   "source": [
    "## The below exercises (56-66) required to use wind.data file "
   ]
  },
  {
   "cell_type": "markdown",
   "metadata": {},
   "source": [
    "### About wind.data:\n",
    "\n",
    "The data have been modified to contain some missing values, identified by NaN.  \n",
    "\n",
    "1. The data in 'wind.data' has the following format:"
   ]
  },
  {
   "cell_type": "raw",
   "metadata": {},
   "source": [
    "\"\"\"\n",
    "Yr Mo Dy   RPT   VAL   ROS   KIL   SHA   BIR   DUB   CLA   MUL   CLO   BEL   MAL\n",
    "61  1  1 15.04 14.96 13.17  9.29   NaN  9.87 13.67 10.25 10.83 12.58 18.50 15.04\n",
    "61  1  2 14.71   NaN 10.83  6.50 12.62  7.67 11.50 10.04  9.79  9.67 17.54 13.83\n",
    "61  1  3 18.50 16.88 12.33 10.13 11.17  6.17 11.25   NaN  8.50  7.67 12.75 12.71\n",
    "\"\"\"\n",
    "The first three columns are year, month and day.  The remaining 12 columns are average windspeeds in knots at 12 locations in Ireland on that day. "
   ]
  },
  {
   "cell_type": "code",
   "execution_count": 186,
   "metadata": {},
   "outputs": [
    {
     "name": "stdout",
     "output_type": "stream",
     "text": [
      "Result: Friday, 15 Dec 89\n"
     ]
    }
   ],
   "source": [
    "from datetime import datetime\n",
    "\n",
    "# Given date string\n",
    "date_string = \"15Dec1989\"\n",
    "\n",
    "# Convert date string to datetime object\n",
    "date_object = datetime.strptime(date_string, '%d%b%Y')\n",
    "\n",
    "# Change display format using .dt accessor\n",
    "formatted_date = date_object.strftime('%A, %d %b %y')\n",
    "\n",
    "# Print the result\n",
    "print(\"Result:\", formatted_date)\n"
   ]
  },
  {
   "cell_type": "markdown",
   "metadata": {},
   "source": [
    "### 56. Import the dataset wind.data and assign it to a variable called data and replace the first 3 columns by a proper date time index"
   ]
  },
  {
   "cell_type": "code",
   "execution_count": 187,
   "metadata": {},
   "outputs": [],
   "source": [
    "\n",
    "\n",
    "wind = pd.read_csv(r\"C:\\Users\\hp\\Downloads\\Basic Data Manipulation - Visualization Exercise\\2. Basic Data Manipulation - Visualization Exercise\\Exercise Data Files\\wind.data\")\n",
    "wind[\"Date\"]=[dt.datetime(x,y,z)for x,y,z in zip(wind[\"Yr\"]+1900,wind[\"Mo\"],wind[\"Dy\"])]\n",
    "wind.drop(columns=[\"Yr\",\"Mo\",\"Dy\"],inplace=True)\n"
   ]
  },
  {
   "cell_type": "code",
   "execution_count": 188,
   "metadata": {},
   "outputs": [
    {
     "data": {
      "text/html": [
       "<div>\n",
       "<style scoped>\n",
       "    .dataframe tbody tr th:only-of-type {\n",
       "        vertical-align: middle;\n",
       "    }\n",
       "\n",
       "    .dataframe tbody tr th {\n",
       "        vertical-align: top;\n",
       "    }\n",
       "\n",
       "    .dataframe thead th {\n",
       "        text-align: right;\n",
       "    }\n",
       "</style>\n",
       "<table border=\"1\" class=\"dataframe\">\n",
       "  <thead>\n",
       "    <tr style=\"text-align: right;\">\n",
       "      <th></th>\n",
       "      <th>RPT</th>\n",
       "      <th>VAL</th>\n",
       "      <th>ROS</th>\n",
       "      <th>KIL</th>\n",
       "      <th>SHA</th>\n",
       "      <th>BIR</th>\n",
       "      <th>DUB</th>\n",
       "      <th>CLA</th>\n",
       "      <th>MUL</th>\n",
       "      <th>CLO</th>\n",
       "      <th>BEL</th>\n",
       "      <th>MAL</th>\n",
       "      <th>Date</th>\n",
       "    </tr>\n",
       "  </thead>\n",
       "  <tbody>\n",
       "    <tr>\n",
       "      <th>0</th>\n",
       "      <td>15.04</td>\n",
       "      <td>14.96</td>\n",
       "      <td>13.17</td>\n",
       "      <td>9.29</td>\n",
       "      <td>NaN</td>\n",
       "      <td>9.87</td>\n",
       "      <td>13.67</td>\n",
       "      <td>10.25</td>\n",
       "      <td>10.83</td>\n",
       "      <td>12.58</td>\n",
       "      <td>18.50</td>\n",
       "      <td>15.04</td>\n",
       "      <td>1961-01-01</td>\n",
       "    </tr>\n",
       "    <tr>\n",
       "      <th>1</th>\n",
       "      <td>14.71</td>\n",
       "      <td>NaN</td>\n",
       "      <td>10.83</td>\n",
       "      <td>6.50</td>\n",
       "      <td>12.62</td>\n",
       "      <td>7.67</td>\n",
       "      <td>11.50</td>\n",
       "      <td>10.04</td>\n",
       "      <td>9.79</td>\n",
       "      <td>9.67</td>\n",
       "      <td>17.54</td>\n",
       "      <td>13.83</td>\n",
       "      <td>1961-01-02</td>\n",
       "    </tr>\n",
       "    <tr>\n",
       "      <th>2</th>\n",
       "      <td>18.50</td>\n",
       "      <td>16.88</td>\n",
       "      <td>12.33</td>\n",
       "      <td>10.13</td>\n",
       "      <td>11.17</td>\n",
       "      <td>6.17</td>\n",
       "      <td>11.25</td>\n",
       "      <td>NaN</td>\n",
       "      <td>8.50</td>\n",
       "      <td>7.67</td>\n",
       "      <td>12.75</td>\n",
       "      <td>12.71</td>\n",
       "      <td>1961-01-03</td>\n",
       "    </tr>\n",
       "    <tr>\n",
       "      <th>3</th>\n",
       "      <td>10.58</td>\n",
       "      <td>6.63</td>\n",
       "      <td>11.75</td>\n",
       "      <td>4.58</td>\n",
       "      <td>4.54</td>\n",
       "      <td>2.88</td>\n",
       "      <td>8.63</td>\n",
       "      <td>1.79</td>\n",
       "      <td>5.83</td>\n",
       "      <td>5.88</td>\n",
       "      <td>5.46</td>\n",
       "      <td>10.88</td>\n",
       "      <td>1961-01-04</td>\n",
       "    </tr>\n",
       "    <tr>\n",
       "      <th>4</th>\n",
       "      <td>13.33</td>\n",
       "      <td>13.25</td>\n",
       "      <td>11.42</td>\n",
       "      <td>6.17</td>\n",
       "      <td>10.71</td>\n",
       "      <td>8.21</td>\n",
       "      <td>11.92</td>\n",
       "      <td>6.54</td>\n",
       "      <td>10.92</td>\n",
       "      <td>10.34</td>\n",
       "      <td>12.92</td>\n",
       "      <td>11.83</td>\n",
       "      <td>1961-01-05</td>\n",
       "    </tr>\n",
       "    <tr>\n",
       "      <th>...</th>\n",
       "      <td>...</td>\n",
       "      <td>...</td>\n",
       "      <td>...</td>\n",
       "      <td>...</td>\n",
       "      <td>...</td>\n",
       "      <td>...</td>\n",
       "      <td>...</td>\n",
       "      <td>...</td>\n",
       "      <td>...</td>\n",
       "      <td>...</td>\n",
       "      <td>...</td>\n",
       "      <td>...</td>\n",
       "      <td>...</td>\n",
       "    </tr>\n",
       "    <tr>\n",
       "      <th>6569</th>\n",
       "      <td>17.58</td>\n",
       "      <td>16.96</td>\n",
       "      <td>17.62</td>\n",
       "      <td>8.08</td>\n",
       "      <td>13.21</td>\n",
       "      <td>11.67</td>\n",
       "      <td>14.46</td>\n",
       "      <td>15.59</td>\n",
       "      <td>14.04</td>\n",
       "      <td>14.00</td>\n",
       "      <td>17.21</td>\n",
       "      <td>40.08</td>\n",
       "      <td>1978-12-27</td>\n",
       "    </tr>\n",
       "    <tr>\n",
       "      <th>6570</th>\n",
       "      <td>13.21</td>\n",
       "      <td>5.46</td>\n",
       "      <td>13.46</td>\n",
       "      <td>5.00</td>\n",
       "      <td>8.12</td>\n",
       "      <td>9.42</td>\n",
       "      <td>14.33</td>\n",
       "      <td>16.25</td>\n",
       "      <td>15.25</td>\n",
       "      <td>18.05</td>\n",
       "      <td>21.79</td>\n",
       "      <td>41.46</td>\n",
       "      <td>1978-12-28</td>\n",
       "    </tr>\n",
       "    <tr>\n",
       "      <th>6571</th>\n",
       "      <td>14.00</td>\n",
       "      <td>10.29</td>\n",
       "      <td>14.42</td>\n",
       "      <td>8.71</td>\n",
       "      <td>9.71</td>\n",
       "      <td>10.54</td>\n",
       "      <td>19.17</td>\n",
       "      <td>12.46</td>\n",
       "      <td>14.50</td>\n",
       "      <td>16.42</td>\n",
       "      <td>18.88</td>\n",
       "      <td>29.58</td>\n",
       "      <td>1978-12-29</td>\n",
       "    </tr>\n",
       "    <tr>\n",
       "      <th>6572</th>\n",
       "      <td>18.50</td>\n",
       "      <td>14.04</td>\n",
       "      <td>21.29</td>\n",
       "      <td>9.13</td>\n",
       "      <td>12.75</td>\n",
       "      <td>9.71</td>\n",
       "      <td>18.08</td>\n",
       "      <td>12.87</td>\n",
       "      <td>12.46</td>\n",
       "      <td>12.12</td>\n",
       "      <td>14.67</td>\n",
       "      <td>28.79</td>\n",
       "      <td>1978-12-30</td>\n",
       "    </tr>\n",
       "    <tr>\n",
       "      <th>6573</th>\n",
       "      <td>20.33</td>\n",
       "      <td>17.41</td>\n",
       "      <td>27.29</td>\n",
       "      <td>9.59</td>\n",
       "      <td>12.08</td>\n",
       "      <td>10.13</td>\n",
       "      <td>19.25</td>\n",
       "      <td>11.63</td>\n",
       "      <td>11.58</td>\n",
       "      <td>11.38</td>\n",
       "      <td>12.08</td>\n",
       "      <td>22.08</td>\n",
       "      <td>1978-12-31</td>\n",
       "    </tr>\n",
       "  </tbody>\n",
       "</table>\n",
       "<p>6574 rows × 13 columns</p>\n",
       "</div>"
      ],
      "text/plain": [
       "        RPT    VAL    ROS    KIL    SHA    BIR    DUB    CLA    MUL    CLO  \\\n",
       "0     15.04  14.96  13.17   9.29    NaN   9.87  13.67  10.25  10.83  12.58   \n",
       "1     14.71    NaN  10.83   6.50  12.62   7.67  11.50  10.04   9.79   9.67   \n",
       "2     18.50  16.88  12.33  10.13  11.17   6.17  11.25    NaN   8.50   7.67   \n",
       "3     10.58   6.63  11.75   4.58   4.54   2.88   8.63   1.79   5.83   5.88   \n",
       "4     13.33  13.25  11.42   6.17  10.71   8.21  11.92   6.54  10.92  10.34   \n",
       "...     ...    ...    ...    ...    ...    ...    ...    ...    ...    ...   \n",
       "6569  17.58  16.96  17.62   8.08  13.21  11.67  14.46  15.59  14.04  14.00   \n",
       "6570  13.21   5.46  13.46   5.00   8.12   9.42  14.33  16.25  15.25  18.05   \n",
       "6571  14.00  10.29  14.42   8.71   9.71  10.54  19.17  12.46  14.50  16.42   \n",
       "6572  18.50  14.04  21.29   9.13  12.75   9.71  18.08  12.87  12.46  12.12   \n",
       "6573  20.33  17.41  27.29   9.59  12.08  10.13  19.25  11.63  11.58  11.38   \n",
       "\n",
       "        BEL    MAL       Date  \n",
       "0     18.50  15.04 1961-01-01  \n",
       "1     17.54  13.83 1961-01-02  \n",
       "2     12.75  12.71 1961-01-03  \n",
       "3      5.46  10.88 1961-01-04  \n",
       "4     12.92  11.83 1961-01-05  \n",
       "...     ...    ...        ...  \n",
       "6569  17.21  40.08 1978-12-27  \n",
       "6570  21.79  41.46 1978-12-28  \n",
       "6571  18.88  29.58 1978-12-29  \n",
       "6572  14.67  28.79 1978-12-30  \n",
       "6573  12.08  22.08 1978-12-31  \n",
       "\n",
       "[6574 rows x 13 columns]"
      ]
     },
     "execution_count": 188,
     "metadata": {},
     "output_type": "execute_result"
    }
   ],
   "source": [
    "wind"
   ]
  },
  {
   "cell_type": "markdown",
   "metadata": {},
   "source": [
    "### 57. Year 2061 is seemingly imporoper. Convert every year which are < 70 to 19XX instead of 20XX."
   ]
  },
  {
   "cell_type": "markdown",
   "metadata": {},
   "source": [
    "### 58. Set the right dates as the index. Pay attention at the data type, it should be datetime64[ns]."
   ]
  },
  {
   "cell_type": "code",
   "execution_count": 189,
   "metadata": {},
   "outputs": [],
   "source": [
    "wind=wind.set_index(\"Date\")"
   ]
  },
  {
   "cell_type": "code",
   "execution_count": 190,
   "metadata": {},
   "outputs": [
    {
     "data": {
      "text/plain": [
       "RPT    float64\n",
       "VAL    float64\n",
       "ROS    float64\n",
       "KIL    float64\n",
       "SHA    float64\n",
       "BIR    float64\n",
       "DUB    float64\n",
       "CLA    float64\n",
       "MUL    float64\n",
       "CLO    float64\n",
       "BEL    float64\n",
       "MAL    float64\n",
       "dtype: object"
      ]
     },
     "execution_count": 190,
     "metadata": {},
     "output_type": "execute_result"
    }
   ],
   "source": [
    "wind.dtypes"
   ]
  },
  {
   "cell_type": "code",
   "execution_count": 191,
   "metadata": {},
   "outputs": [
    {
     "data": {
      "text/html": [
       "<div>\n",
       "<style scoped>\n",
       "    .dataframe tbody tr th:only-of-type {\n",
       "        vertical-align: middle;\n",
       "    }\n",
       "\n",
       "    .dataframe tbody tr th {\n",
       "        vertical-align: top;\n",
       "    }\n",
       "\n",
       "    .dataframe thead th {\n",
       "        text-align: right;\n",
       "    }\n",
       "</style>\n",
       "<table border=\"1\" class=\"dataframe\">\n",
       "  <thead>\n",
       "    <tr style=\"text-align: right;\">\n",
       "      <th></th>\n",
       "      <th>RPT</th>\n",
       "      <th>VAL</th>\n",
       "      <th>ROS</th>\n",
       "      <th>KIL</th>\n",
       "      <th>SHA</th>\n",
       "      <th>BIR</th>\n",
       "      <th>DUB</th>\n",
       "      <th>CLA</th>\n",
       "      <th>MUL</th>\n",
       "      <th>CLO</th>\n",
       "      <th>BEL</th>\n",
       "      <th>MAL</th>\n",
       "    </tr>\n",
       "    <tr>\n",
       "      <th>Date</th>\n",
       "      <th></th>\n",
       "      <th></th>\n",
       "      <th></th>\n",
       "      <th></th>\n",
       "      <th></th>\n",
       "      <th></th>\n",
       "      <th></th>\n",
       "      <th></th>\n",
       "      <th></th>\n",
       "      <th></th>\n",
       "      <th></th>\n",
       "      <th></th>\n",
       "    </tr>\n",
       "  </thead>\n",
       "  <tbody>\n",
       "    <tr>\n",
       "      <th>1961-01-01</th>\n",
       "      <td>15.04</td>\n",
       "      <td>14.96</td>\n",
       "      <td>13.17</td>\n",
       "      <td>9.29</td>\n",
       "      <td>NaN</td>\n",
       "      <td>9.87</td>\n",
       "      <td>13.67</td>\n",
       "      <td>10.25</td>\n",
       "      <td>10.83</td>\n",
       "      <td>12.58</td>\n",
       "      <td>18.50</td>\n",
       "      <td>15.04</td>\n",
       "    </tr>\n",
       "    <tr>\n",
       "      <th>1961-01-02</th>\n",
       "      <td>14.71</td>\n",
       "      <td>NaN</td>\n",
       "      <td>10.83</td>\n",
       "      <td>6.50</td>\n",
       "      <td>12.62</td>\n",
       "      <td>7.67</td>\n",
       "      <td>11.50</td>\n",
       "      <td>10.04</td>\n",
       "      <td>9.79</td>\n",
       "      <td>9.67</td>\n",
       "      <td>17.54</td>\n",
       "      <td>13.83</td>\n",
       "    </tr>\n",
       "    <tr>\n",
       "      <th>1961-01-03</th>\n",
       "      <td>18.50</td>\n",
       "      <td>16.88</td>\n",
       "      <td>12.33</td>\n",
       "      <td>10.13</td>\n",
       "      <td>11.17</td>\n",
       "      <td>6.17</td>\n",
       "      <td>11.25</td>\n",
       "      <td>NaN</td>\n",
       "      <td>8.50</td>\n",
       "      <td>7.67</td>\n",
       "      <td>12.75</td>\n",
       "      <td>12.71</td>\n",
       "    </tr>\n",
       "    <tr>\n",
       "      <th>1961-01-04</th>\n",
       "      <td>10.58</td>\n",
       "      <td>6.63</td>\n",
       "      <td>11.75</td>\n",
       "      <td>4.58</td>\n",
       "      <td>4.54</td>\n",
       "      <td>2.88</td>\n",
       "      <td>8.63</td>\n",
       "      <td>1.79</td>\n",
       "      <td>5.83</td>\n",
       "      <td>5.88</td>\n",
       "      <td>5.46</td>\n",
       "      <td>10.88</td>\n",
       "    </tr>\n",
       "    <tr>\n",
       "      <th>1961-01-05</th>\n",
       "      <td>13.33</td>\n",
       "      <td>13.25</td>\n",
       "      <td>11.42</td>\n",
       "      <td>6.17</td>\n",
       "      <td>10.71</td>\n",
       "      <td>8.21</td>\n",
       "      <td>11.92</td>\n",
       "      <td>6.54</td>\n",
       "      <td>10.92</td>\n",
       "      <td>10.34</td>\n",
       "      <td>12.92</td>\n",
       "      <td>11.83</td>\n",
       "    </tr>\n",
       "    <tr>\n",
       "      <th>...</th>\n",
       "      <td>...</td>\n",
       "      <td>...</td>\n",
       "      <td>...</td>\n",
       "      <td>...</td>\n",
       "      <td>...</td>\n",
       "      <td>...</td>\n",
       "      <td>...</td>\n",
       "      <td>...</td>\n",
       "      <td>...</td>\n",
       "      <td>...</td>\n",
       "      <td>...</td>\n",
       "      <td>...</td>\n",
       "    </tr>\n",
       "    <tr>\n",
       "      <th>1978-12-27</th>\n",
       "      <td>17.58</td>\n",
       "      <td>16.96</td>\n",
       "      <td>17.62</td>\n",
       "      <td>8.08</td>\n",
       "      <td>13.21</td>\n",
       "      <td>11.67</td>\n",
       "      <td>14.46</td>\n",
       "      <td>15.59</td>\n",
       "      <td>14.04</td>\n",
       "      <td>14.00</td>\n",
       "      <td>17.21</td>\n",
       "      <td>40.08</td>\n",
       "    </tr>\n",
       "    <tr>\n",
       "      <th>1978-12-28</th>\n",
       "      <td>13.21</td>\n",
       "      <td>5.46</td>\n",
       "      <td>13.46</td>\n",
       "      <td>5.00</td>\n",
       "      <td>8.12</td>\n",
       "      <td>9.42</td>\n",
       "      <td>14.33</td>\n",
       "      <td>16.25</td>\n",
       "      <td>15.25</td>\n",
       "      <td>18.05</td>\n",
       "      <td>21.79</td>\n",
       "      <td>41.46</td>\n",
       "    </tr>\n",
       "    <tr>\n",
       "      <th>1978-12-29</th>\n",
       "      <td>14.00</td>\n",
       "      <td>10.29</td>\n",
       "      <td>14.42</td>\n",
       "      <td>8.71</td>\n",
       "      <td>9.71</td>\n",
       "      <td>10.54</td>\n",
       "      <td>19.17</td>\n",
       "      <td>12.46</td>\n",
       "      <td>14.50</td>\n",
       "      <td>16.42</td>\n",
       "      <td>18.88</td>\n",
       "      <td>29.58</td>\n",
       "    </tr>\n",
       "    <tr>\n",
       "      <th>1978-12-30</th>\n",
       "      <td>18.50</td>\n",
       "      <td>14.04</td>\n",
       "      <td>21.29</td>\n",
       "      <td>9.13</td>\n",
       "      <td>12.75</td>\n",
       "      <td>9.71</td>\n",
       "      <td>18.08</td>\n",
       "      <td>12.87</td>\n",
       "      <td>12.46</td>\n",
       "      <td>12.12</td>\n",
       "      <td>14.67</td>\n",
       "      <td>28.79</td>\n",
       "    </tr>\n",
       "    <tr>\n",
       "      <th>1978-12-31</th>\n",
       "      <td>20.33</td>\n",
       "      <td>17.41</td>\n",
       "      <td>27.29</td>\n",
       "      <td>9.59</td>\n",
       "      <td>12.08</td>\n",
       "      <td>10.13</td>\n",
       "      <td>19.25</td>\n",
       "      <td>11.63</td>\n",
       "      <td>11.58</td>\n",
       "      <td>11.38</td>\n",
       "      <td>12.08</td>\n",
       "      <td>22.08</td>\n",
       "    </tr>\n",
       "  </tbody>\n",
       "</table>\n",
       "<p>6574 rows × 12 columns</p>\n",
       "</div>"
      ],
      "text/plain": [
       "              RPT    VAL    ROS    KIL    SHA    BIR    DUB    CLA    MUL  \\\n",
       "Date                                                                        \n",
       "1961-01-01  15.04  14.96  13.17   9.29    NaN   9.87  13.67  10.25  10.83   \n",
       "1961-01-02  14.71    NaN  10.83   6.50  12.62   7.67  11.50  10.04   9.79   \n",
       "1961-01-03  18.50  16.88  12.33  10.13  11.17   6.17  11.25    NaN   8.50   \n",
       "1961-01-04  10.58   6.63  11.75   4.58   4.54   2.88   8.63   1.79   5.83   \n",
       "1961-01-05  13.33  13.25  11.42   6.17  10.71   8.21  11.92   6.54  10.92   \n",
       "...           ...    ...    ...    ...    ...    ...    ...    ...    ...   \n",
       "1978-12-27  17.58  16.96  17.62   8.08  13.21  11.67  14.46  15.59  14.04   \n",
       "1978-12-28  13.21   5.46  13.46   5.00   8.12   9.42  14.33  16.25  15.25   \n",
       "1978-12-29  14.00  10.29  14.42   8.71   9.71  10.54  19.17  12.46  14.50   \n",
       "1978-12-30  18.50  14.04  21.29   9.13  12.75   9.71  18.08  12.87  12.46   \n",
       "1978-12-31  20.33  17.41  27.29   9.59  12.08  10.13  19.25  11.63  11.58   \n",
       "\n",
       "              CLO    BEL    MAL  \n",
       "Date                             \n",
       "1961-01-01  12.58  18.50  15.04  \n",
       "1961-01-02   9.67  17.54  13.83  \n",
       "1961-01-03   7.67  12.75  12.71  \n",
       "1961-01-04   5.88   5.46  10.88  \n",
       "1961-01-05  10.34  12.92  11.83  \n",
       "...           ...    ...    ...  \n",
       "1978-12-27  14.00  17.21  40.08  \n",
       "1978-12-28  18.05  21.79  41.46  \n",
       "1978-12-29  16.42  18.88  29.58  \n",
       "1978-12-30  12.12  14.67  28.79  \n",
       "1978-12-31  11.38  12.08  22.08  \n",
       "\n",
       "[6574 rows x 12 columns]"
      ]
     },
     "execution_count": 191,
     "metadata": {},
     "output_type": "execute_result"
    }
   ],
   "source": [
    "wind"
   ]
  },
  {
   "cell_type": "markdown",
   "metadata": {},
   "source": [
    "### 59. Compute how many values are missing for each location over the entire record.  \n",
    "#### They should be ignored in all calculations below. "
   ]
  },
  {
   "cell_type": "code",
   "execution_count": 192,
   "metadata": {},
   "outputs": [],
   "source": [
    "total_missing=wind.isna().sum()"
   ]
  },
  {
   "cell_type": "code",
   "execution_count": 193,
   "metadata": {},
   "outputs": [
    {
     "data": {
      "text/plain": [
       "RPT    6\n",
       "VAL    3\n",
       "ROS    2\n",
       "KIL    5\n",
       "SHA    2\n",
       "BIR    0\n",
       "DUB    3\n",
       "CLA    2\n",
       "MUL    3\n",
       "CLO    1\n",
       "BEL    0\n",
       "MAL    4\n",
       "dtype: int64"
      ]
     },
     "execution_count": 193,
     "metadata": {},
     "output_type": "execute_result"
    }
   ],
   "source": [
    "total_missing"
   ]
  },
  {
   "cell_type": "markdown",
   "metadata": {},
   "source": [
    "### 60. Compute how many non-missing values there are in total."
   ]
  },
  {
   "cell_type": "code",
   "execution_count": 194,
   "metadata": {},
   "outputs": [],
   "source": [
    "\n",
    "total_non_missing = wind.notna().sum().sum()"
   ]
  },
  {
   "cell_type": "code",
   "execution_count": 195,
   "metadata": {},
   "outputs": [
    {
     "data": {
      "text/plain": [
       "78857"
      ]
     },
     "execution_count": 195,
     "metadata": {},
     "output_type": "execute_result"
    }
   ],
   "source": [
    "total_non_missing"
   ]
  },
  {
   "cell_type": "markdown",
   "metadata": {},
   "source": [
    "### 61. Calculate the mean windspeeds over all the locations and all the times.\n",
    "#### A single number for the entire dataset."
   ]
  },
  {
   "cell_type": "code",
   "execution_count": 196,
   "metadata": {},
   "outputs": [
    {
     "data": {
      "text/plain": [
       "10.227982360836938"
      ]
     },
     "execution_count": 196,
     "metadata": {},
     "output_type": "execute_result"
    }
   ],
   "source": [
    "wind.mean().mean()"
   ]
  },
  {
   "cell_type": "markdown",
   "metadata": {},
   "source": [
    "### 62. Create a DataFrame called loc_stats and calculate the min, max and mean windspeeds and standard deviations of the windspeeds at each location over all the days \n",
    "\n",
    "#### A different set of numbers for each location."
   ]
  },
  {
   "cell_type": "code",
   "execution_count": 197,
   "metadata": {},
   "outputs": [
    {
     "data": {
      "text/html": [
       "<div>\n",
       "<style scoped>\n",
       "    .dataframe tbody tr th:only-of-type {\n",
       "        vertical-align: middle;\n",
       "    }\n",
       "\n",
       "    .dataframe tbody tr th {\n",
       "        vertical-align: top;\n",
       "    }\n",
       "\n",
       "    .dataframe thead th {\n",
       "        text-align: right;\n",
       "    }\n",
       "</style>\n",
       "<table border=\"1\" class=\"dataframe\">\n",
       "  <thead>\n",
       "    <tr style=\"text-align: right;\">\n",
       "      <th></th>\n",
       "      <th>RPT</th>\n",
       "      <th>VAL</th>\n",
       "      <th>ROS</th>\n",
       "      <th>KIL</th>\n",
       "      <th>SHA</th>\n",
       "      <th>BIR</th>\n",
       "      <th>DUB</th>\n",
       "      <th>CLA</th>\n",
       "      <th>MUL</th>\n",
       "      <th>CLO</th>\n",
       "      <th>BEL</th>\n",
       "      <th>MAL</th>\n",
       "    </tr>\n",
       "  </thead>\n",
       "  <tbody>\n",
       "    <tr>\n",
       "      <th>min</th>\n",
       "      <td>0.670000</td>\n",
       "      <td>0.210000</td>\n",
       "      <td>1.500000</td>\n",
       "      <td>0.000000</td>\n",
       "      <td>0.130000</td>\n",
       "      <td>0.000000</td>\n",
       "      <td>0.000000</td>\n",
       "      <td>0.000000</td>\n",
       "      <td>0.000000</td>\n",
       "      <td>0.040000</td>\n",
       "      <td>0.130000</td>\n",
       "      <td>0.670000</td>\n",
       "    </tr>\n",
       "    <tr>\n",
       "      <th>max</th>\n",
       "      <td>35.800000</td>\n",
       "      <td>33.370000</td>\n",
       "      <td>33.840000</td>\n",
       "      <td>28.460000</td>\n",
       "      <td>37.540000</td>\n",
       "      <td>26.160000</td>\n",
       "      <td>30.370000</td>\n",
       "      <td>31.080000</td>\n",
       "      <td>25.880000</td>\n",
       "      <td>28.210000</td>\n",
       "      <td>42.380000</td>\n",
       "      <td>42.540000</td>\n",
       "    </tr>\n",
       "    <tr>\n",
       "      <th>mean</th>\n",
       "      <td>12.362987</td>\n",
       "      <td>10.644314</td>\n",
       "      <td>11.660526</td>\n",
       "      <td>6.306468</td>\n",
       "      <td>10.455834</td>\n",
       "      <td>7.092254</td>\n",
       "      <td>9.797343</td>\n",
       "      <td>8.495053</td>\n",
       "      <td>8.493590</td>\n",
       "      <td>8.707332</td>\n",
       "      <td>13.121007</td>\n",
       "      <td>15.599079</td>\n",
       "    </tr>\n",
       "    <tr>\n",
       "      <th>std</th>\n",
       "      <td>5.618413</td>\n",
       "      <td>5.267356</td>\n",
       "      <td>5.008450</td>\n",
       "      <td>3.605811</td>\n",
       "      <td>4.936125</td>\n",
       "      <td>3.968683</td>\n",
       "      <td>4.977555</td>\n",
       "      <td>4.499449</td>\n",
       "      <td>4.166872</td>\n",
       "      <td>4.503954</td>\n",
       "      <td>5.835037</td>\n",
       "      <td>6.699794</td>\n",
       "    </tr>\n",
       "  </tbody>\n",
       "</table>\n",
       "</div>"
      ],
      "text/plain": [
       "            RPT        VAL        ROS        KIL        SHA        BIR  \\\n",
       "min    0.670000   0.210000   1.500000   0.000000   0.130000   0.000000   \n",
       "max   35.800000  33.370000  33.840000  28.460000  37.540000  26.160000   \n",
       "mean  12.362987  10.644314  11.660526   6.306468  10.455834   7.092254   \n",
       "std    5.618413   5.267356   5.008450   3.605811   4.936125   3.968683   \n",
       "\n",
       "            DUB        CLA        MUL        CLO        BEL        MAL  \n",
       "min    0.000000   0.000000   0.000000   0.040000   0.130000   0.670000  \n",
       "max   30.370000  31.080000  25.880000  28.210000  42.380000  42.540000  \n",
       "mean   9.797343   8.495053   8.493590   8.707332  13.121007  15.599079  \n",
       "std    4.977555   4.499449   4.166872   4.503954   5.835037   6.699794  "
      ]
     },
     "execution_count": 197,
     "metadata": {},
     "output_type": "execute_result"
    }
   ],
   "source": [
    "wind.describe().loc[[\"min\", \"max\",\"mean\",\"std\"],:]"
   ]
  },
  {
   "cell_type": "markdown",
   "metadata": {},
   "source": [
    "### 63. Create a DataFrame called day_stats and calculate the min, max and mean windspeed and standard deviations of the windspeeds across all the locations at each day.\n",
    "\n",
    "#### A different set of numbers for each day."
   ]
  },
  {
   "cell_type": "code",
   "execution_count": 198,
   "metadata": {},
   "outputs": [
    {
     "data": {
      "text/html": [
       "<div>\n",
       "<style scoped>\n",
       "    .dataframe tbody tr th:only-of-type {\n",
       "        vertical-align: middle;\n",
       "    }\n",
       "\n",
       "    .dataframe tbody tr th {\n",
       "        vertical-align: top;\n",
       "    }\n",
       "\n",
       "    .dataframe thead th {\n",
       "        text-align: right;\n",
       "    }\n",
       "</style>\n",
       "<table border=\"1\" class=\"dataframe\">\n",
       "  <thead>\n",
       "    <tr style=\"text-align: right;\">\n",
       "      <th></th>\n",
       "      <th>RPT</th>\n",
       "      <th>VAL</th>\n",
       "      <th>ROS</th>\n",
       "      <th>KIL</th>\n",
       "      <th>SHA</th>\n",
       "      <th>BIR</th>\n",
       "      <th>DUB</th>\n",
       "      <th>CLA</th>\n",
       "      <th>MUL</th>\n",
       "      <th>CLO</th>\n",
       "      <th>BEL</th>\n",
       "      <th>MAL</th>\n",
       "    </tr>\n",
       "    <tr>\n",
       "      <th>day</th>\n",
       "      <th></th>\n",
       "      <th></th>\n",
       "      <th></th>\n",
       "      <th></th>\n",
       "      <th></th>\n",
       "      <th></th>\n",
       "      <th></th>\n",
       "      <th></th>\n",
       "      <th></th>\n",
       "      <th></th>\n",
       "      <th></th>\n",
       "      <th></th>\n",
       "    </tr>\n",
       "  </thead>\n",
       "  <tbody>\n",
       "    <tr>\n",
       "      <th>1</th>\n",
       "      <td>5.534959</td>\n",
       "      <td>5.412796</td>\n",
       "      <td>4.582007</td>\n",
       "      <td>3.433964</td>\n",
       "      <td>5.091676</td>\n",
       "      <td>4.105684</td>\n",
       "      <td>5.042033</td>\n",
       "      <td>4.878414</td>\n",
       "      <td>4.262220</td>\n",
       "      <td>4.608326</td>\n",
       "      <td>6.324820</td>\n",
       "      <td>6.831468</td>\n",
       "    </tr>\n",
       "    <tr>\n",
       "      <th>2</th>\n",
       "      <td>5.946406</td>\n",
       "      <td>5.572061</td>\n",
       "      <td>5.218781</td>\n",
       "      <td>3.914021</td>\n",
       "      <td>4.996067</td>\n",
       "      <td>4.036376</td>\n",
       "      <td>4.907658</td>\n",
       "      <td>4.539312</td>\n",
       "      <td>4.173657</td>\n",
       "      <td>4.545839</td>\n",
       "      <td>6.054707</td>\n",
       "      <td>7.103918</td>\n",
       "    </tr>\n",
       "    <tr>\n",
       "      <th>3</th>\n",
       "      <td>4.838973</td>\n",
       "      <td>4.848868</td>\n",
       "      <td>4.621727</td>\n",
       "      <td>3.231800</td>\n",
       "      <td>4.617837</td>\n",
       "      <td>3.858780</td>\n",
       "      <td>4.546408</td>\n",
       "      <td>4.154935</td>\n",
       "      <td>3.889938</td>\n",
       "      <td>4.150422</td>\n",
       "      <td>5.648085</td>\n",
       "      <td>6.525284</td>\n",
       "    </tr>\n",
       "    <tr>\n",
       "      <th>4</th>\n",
       "      <td>5.482379</td>\n",
       "      <td>4.988027</td>\n",
       "      <td>5.105026</td>\n",
       "      <td>3.282170</td>\n",
       "      <td>4.635846</td>\n",
       "      <td>3.964232</td>\n",
       "      <td>4.731526</td>\n",
       "      <td>4.298113</td>\n",
       "      <td>3.876585</td>\n",
       "      <td>4.248641</td>\n",
       "      <td>5.294484</td>\n",
       "      <td>6.184097</td>\n",
       "    </tr>\n",
       "    <tr>\n",
       "      <th>5</th>\n",
       "      <td>5.018858</td>\n",
       "      <td>4.575625</td>\n",
       "      <td>4.669431</td>\n",
       "      <td>3.293683</td>\n",
       "      <td>4.333664</td>\n",
       "      <td>3.666921</td>\n",
       "      <td>4.703508</td>\n",
       "      <td>4.272289</td>\n",
       "      <td>3.835146</td>\n",
       "      <td>4.401307</td>\n",
       "      <td>5.616161</td>\n",
       "      <td>6.545037</td>\n",
       "    </tr>\n",
       "    <tr>\n",
       "      <th>6</th>\n",
       "      <td>5.736093</td>\n",
       "      <td>5.440491</td>\n",
       "      <td>5.134045</td>\n",
       "      <td>3.553560</td>\n",
       "      <td>5.007334</td>\n",
       "      <td>4.041819</td>\n",
       "      <td>4.993168</td>\n",
       "      <td>4.509401</td>\n",
       "      <td>4.245325</td>\n",
       "      <td>4.516305</td>\n",
       "      <td>5.958362</td>\n",
       "      <td>6.769559</td>\n",
       "    </tr>\n",
       "    <tr>\n",
       "      <th>7</th>\n",
       "      <td>5.991000</td>\n",
       "      <td>5.412942</td>\n",
       "      <td>5.446082</td>\n",
       "      <td>3.770482</td>\n",
       "      <td>4.997100</td>\n",
       "      <td>4.064026</td>\n",
       "      <td>4.940229</td>\n",
       "      <td>4.314495</td>\n",
       "      <td>4.272481</td>\n",
       "      <td>4.469148</td>\n",
       "      <td>5.363399</td>\n",
       "      <td>6.551976</td>\n",
       "    </tr>\n",
       "    <tr>\n",
       "      <th>8</th>\n",
       "      <td>5.355591</td>\n",
       "      <td>4.946410</td>\n",
       "      <td>4.800190</td>\n",
       "      <td>3.329457</td>\n",
       "      <td>4.506505</td>\n",
       "      <td>3.812162</td>\n",
       "      <td>4.588270</td>\n",
       "      <td>4.180179</td>\n",
       "      <td>3.915260</td>\n",
       "      <td>4.273324</td>\n",
       "      <td>5.681685</td>\n",
       "      <td>6.490064</td>\n",
       "    </tr>\n",
       "    <tr>\n",
       "      <th>9</th>\n",
       "      <td>5.428632</td>\n",
       "      <td>5.403010</td>\n",
       "      <td>5.102224</td>\n",
       "      <td>3.623177</td>\n",
       "      <td>4.831699</td>\n",
       "      <td>3.939803</td>\n",
       "      <td>4.783601</td>\n",
       "      <td>4.418473</td>\n",
       "      <td>4.067025</td>\n",
       "      <td>4.313790</td>\n",
       "      <td>5.656118</td>\n",
       "      <td>6.426624</td>\n",
       "    </tr>\n",
       "    <tr>\n",
       "      <th>10</th>\n",
       "      <td>5.933813</td>\n",
       "      <td>5.791016</td>\n",
       "      <td>5.321347</td>\n",
       "      <td>3.822069</td>\n",
       "      <td>5.030419</td>\n",
       "      <td>4.043949</td>\n",
       "      <td>4.973405</td>\n",
       "      <td>4.611673</td>\n",
       "      <td>4.197279</td>\n",
       "      <td>4.553183</td>\n",
       "      <td>6.072945</td>\n",
       "      <td>6.577875</td>\n",
       "    </tr>\n",
       "    <tr>\n",
       "      <th>11</th>\n",
       "      <td>5.759974</td>\n",
       "      <td>5.472212</td>\n",
       "      <td>5.079166</td>\n",
       "      <td>3.783114</td>\n",
       "      <td>5.112479</td>\n",
       "      <td>3.983327</td>\n",
       "      <td>5.265222</td>\n",
       "      <td>4.568869</td>\n",
       "      <td>4.259504</td>\n",
       "      <td>4.633050</td>\n",
       "      <td>6.021290</td>\n",
       "      <td>6.658670</td>\n",
       "    </tr>\n",
       "    <tr>\n",
       "      <th>12</th>\n",
       "      <td>6.245118</td>\n",
       "      <td>5.735801</td>\n",
       "      <td>5.058619</td>\n",
       "      <td>3.962964</td>\n",
       "      <td>5.665772</td>\n",
       "      <td>4.326077</td>\n",
       "      <td>5.328815</td>\n",
       "      <td>5.022070</td>\n",
       "      <td>4.766169</td>\n",
       "      <td>4.917831</td>\n",
       "      <td>6.414910</td>\n",
       "      <td>7.222997</td>\n",
       "    </tr>\n",
       "    <tr>\n",
       "      <th>13</th>\n",
       "      <td>5.727754</td>\n",
       "      <td>5.434594</td>\n",
       "      <td>5.046597</td>\n",
       "      <td>3.452483</td>\n",
       "      <td>5.020058</td>\n",
       "      <td>3.836223</td>\n",
       "      <td>4.767799</td>\n",
       "      <td>4.548787</td>\n",
       "      <td>3.958766</td>\n",
       "      <td>4.478849</td>\n",
       "      <td>5.835865</td>\n",
       "      <td>6.403275</td>\n",
       "    </tr>\n",
       "    <tr>\n",
       "      <th>14</th>\n",
       "      <td>6.162873</td>\n",
       "      <td>5.681016</td>\n",
       "      <td>5.388531</td>\n",
       "      <td>3.845815</td>\n",
       "      <td>5.266558</td>\n",
       "      <td>4.003812</td>\n",
       "      <td>5.102665</td>\n",
       "      <td>4.736517</td>\n",
       "      <td>4.018529</td>\n",
       "      <td>4.796845</td>\n",
       "      <td>5.881923</td>\n",
       "      <td>6.898474</td>\n",
       "    </tr>\n",
       "    <tr>\n",
       "      <th>15</th>\n",
       "      <td>5.662954</td>\n",
       "      <td>5.197073</td>\n",
       "      <td>4.971730</td>\n",
       "      <td>3.809468</td>\n",
       "      <td>5.037236</td>\n",
       "      <td>4.156581</td>\n",
       "      <td>5.087355</td>\n",
       "      <td>4.625100</td>\n",
       "      <td>4.138880</td>\n",
       "      <td>4.719585</td>\n",
       "      <td>5.903065</td>\n",
       "      <td>6.832946</td>\n",
       "    </tr>\n",
       "    <tr>\n",
       "      <th>16</th>\n",
       "      <td>6.010347</td>\n",
       "      <td>5.439317</td>\n",
       "      <td>5.184931</td>\n",
       "      <td>3.863095</td>\n",
       "      <td>5.155662</td>\n",
       "      <td>4.111455</td>\n",
       "      <td>5.063355</td>\n",
       "      <td>4.716974</td>\n",
       "      <td>4.370269</td>\n",
       "      <td>4.935503</td>\n",
       "      <td>5.938609</td>\n",
       "      <td>7.135995</td>\n",
       "    </tr>\n",
       "    <tr>\n",
       "      <th>17</th>\n",
       "      <td>5.915171</td>\n",
       "      <td>5.490692</td>\n",
       "      <td>5.232026</td>\n",
       "      <td>4.059713</td>\n",
       "      <td>5.336158</td>\n",
       "      <td>4.533957</td>\n",
       "      <td>5.580117</td>\n",
       "      <td>4.896881</td>\n",
       "      <td>4.686201</td>\n",
       "      <td>4.881447</td>\n",
       "      <td>5.897527</td>\n",
       "      <td>7.254384</td>\n",
       "    </tr>\n",
       "    <tr>\n",
       "      <th>18</th>\n",
       "      <td>5.524622</td>\n",
       "      <td>5.106754</td>\n",
       "      <td>4.884609</td>\n",
       "      <td>3.762768</td>\n",
       "      <td>4.996539</td>\n",
       "      <td>4.040049</td>\n",
       "      <td>5.343086</td>\n",
       "      <td>4.651169</td>\n",
       "      <td>4.350676</td>\n",
       "      <td>4.868871</td>\n",
       "      <td>5.663908</td>\n",
       "      <td>7.155012</td>\n",
       "    </tr>\n",
       "    <tr>\n",
       "      <th>19</th>\n",
       "      <td>5.393668</td>\n",
       "      <td>5.276863</td>\n",
       "      <td>4.992509</td>\n",
       "      <td>3.563809</td>\n",
       "      <td>4.822264</td>\n",
       "      <td>3.941533</td>\n",
       "      <td>5.318696</td>\n",
       "      <td>4.445855</td>\n",
       "      <td>4.351581</td>\n",
       "      <td>4.450439</td>\n",
       "      <td>5.908002</td>\n",
       "      <td>6.878513</td>\n",
       "    </tr>\n",
       "    <tr>\n",
       "      <th>20</th>\n",
       "      <td>5.317169</td>\n",
       "      <td>5.265401</td>\n",
       "      <td>4.920794</td>\n",
       "      <td>3.410077</td>\n",
       "      <td>4.806930</td>\n",
       "      <td>3.877768</td>\n",
       "      <td>4.783863</td>\n",
       "      <td>4.413651</td>\n",
       "      <td>4.174852</td>\n",
       "      <td>4.250976</td>\n",
       "      <td>5.834326</td>\n",
       "      <td>6.851750</td>\n",
       "    </tr>\n",
       "    <tr>\n",
       "      <th>21</th>\n",
       "      <td>5.643606</td>\n",
       "      <td>5.213750</td>\n",
       "      <td>5.042827</td>\n",
       "      <td>3.478028</td>\n",
       "      <td>4.753538</td>\n",
       "      <td>3.867120</td>\n",
       "      <td>4.825825</td>\n",
       "      <td>4.392278</td>\n",
       "      <td>4.263818</td>\n",
       "      <td>4.459513</td>\n",
       "      <td>5.846780</td>\n",
       "      <td>6.682680</td>\n",
       "    </tr>\n",
       "    <tr>\n",
       "      <th>22</th>\n",
       "      <td>5.521764</td>\n",
       "      <td>5.327618</td>\n",
       "      <td>4.898412</td>\n",
       "      <td>3.600701</td>\n",
       "      <td>4.956823</td>\n",
       "      <td>3.882101</td>\n",
       "      <td>5.108622</td>\n",
       "      <td>4.516251</td>\n",
       "      <td>4.333781</td>\n",
       "      <td>4.382538</td>\n",
       "      <td>5.816317</td>\n",
       "      <td>6.529387</td>\n",
       "    </tr>\n",
       "    <tr>\n",
       "      <th>23</th>\n",
       "      <td>5.473961</td>\n",
       "      <td>5.120243</td>\n",
       "      <td>4.809804</td>\n",
       "      <td>3.249228</td>\n",
       "      <td>4.605669</td>\n",
       "      <td>3.660197</td>\n",
       "      <td>4.600197</td>\n",
       "      <td>4.138031</td>\n",
       "      <td>3.912437</td>\n",
       "      <td>4.067465</td>\n",
       "      <td>5.706422</td>\n",
       "      <td>6.549073</td>\n",
       "    </tr>\n",
       "    <tr>\n",
       "      <th>24</th>\n",
       "      <td>5.509528</td>\n",
       "      <td>4.875378</td>\n",
       "      <td>4.739548</td>\n",
       "      <td>3.427224</td>\n",
       "      <td>4.690958</td>\n",
       "      <td>3.936038</td>\n",
       "      <td>4.822924</td>\n",
       "      <td>4.458001</td>\n",
       "      <td>3.968903</td>\n",
       "      <td>4.366851</td>\n",
       "      <td>5.567057</td>\n",
       "      <td>6.424964</td>\n",
       "    </tr>\n",
       "    <tr>\n",
       "      <th>25</th>\n",
       "      <td>5.837022</td>\n",
       "      <td>5.340621</td>\n",
       "      <td>4.810522</td>\n",
       "      <td>3.666422</td>\n",
       "      <td>4.988357</td>\n",
       "      <td>3.878364</td>\n",
       "      <td>4.674371</td>\n",
       "      <td>4.518154</td>\n",
       "      <td>4.001802</td>\n",
       "      <td>4.463620</td>\n",
       "      <td>5.790937</td>\n",
       "      <td>6.105124</td>\n",
       "    </tr>\n",
       "    <tr>\n",
       "      <th>26</th>\n",
       "      <td>5.545016</td>\n",
       "      <td>5.134262</td>\n",
       "      <td>4.689309</td>\n",
       "      <td>3.719750</td>\n",
       "      <td>5.338214</td>\n",
       "      <td>4.083525</td>\n",
       "      <td>5.026071</td>\n",
       "      <td>4.474328</td>\n",
       "      <td>4.243902</td>\n",
       "      <td>4.499442</td>\n",
       "      <td>5.729924</td>\n",
       "      <td>6.038490</td>\n",
       "    </tr>\n",
       "    <tr>\n",
       "      <th>27</th>\n",
       "      <td>5.930174</td>\n",
       "      <td>5.493929</td>\n",
       "      <td>5.036242</td>\n",
       "      <td>3.836857</td>\n",
       "      <td>5.189327</td>\n",
       "      <td>4.120390</td>\n",
       "      <td>5.376032</td>\n",
       "      <td>4.774937</td>\n",
       "      <td>4.330069</td>\n",
       "      <td>4.993766</td>\n",
       "      <td>6.177339</td>\n",
       "      <td>7.220599</td>\n",
       "    </tr>\n",
       "    <tr>\n",
       "      <th>28</th>\n",
       "      <td>5.351962</td>\n",
       "      <td>5.078688</td>\n",
       "      <td>4.591128</td>\n",
       "      <td>3.424927</td>\n",
       "      <td>4.801378</td>\n",
       "      <td>3.735038</td>\n",
       "      <td>4.760621</td>\n",
       "      <td>4.349812</td>\n",
       "      <td>4.083737</td>\n",
       "      <td>4.239193</td>\n",
       "      <td>5.930767</td>\n",
       "      <td>7.161258</td>\n",
       "    </tr>\n",
       "    <tr>\n",
       "      <th>29</th>\n",
       "      <td>5.468639</td>\n",
       "      <td>4.894242</td>\n",
       "      <td>5.247477</td>\n",
       "      <td>3.582288</td>\n",
       "      <td>4.765772</td>\n",
       "      <td>3.897390</td>\n",
       "      <td>4.933119</td>\n",
       "      <td>4.248369</td>\n",
       "      <td>4.088134</td>\n",
       "      <td>4.445481</td>\n",
       "      <td>5.628559</td>\n",
       "      <td>6.650852</td>\n",
       "    </tr>\n",
       "    <tr>\n",
       "      <th>30</th>\n",
       "      <td>5.225219</td>\n",
       "      <td>4.985032</td>\n",
       "      <td>5.412066</td>\n",
       "      <td>3.544929</td>\n",
       "      <td>4.459110</td>\n",
       "      <td>3.619259</td>\n",
       "      <td>5.065005</td>\n",
       "      <td>4.125005</td>\n",
       "      <td>3.757587</td>\n",
       "      <td>4.188827</td>\n",
       "      <td>5.809244</td>\n",
       "      <td>6.430159</td>\n",
       "    </tr>\n",
       "    <tr>\n",
       "      <th>31</th>\n",
       "      <td>5.278708</td>\n",
       "      <td>5.132538</td>\n",
       "      <td>5.453666</td>\n",
       "      <td>3.148535</td>\n",
       "      <td>4.979549</td>\n",
       "      <td>3.888058</td>\n",
       "      <td>5.348706</td>\n",
       "      <td>4.519859</td>\n",
       "      <td>4.243621</td>\n",
       "      <td>4.303889</td>\n",
       "      <td>5.731164</td>\n",
       "      <td>6.394274</td>\n",
       "    </tr>\n",
       "  </tbody>\n",
       "</table>\n",
       "</div>"
      ],
      "text/plain": [
       "          RPT       VAL       ROS       KIL       SHA       BIR       DUB  \\\n",
       "day                                                                         \n",
       "1    5.534959  5.412796  4.582007  3.433964  5.091676  4.105684  5.042033   \n",
       "2    5.946406  5.572061  5.218781  3.914021  4.996067  4.036376  4.907658   \n",
       "3    4.838973  4.848868  4.621727  3.231800  4.617837  3.858780  4.546408   \n",
       "4    5.482379  4.988027  5.105026  3.282170  4.635846  3.964232  4.731526   \n",
       "5    5.018858  4.575625  4.669431  3.293683  4.333664  3.666921  4.703508   \n",
       "6    5.736093  5.440491  5.134045  3.553560  5.007334  4.041819  4.993168   \n",
       "7    5.991000  5.412942  5.446082  3.770482  4.997100  4.064026  4.940229   \n",
       "8    5.355591  4.946410  4.800190  3.329457  4.506505  3.812162  4.588270   \n",
       "9    5.428632  5.403010  5.102224  3.623177  4.831699  3.939803  4.783601   \n",
       "10   5.933813  5.791016  5.321347  3.822069  5.030419  4.043949  4.973405   \n",
       "11   5.759974  5.472212  5.079166  3.783114  5.112479  3.983327  5.265222   \n",
       "12   6.245118  5.735801  5.058619  3.962964  5.665772  4.326077  5.328815   \n",
       "13   5.727754  5.434594  5.046597  3.452483  5.020058  3.836223  4.767799   \n",
       "14   6.162873  5.681016  5.388531  3.845815  5.266558  4.003812  5.102665   \n",
       "15   5.662954  5.197073  4.971730  3.809468  5.037236  4.156581  5.087355   \n",
       "16   6.010347  5.439317  5.184931  3.863095  5.155662  4.111455  5.063355   \n",
       "17   5.915171  5.490692  5.232026  4.059713  5.336158  4.533957  5.580117   \n",
       "18   5.524622  5.106754  4.884609  3.762768  4.996539  4.040049  5.343086   \n",
       "19   5.393668  5.276863  4.992509  3.563809  4.822264  3.941533  5.318696   \n",
       "20   5.317169  5.265401  4.920794  3.410077  4.806930  3.877768  4.783863   \n",
       "21   5.643606  5.213750  5.042827  3.478028  4.753538  3.867120  4.825825   \n",
       "22   5.521764  5.327618  4.898412  3.600701  4.956823  3.882101  5.108622   \n",
       "23   5.473961  5.120243  4.809804  3.249228  4.605669  3.660197  4.600197   \n",
       "24   5.509528  4.875378  4.739548  3.427224  4.690958  3.936038  4.822924   \n",
       "25   5.837022  5.340621  4.810522  3.666422  4.988357  3.878364  4.674371   \n",
       "26   5.545016  5.134262  4.689309  3.719750  5.338214  4.083525  5.026071   \n",
       "27   5.930174  5.493929  5.036242  3.836857  5.189327  4.120390  5.376032   \n",
       "28   5.351962  5.078688  4.591128  3.424927  4.801378  3.735038  4.760621   \n",
       "29   5.468639  4.894242  5.247477  3.582288  4.765772  3.897390  4.933119   \n",
       "30   5.225219  4.985032  5.412066  3.544929  4.459110  3.619259  5.065005   \n",
       "31   5.278708  5.132538  5.453666  3.148535  4.979549  3.888058  5.348706   \n",
       "\n",
       "          CLA       MUL       CLO       BEL       MAL  \n",
       "day                                                    \n",
       "1    4.878414  4.262220  4.608326  6.324820  6.831468  \n",
       "2    4.539312  4.173657  4.545839  6.054707  7.103918  \n",
       "3    4.154935  3.889938  4.150422  5.648085  6.525284  \n",
       "4    4.298113  3.876585  4.248641  5.294484  6.184097  \n",
       "5    4.272289  3.835146  4.401307  5.616161  6.545037  \n",
       "6    4.509401  4.245325  4.516305  5.958362  6.769559  \n",
       "7    4.314495  4.272481  4.469148  5.363399  6.551976  \n",
       "8    4.180179  3.915260  4.273324  5.681685  6.490064  \n",
       "9    4.418473  4.067025  4.313790  5.656118  6.426624  \n",
       "10   4.611673  4.197279  4.553183  6.072945  6.577875  \n",
       "11   4.568869  4.259504  4.633050  6.021290  6.658670  \n",
       "12   5.022070  4.766169  4.917831  6.414910  7.222997  \n",
       "13   4.548787  3.958766  4.478849  5.835865  6.403275  \n",
       "14   4.736517  4.018529  4.796845  5.881923  6.898474  \n",
       "15   4.625100  4.138880  4.719585  5.903065  6.832946  \n",
       "16   4.716974  4.370269  4.935503  5.938609  7.135995  \n",
       "17   4.896881  4.686201  4.881447  5.897527  7.254384  \n",
       "18   4.651169  4.350676  4.868871  5.663908  7.155012  \n",
       "19   4.445855  4.351581  4.450439  5.908002  6.878513  \n",
       "20   4.413651  4.174852  4.250976  5.834326  6.851750  \n",
       "21   4.392278  4.263818  4.459513  5.846780  6.682680  \n",
       "22   4.516251  4.333781  4.382538  5.816317  6.529387  \n",
       "23   4.138031  3.912437  4.067465  5.706422  6.549073  \n",
       "24   4.458001  3.968903  4.366851  5.567057  6.424964  \n",
       "25   4.518154  4.001802  4.463620  5.790937  6.105124  \n",
       "26   4.474328  4.243902  4.499442  5.729924  6.038490  \n",
       "27   4.774937  4.330069  4.993766  6.177339  7.220599  \n",
       "28   4.349812  4.083737  4.239193  5.930767  7.161258  \n",
       "29   4.248369  4.088134  4.445481  5.628559  6.650852  \n",
       "30   4.125005  3.757587  4.188827  5.809244  6.430159  \n",
       "31   4.519859  4.243621  4.303889  5.731164  6.394274  "
      ]
     },
     "execution_count": 198,
     "metadata": {},
     "output_type": "execute_result"
    }
   ],
   "source": [
    "df=wind.copy()\n",
    "\n",
    "df['day']= wind.index.day\n",
    "\n",
    "df.groupby('day').agg(min)\n",
    "df.groupby('day').agg(max)\n",
    "df.groupby('day').agg(np.mean)\n",
    "df.groupby('day').agg(np.std)"
   ]
  },
  {
   "cell_type": "markdown",
   "metadata": {},
   "source": [
    "### 64. Find the average windspeed in January for each location.  \n",
    "#### Treat January 1961 and January 1962 both as January."
   ]
  },
  {
   "cell_type": "code",
   "execution_count": 199,
   "metadata": {},
   "outputs": [
    {
     "data": {
      "text/plain": [
       "0        True\n",
       "1        True\n",
       "2        True\n",
       "3        True\n",
       "4        True\n",
       "        ...  \n",
       "6569    False\n",
       "6570    False\n",
       "6571    False\n",
       "6572    False\n",
       "6573    False\n",
       "Name: Date, Length: 6574, dtype: bool"
      ]
     },
     "execution_count": 199,
     "metadata": {},
     "output_type": "execute_result"
    }
   ],
   "source": [
    "pd.Series(wind.index).dt.month==1"
   ]
  },
  {
   "cell_type": "code",
   "execution_count": 200,
   "metadata": {},
   "outputs": [
    {
     "data": {
      "text/plain": [
       "RPT    14.847325\n",
       "VAL    12.914560\n",
       "ROS    13.299624\n",
       "KIL     7.199498\n",
       "SHA    11.667734\n",
       "BIR     8.054839\n",
       "DUB    11.819355\n",
       "CLA     9.512047\n",
       "MUL     9.543208\n",
       "CLO    10.053566\n",
       "BEL    14.550520\n",
       "MAL    18.028763\n",
       "dtype: float64"
      ]
     },
     "execution_count": 200,
     "metadata": {},
     "output_type": "execute_result"
    }
   ],
   "source": [
    "df=wind.loc[(pd.Series(wind.index).dt.month==1).to_numpy(),:]\n",
    "df.mean()"
   ]
  },
  {
   "cell_type": "markdown",
   "metadata": {},
   "source": [
    "### 65. Calculate the mean windspeed for each month in the dataset.  \n",
    "#### Treat January 1961 and January 1962 as *different* months.\n",
    "#### (hint: first find a  way to create an identifier unique for each month.)"
   ]
  },
  {
   "cell_type": "code",
   "execution_count": 201,
   "metadata": {},
   "outputs": [
    {
     "name": "stdout",
     "output_type": "stream",
     "text": [
      "                  RPT        VAL        ROS        KIL        SHA        BIR  \\\n",
      "year_month                                                                     \n",
      "1961-01     14.841333  11.988333  13.431613   7.736774  11.072759   8.588065   \n",
      "1962-01     14.783871  13.160323  12.591935   7.538065  11.779677   8.720000   \n",
      "1963-01     14.868387  11.112903  15.121613   6.635806  11.080645   7.835484   \n",
      "1964-01     12.661290  11.818387  11.741290   6.953548  11.400645   6.865806   \n",
      "1965-01     15.741613  15.546774  15.274194   8.258387  13.588065   9.251290   \n",
      "1966-01     15.834839  13.283226  15.136452   8.659355  12.968065   9.163548   \n",
      "1967-01     13.736129  11.470968  11.537419   6.928065  10.833548   6.730323   \n",
      "1968-01     14.733226  12.829032  12.294194   7.849032  12.262581   7.133226   \n",
      "1969-01     12.824839  12.113871  11.403871   6.708710  10.557097   5.926452   \n",
      "1970-01     13.152581  11.731935  13.083871   5.810968   9.507742   8.040323   \n",
      "1971-01     15.098065  13.398387  13.080000   6.364194  11.342258   7.759677   \n",
      "1972-01     14.383871  11.848387  13.732258   5.925161  10.823226   7.291290   \n",
      "1973-01     13.177742  12.202903  10.860968   5.454516   9.327419   7.419677   \n",
      "1974-01     20.990968  17.623548  17.514839  10.549355  15.858387  11.298387   \n",
      "1975-01     17.100323  15.812903  13.942581   8.081935  13.934194   8.437742   \n",
      "1976-01     15.626129  14.240323  13.867097   7.789355  13.081935   9.003548   \n",
      "1977-01     13.404516  10.377742  12.764839   5.884516   9.159677   8.005161   \n",
      "1978-01     14.291935  11.872258  12.014194   6.463226  11.402903   7.517097   \n",
      "\n",
      "                  DUB        CLA        MUL        CLO        BEL        MAL  \n",
      "year_month                                                                    \n",
      "1961-01     11.184839   9.245333   9.085806  10.107419  13.880968  14.703226  \n",
      "1962-01     14.211935   9.600000   9.670000  11.498710  16.369355  15.661613  \n",
      "1963-01     12.797419   9.844839   7.841613   9.390000  11.428710  18.822258  \n",
      "1964-01      9.592903   9.687419   6.947742   9.676774  15.067419  14.145484  \n",
      "1965-01     13.850968  11.260000   9.899355  11.706129  16.196129  17.888710  \n",
      "1966-01     12.150000  10.475806   8.750645  10.739677  14.074516  15.554194  \n",
      "1967-01      9.787419   7.474839   7.627097  10.169032  13.457742  17.124516  \n",
      "1968-01     12.395806   9.225806   9.415484   9.255161  14.213871  19.095484  \n",
      "1969-01      9.882903   8.375161   8.378065   9.515484  13.410000  16.957742  \n",
      "1970-01      9.843226   8.834194   8.407097   7.626452  12.403871  17.192903  \n",
      "1971-01     10.297419   8.350000   8.979355   8.666774  14.392581  16.360000  \n",
      "1972-01     11.287097   6.733548   9.109355   8.728387  12.170645  17.598710  \n",
      "1973-01     10.738710   7.880000   8.651290   7.596774  12.076452  14.684516  \n",
      "1974-01     14.112258  12.786452  14.691935  15.092903  19.929677  24.573226  \n",
      "1975-01     13.179677  12.601935  13.000645  11.064839  19.266774  21.713226  \n",
      "1976-01     15.121290  11.414839  13.493226  11.553871  16.337097  22.896129  \n",
      "1977-01     10.107419   7.211613   8.280000   9.328387  12.131935  18.830000  \n",
      "1978-01     12.207097  10.206452   9.549032   9.247419  15.101613  20.715806  \n"
     ]
    },
    {
     "name": "stderr",
     "output_type": "stream",
     "text": [
      "C:\\Users\\hp\\AppData\\Local\\Temp\\ipykernel_128\\1658537846.py:2: SettingWithCopyWarning: \n",
      "A value is trying to be set on a copy of a slice from a DataFrame.\n",
      "Try using .loc[row_indexer,col_indexer] = value instead\n",
      "\n",
      "See the caveats in the documentation: https://pandas.pydata.org/pandas-docs/stable/user_guide/indexing.html#returning-a-view-versus-a-copy\n",
      "  df['year_month'] = df.index.to_period('M')\n"
     ]
    }
   ],
   "source": [
    "\n",
    "df.index = pd.to_datetime(df.index)\n",
    "df['year_month'] = df.index.to_period('M')\n",
    "mean_windspeed_per_month = df.groupby('year_month').mean()\n",
    "print(mean_windspeed_per_month)\n"
   ]
  },
  {
   "cell_type": "markdown",
   "metadata": {},
   "source": [
    "### 66. Calculate the min, max and mean windspeeds and standard deviations of the windspeeds across all locations for each week (assume that the first week starts on January 2 1961) for the first 52 weeks."
   ]
  },
  {
   "cell_type": "code",
   "execution_count": null,
   "metadata": {},
   "outputs": [],
   "source": [
    "\n",
    "df.index = pd.to_datetime(df.index)\n",
    "\n",
    "weekly_data = df.resample('W-Mon', closed='right', label='right').mean()\n",
    "\n",
    "# Extract the first 52 weeks\n",
    "weekly_data = weekly_data.head(52)\n",
    "\n",
    "# Calculate the statistics for each week\n",
    "weekly_stats = weekly_data.agg(['min', 'max', 'mean', 'std'])\n",
    "\n",
    "# Print the resulting DataFrame\n",
    "print(weekly_stats)\n"
   ]
  },
  {
   "cell_type": "markdown",
   "metadata": {},
   "source": [
    "## The below exercises (67-70) required to use appl_1980_2014.csv  file"
   ]
  },
  {
   "cell_type": "markdown",
   "metadata": {},
   "source": [
    "### 67. Import the file appl_1980_2014.csv and assign it to a variable called 'apple'"
   ]
  },
  {
   "cell_type": "code",
   "execution_count": 170,
   "metadata": {},
   "outputs": [],
   "source": [
    "apple=pd.read_csv(r\"C:\\Users\\hp\\Downloads\\Basic Data Manipulation - Visualization Exercise\\2. Basic Data Manipulation - Visualization Exercise\\Exercise Data Files\\appl_1980_2014.csv\")"
   ]
  },
  {
   "cell_type": "code",
   "execution_count": 172,
   "metadata": {},
   "outputs": [],
   "source": [
    "df=pd.DataFrame(apple)"
   ]
  },
  {
   "cell_type": "markdown",
   "metadata": {},
   "source": [
    "### 68.  Check out the type of the columns"
   ]
  },
  {
   "cell_type": "code",
   "execution_count": 173,
   "metadata": {},
   "outputs": [
    {
     "data": {
      "text/plain": [
       "Date          object\n",
       "Open         float64\n",
       "High         float64\n",
       "Low          float64\n",
       "Close        float64\n",
       "Volume         int64\n",
       "Adj Close    float64\n",
       "dtype: object"
      ]
     },
     "execution_count": 173,
     "metadata": {},
     "output_type": "execute_result"
    }
   ],
   "source": [
    "apple.dtypes"
   ]
  },
  {
   "cell_type": "markdown",
   "metadata": {},
   "source": [
    "### 69. Transform the Date column as a datetime type"
   ]
  },
  {
   "cell_type": "code",
   "execution_count": 177,
   "metadata": {},
   "outputs": [
    {
     "name": "stdout",
     "output_type": "stream",
     "text": [
      "Date         datetime64[ns]\n",
      "Open                float64\n",
      "High                float64\n",
      "Low                 float64\n",
      "Close               float64\n",
      "Volume                int64\n",
      "Adj Close           float64\n",
      "dtype: object\n"
     ]
    }
   ],
   "source": [
    "df['Date'] = pd.to_datetime(df['Date'])\n",
    "\n",
    "# Check the data types after transformation\n",
    "print(df.dtypes)"
   ]
  },
  {
   "cell_type": "markdown",
   "metadata": {},
   "source": [
    "### 70.  Set the date as the index"
   ]
  },
  {
   "cell_type": "code",
   "execution_count": 178,
   "metadata": {},
   "outputs": [
    {
     "name": "stdout",
     "output_type": "stream",
     "text": [
      "RangeIndex(start=0, stop=8465, step=1)\n"
     ]
    }
   ],
   "source": [
    "print(apple.index)\n",
    "\n"
   ]
  },
  {
   "cell_type": "markdown",
   "metadata": {},
   "source": [
    "### 72.  The index is from the most recent date. Sort the data so that the first entry is the oldest date."
   ]
  },
  {
   "cell_type": "code",
   "execution_count": 179,
   "metadata": {},
   "outputs": [],
   "source": [
    "apple.sort_index(ascending=True, inplace=True)\n"
   ]
  },
  {
   "cell_type": "markdown",
   "metadata": {},
   "source": [
    "### 73. Get the last business day of each month"
   ]
  },
  {
   "cell_type": "code",
   "execution_count": 180,
   "metadata": {},
   "outputs": [
    {
     "name": "stdout",
     "output_type": "stream",
     "text": [
      "DatetimeIndex([], dtype='datetime64[ns]', freq='BM')\n"
     ]
    }
   ],
   "source": [
    "last_business_day_of_month = pd.date_range(start=apple.index.min(), end=apple.index.max(), freq='BM')\n",
    "print(last_business_day_of_month)"
   ]
  },
  {
   "cell_type": "markdown",
   "metadata": {},
   "source": [
    "### 74.  What is the difference in days between the first day and the oldest"
   ]
  },
  {
   "cell_type": "code",
   "execution_count": 182,
   "metadata": {},
   "outputs": [
    {
     "name": "stdout",
     "output_type": "stream",
     "text": [
      "The difference in days between the first day and the oldest day is: 12261 days\n"
     ]
    }
   ],
   "source": [
    "date_difference = (df['Date'].max() - df['Date'].min()).days\n",
    "\n",
    "print(f\"The difference in days between the first day and the oldest day is: {date_difference} days\")"
   ]
  },
  {
   "cell_type": "markdown",
   "metadata": {},
   "source": [
    "### 75.  How many months in the data we have?"
   ]
  },
  {
   "cell_type": "code",
   "execution_count": 184,
   "metadata": {},
   "outputs": [
    {
     "name": "stdout",
     "output_type": "stream",
     "text": [
      "The number of unique months in the data is: 404 months\n"
     ]
    }
   ],
   "source": [
    "unique_months = df['Date'].dt.to_period(\"M\").nunique()\n",
    "\n",
    "print(f\"The number of unique months in the data is: {unique_months} months\")\n"
   ]
  },
  {
   "cell_type": "markdown",
   "metadata": {},
   "source": [
    "## Section-8: The purpose of the below exercises is to understand how to create basic graphs"
   ]
  },
  {
   "cell_type": "markdown",
   "metadata": {},
   "source": [
    "### 76. Plot the 'Adj Close' value. Set the size of the figure to 13.5 x 9 inches"
   ]
  },
  {
   "cell_type": "code",
   "execution_count": 185,
   "metadata": {},
   "outputs": [
    {
     "data": {
      "image/png": "[encoded data removed]",
      "text/plain": [
       "<Figure size 1350x900 with 1 Axes>"
      ]
     },
     "metadata": {},
     "output_type": "display_data"
    }
   ],
   "source": [
    "\n",
    "plt.figure(figsize=(13.5, 9))\n",
    "plt.plot(apple.index, apple['Adj Close'], label='Adj Close')\n",
    "plt.title('Adj Close Values Over Time')\n",
    "plt.xlabel('Date')\n",
    "plt.ylabel('Adj Close')\n",
    "plt.legend()\n",
    "plt.show()\n"
   ]
  },
  {
   "cell_type": "markdown",
   "metadata": {},
   "source": [
    "## The below exercises (77-80) required to use Online_Retail.csv file"
   ]
  },
  {
   "cell_type": "markdown",
   "metadata": {},
   "source": [
    "### 77. Import the dataset from this Online_Retail.csv and assign it to a variable called online_rt"
   ]
  },
  {
   "cell_type": "code",
   "execution_count": 155,
   "metadata": {},
   "outputs": [],
   "source": [
    "online_rt=pd.read_csv(r\"C:\\Users\\hp\\Downloads\\Basic Data Manipulation - Visualization Exercise\\2. Basic Data Manipulation - Visualization Exercise\\Exercise Data Files\\Online_Retail.csv\", encoding='unicode_escape')"
   ]
  },
  {
   "cell_type": "markdown",
   "metadata": {},
   "source": [
    "### 78. Create a barchart with the 10 countries that have the most 'Quantity' ordered except UK"
   ]
  },
  {
   "cell_type": "code",
   "execution_count": 156,
   "metadata": {},
   "outputs": [
    {
     "data": {
      "image/png": "[encoded data removed]",
      "text/plain": [
       "<Figure size 1200x600 with 1 Axes>"
      ]
     },
     "metadata": {},
     "output_type": "display_data"
    }
   ],
   "source": [
    "\n",
    "# Filtering  out the UK\n",
    "filtered_data = online_rt[online_rt['Country'] != 'United Kingdom']\n",
    "\n",
    "quantity_by_country = filtered_data.groupby('Country')['Quantity'].sum()\n",
    "\n",
    "# Selecting  the top 10 countries with the most ordered quantity\n",
    "top_countries = quantity_by_country.nlargest(10)\n",
    "\n",
    "# Plot the bar chart\n",
    "plt.figure(figsize=(12, 6))\n",
    "top_countries.plot(kind='bar', color='skyblue')\n",
    "plt.title('Top 10 Countries with the Most Ordered Quantity (Excluding UK)')\n",
    "plt.xlabel('Country')\n",
    "plt.ylabel('Total Quantity Ordered')\n",
    "plt.show()\n"
   ]
  },
  {
   "cell_type": "markdown",
   "metadata": {},
   "source": [
    "### 79.  Exclude negative Quatity entries"
   ]
  },
  {
   "cell_type": "code",
   "execution_count": 157,
   "metadata": {},
   "outputs": [
    {
     "data": {
      "image/png": "[encoded data removed]",
      "text/plain": [
       "<Figure size 1200x600 with 1 Axes>"
      ]
     },
     "metadata": {},
     "output_type": "display_data"
    }
   ],
   "source": [
    "\n",
    "# Excluding  negative Quantity entries and filter out the UK\n",
    "filtered_data = online_rt[(online_rt['Quantity'] > 0) & (online_rt['Country'] != 'United Kingdom')]\n",
    "\n",
    "# Group by 'Country' and sum the 'Quantity' for each country\n",
    "quantity_by_country = filtered_data.groupby('Country')['Quantity'].sum()\n",
    "\n",
    "# Select the top 10 countries with the most ordered quantity\n",
    "top_countries = quantity_by_country.nlargest(10)\n",
    "\n",
    "# Plot the bar chart\n",
    "plt.figure(figsize=(12, 6))\n",
    "top_countries.plot(kind='bar', color='orange')\n",
    "plt.title('Top 10 Countries with the Most Ordered Quantity (Excluding UK and Negative Quantity)')\n",
    "plt.xlabel('Country')\n",
    "plt.ylabel('Total Quantity Ordered')\n",
    "plt.show()\n",
    "\n",
    "\n"
   ]
  },
  {
   "cell_type": "markdown",
   "metadata": {},
   "source": [
    "### 80. Create a scatterplot with the Quantity per UnitPrice by CustomerID for the top 3 Countries\n",
    "Hint: First we need to find top-3 countries based on revenue, then create scater plot between Quantity and Unitprice for each country separately\n"
   ]
  },
  {
   "cell_type": "code",
   "execution_count": 158,
   "metadata": {},
   "outputs": [
    {
     "data": {
      "image/png": "[encoded data removed]",
      "text/plain": [
       "<Figure size 1200x600 with 1 Axes>"
      ]
     },
     "metadata": {},
     "output_type": "display_data"
    }
   ],
   "source": [
    "\n",
    "# Exclude negative Quantity entries\n",
    "online_rt = online_rt[online_rt['Quantity'] > 0]\n",
    "\n",
    "# Calculate the total revenue for each country\n",
    "online_rt['Revenue'] = online_rt['Quantity'] * online_rt['UnitPrice']\n",
    "revenue_by_country = online_rt.groupby('Country')['Revenue'].sum()\n",
    "\n",
    "# Select the top 3 countries based on revenue\n",
    "top_countries = revenue_by_country.nlargest(3).index\n",
    "\n",
    "# Filter the data for the top 3 countries\n",
    "filtered_data = online_rt[online_rt['Country'].isin(top_countries)]\n",
    "\n",
    "# Create a scatterplot for each country\n",
    "plt.figure(figsize=(12, 6))\n",
    "\n",
    "for country in top_countries:\n",
    "    country_data = filtered_data[filtered_data['Country'] == country]\n",
    "    plt.scatter(country_data['Quantity'], country_data['UnitPrice'], label=country, alpha=0.5)\n",
    "\n",
    "plt.title('Scatterplot of Quantity per UnitPrice by CustomerID (Top 3 Countries by Revenue)')\n",
    "plt.xlabel('Quantity')\n",
    "plt.ylabel('UnitPrice')\n",
    "plt.legend()\n",
    "plt.show()\n"
   ]
  },
  {
   "cell_type": "markdown",
   "metadata": {},
   "source": [
    "## The below exercises (81-90) required to use FMCG_Company_Data_2019.csv file"
   ]
  },
  {
   "cell_type": "markdown",
   "metadata": {},
   "source": [
    "### 81. Import the dataset FMCG_Company_Data_2019.csv and assign it to a variable called company_data"
   ]
  },
  {
   "cell_type": "code",
   "execution_count": null,
   "metadata": {},
   "outputs": [],
   "source": [
    "company_data = pd.read_csv(r\"C:\\Users\\hp\\Downloads\\Basic Data Manipulation - Visualization Exercise\\2. Basic Data Manipulation - Visualization Exercise\\Exercise Data Files\\FMCG_Company_Data_2019.csv\")"
   ]
  },
  {
   "cell_type": "markdown",
   "metadata": {},
   "source": [
    "### 82. Create line chart for Total Revenue of all months with following properties\n",
    "- X label name = Month\n",
    "- Y label name = Total Revenue"
   ]
  },
  {
   "cell_type": "code",
   "execution_count": 153,
   "metadata": {},
   "outputs": [
    {
     "data": {
      "text/html": [
       "<div>\n",
       "<style scoped>\n",
       "    .dataframe tbody tr th:only-of-type {\n",
       "        vertical-align: middle;\n",
       "    }\n",
       "\n",
       "    .dataframe tbody tr th {\n",
       "        vertical-align: top;\n",
       "    }\n",
       "\n",
       "    .dataframe thead th {\n",
       "        text-align: right;\n",
       "    }\n",
       "</style>\n",
       "<table border=\"1\" class=\"dataframe\">\n",
       "  <thead>\n",
       "    <tr style=\"text-align: right;\">\n",
       "      <th></th>\n",
       "      <th>Month</th>\n",
       "      <th>FaceCream</th>\n",
       "      <th>FaceWash</th>\n",
       "      <th>ToothPaste</th>\n",
       "      <th>Soap</th>\n",
       "      <th>Shampo</th>\n",
       "      <th>Moisturizer</th>\n",
       "      <th>Total_Units</th>\n",
       "      <th>Total_Revenue</th>\n",
       "      <th>Total_Profit</th>\n",
       "    </tr>\n",
       "  </thead>\n",
       "  <tbody>\n",
       "    <tr>\n",
       "      <th>0</th>\n",
       "      <td>Jan-19</td>\n",
       "      <td>2500</td>\n",
       "      <td>1500</td>\n",
       "      <td>5200</td>\n",
       "      <td>9200</td>\n",
       "      <td>1200</td>\n",
       "      <td>1500</td>\n",
       "      <td>21100</td>\n",
       "      <td>3584890</td>\n",
       "      <td>211000</td>\n",
       "    </tr>\n",
       "    <tr>\n",
       "      <th>1</th>\n",
       "      <td>Feb-19</td>\n",
       "      <td>2630</td>\n",
       "      <td>1200</td>\n",
       "      <td>5100</td>\n",
       "      <td>6100</td>\n",
       "      <td>2100</td>\n",
       "      <td>1200</td>\n",
       "      <td>18330</td>\n",
       "      <td>2864979</td>\n",
       "      <td>183300</td>\n",
       "    </tr>\n",
       "    <tr>\n",
       "      <th>2</th>\n",
       "      <td>Mar-19</td>\n",
       "      <td>2140</td>\n",
       "      <td>1340</td>\n",
       "      <td>4550</td>\n",
       "      <td>9550</td>\n",
       "      <td>3550</td>\n",
       "      <td>1340</td>\n",
       "      <td>22470</td>\n",
       "      <td>4058082</td>\n",
       "      <td>224700</td>\n",
       "    </tr>\n",
       "    <tr>\n",
       "      <th>3</th>\n",
       "      <td>Apr-19</td>\n",
       "      <td>3400</td>\n",
       "      <td>1130</td>\n",
       "      <td>5870</td>\n",
       "      <td>8870</td>\n",
       "      <td>1870</td>\n",
       "      <td>1130</td>\n",
       "      <td>22270</td>\n",
       "      <td>2890646</td>\n",
       "      <td>222700</td>\n",
       "    </tr>\n",
       "    <tr>\n",
       "      <th>4</th>\n",
       "      <td>May-19</td>\n",
       "      <td>3600</td>\n",
       "      <td>1740</td>\n",
       "      <td>4560</td>\n",
       "      <td>7760</td>\n",
       "      <td>1560</td>\n",
       "      <td>1740</td>\n",
       "      <td>20960</td>\n",
       "      <td>2997280</td>\n",
       "      <td>209600</td>\n",
       "    </tr>\n",
       "    <tr>\n",
       "      <th>5</th>\n",
       "      <td>Jun-19</td>\n",
       "      <td>2760</td>\n",
       "      <td>1555</td>\n",
       "      <td>4890</td>\n",
       "      <td>7490</td>\n",
       "      <td>1890</td>\n",
       "      <td>1555</td>\n",
       "      <td>20140</td>\n",
       "      <td>2857866</td>\n",
       "      <td>201400</td>\n",
       "    </tr>\n",
       "    <tr>\n",
       "      <th>6</th>\n",
       "      <td>Jul-19</td>\n",
       "      <td>2980</td>\n",
       "      <td>1120</td>\n",
       "      <td>4780</td>\n",
       "      <td>8980</td>\n",
       "      <td>1780</td>\n",
       "      <td>1120</td>\n",
       "      <td>29550</td>\n",
       "      <td>5735655</td>\n",
       "      <td>295500</td>\n",
       "    </tr>\n",
       "    <tr>\n",
       "      <th>7</th>\n",
       "      <td>Aug-19</td>\n",
       "      <td>3700</td>\n",
       "      <td>1400</td>\n",
       "      <td>5860</td>\n",
       "      <td>9960</td>\n",
       "      <td>2860</td>\n",
       "      <td>1400</td>\n",
       "      <td>36140</td>\n",
       "      <td>5196932</td>\n",
       "      <td>361400</td>\n",
       "    </tr>\n",
       "    <tr>\n",
       "      <th>8</th>\n",
       "      <td>Sep-19</td>\n",
       "      <td>3540</td>\n",
       "      <td>1780</td>\n",
       "      <td>6100</td>\n",
       "      <td>8100</td>\n",
       "      <td>2100</td>\n",
       "      <td>1780</td>\n",
       "      <td>23400</td>\n",
       "      <td>3060720</td>\n",
       "      <td>234000</td>\n",
       "    </tr>\n",
       "    <tr>\n",
       "      <th>9</th>\n",
       "      <td>Oct-19</td>\n",
       "      <td>1990</td>\n",
       "      <td>1890</td>\n",
       "      <td>8300</td>\n",
       "      <td>10300</td>\n",
       "      <td>2300</td>\n",
       "      <td>1890</td>\n",
       "      <td>26670</td>\n",
       "      <td>4661916</td>\n",
       "      <td>266700</td>\n",
       "    </tr>\n",
       "    <tr>\n",
       "      <th>10</th>\n",
       "      <td>Nov-19</td>\n",
       "      <td>2340</td>\n",
       "      <td>2100</td>\n",
       "      <td>7300</td>\n",
       "      <td>13300</td>\n",
       "      <td>2400</td>\n",
       "      <td>2100</td>\n",
       "      <td>41280</td>\n",
       "      <td>6794688</td>\n",
       "      <td>412800</td>\n",
       "    </tr>\n",
       "    <tr>\n",
       "      <th>11</th>\n",
       "      <td>Dec-19</td>\n",
       "      <td>2900</td>\n",
       "      <td>1760</td>\n",
       "      <td>7400</td>\n",
       "      <td>14400</td>\n",
       "      <td>1800</td>\n",
       "      <td>1760</td>\n",
       "      <td>30020</td>\n",
       "      <td>3770512</td>\n",
       "      <td>300200</td>\n",
       "    </tr>\n",
       "  </tbody>\n",
       "</table>\n",
       "</div>"
      ],
      "text/plain": [
       "     Month  FaceCream  FaceWash  ToothPaste   Soap  Shampo  Moisturizer  \\\n",
       "0   Jan-19       2500      1500        5200   9200    1200         1500   \n",
       "1   Feb-19       2630      1200        5100   6100    2100         1200   \n",
       "2   Mar-19       2140      1340        4550   9550    3550         1340   \n",
       "3   Apr-19       3400      1130        5870   8870    1870         1130   \n",
       "4   May-19       3600      1740        4560   7760    1560         1740   \n",
       "5   Jun-19       2760      1555        4890   7490    1890         1555   \n",
       "6   Jul-19       2980      1120        4780   8980    1780         1120   \n",
       "7   Aug-19       3700      1400        5860   9960    2860         1400   \n",
       "8   Sep-19       3540      1780        6100   8100    2100         1780   \n",
       "9   Oct-19       1990      1890        8300  10300    2300         1890   \n",
       "10  Nov-19       2340      2100        7300  13300    2400         2100   \n",
       "11  Dec-19       2900      1760        7400  14400    1800         1760   \n",
       "\n",
       "    Total_Units  Total_Revenue  Total_Profit  \n",
       "0         21100        3584890        211000  \n",
       "1         18330        2864979        183300  \n",
       "2         22470        4058082        224700  \n",
       "3         22270        2890646        222700  \n",
       "4         20960        2997280        209600  \n",
       "5         20140        2857866        201400  \n",
       "6         29550        5735655        295500  \n",
       "7         36140        5196932        361400  \n",
       "8         23400        3060720        234000  \n",
       "9         26670        4661916        266700  \n",
       "10        41280        6794688        412800  \n",
       "11        30020        3770512        300200  "
      ]
     },
     "execution_count": 153,
     "metadata": {},
     "output_type": "execute_result"
    }
   ],
   "source": [
    "company_data"
   ]
  },
  {
   "cell_type": "code",
   "execution_count": 152,
   "metadata": {},
   "outputs": [
    {
     "data": {
      "image/png": "[encoded data removed]",
      "text/plain": [
       "<Figure size 640x480 with 1 Axes>"
      ]
     },
     "metadata": {},
     "output_type": "display_data"
    }
   ],
   "source": [
    "\n",
    "x_values = company_data['Month']\n",
    "y_values = company_data['Total_Revenue']\n",
    "\n",
    "\n",
    "# Extracting only the month part (ignoring the year)\n",
    "x_values = [Month.split('-')[0] for Month in x_values]\n",
    "\n",
    "# Plotting the line chart\n",
    "plt.plot(x_values, y_values, marker='o', linestyle='-', color='b')\n",
    "\n",
    "# Adding labels and title\n",
    "plt.xlabel('Month')\n",
    "plt.ylabel('Total_Revenue')\n",
    "plt.title('Total_Revenue_of_all_months')\n",
    "\n",
    "# Display the chart\n",
    "plt.show()\n"
   ]
  },
  {
   "cell_type": "markdown",
   "metadata": {},
   "source": [
    "### 83. Create line chart for Total Units of all months with following properties\n",
    "- X label name = Month\n",
    "- Y label name = Total Units\n",
    "- Line Style dotted and Line-color should be red\n",
    "- Show legend at the lower right location."
   ]
  },
  {
   "cell_type": "code",
   "execution_count": 151,
   "metadata": {},
   "outputs": [
    {
     "data": {
      "image/png": "[encoded data removed]",
      "text/plain": [
       "<Figure size 640x480 with 1 Axes>"
      ]
     },
     "metadata": {},
     "output_type": "display_data"
    }
   ],
   "source": [
    "\n",
    "x_values = company_data['Month']\n",
    "y_values_units = company_data['Total_Units']\n",
    "\n",
    "# Extracting only the month part (ignoring the year)\n",
    "x_values = [month.split('-')[0] for month in x_values]\n",
    "\n",
    "# Plotting the line chart\n",
    "plt.plot(x_values, y_values_units, marker='o', linestyle='dotted', color='orange', label='Total_Units')\n",
    "\n",
    "# Adding labels and title\n",
    "plt.xlabel('Month')\n",
    "plt.ylabel('Total_Units')\n",
    "plt.title('Total_Units_by_months')\n",
    "\n",
    "# Adding legend at the lower right location\n",
    "plt.legend(loc='lower right')\n",
    "\n",
    "# Display the chart\n",
    "plt.show()\n"
   ]
  },
  {
   "cell_type": "markdown",
   "metadata": {},
   "source": [
    "### 84. Read all product sales data (Facecream, FaceWash, Toothpaste, Soap, Shampo, Moisturizer) and show it  using a multiline plot\n",
    "- Display the number of units sold per month for each product using multiline plots. (i.e., Separate Plotline for each product )."
   ]
  },
  {
   "cell_type": "code",
   "execution_count": 150,
   "metadata": {},
   "outputs": [
    {
     "data": {
      "image/png": "[encoded data removed]",
      "text/plain": [
       "<Figure size 640x480 with 1 Axes>"
      ]
     },
     "metadata": {},
     "output_type": "display_data"
    }
   ],
   "source": [
    "\n",
    "products = ['FaceCream', 'FaceWash', 'ToothPaste', 'Soap', 'Shampo', 'Moisturizer']\n",
    "\n",
    "# Extracting only the month part (ignoring the year)\n",
    "x_values = [month.split('-')[0] for month in company_data['Month']]\n",
    "\n",
    "# Plotting multiline plots for each product\n",
    "for product in products:\n",
    "    y_values_product = company_data[product]\n",
    "    plt.plot(x_values, y_values_product, marker='o', label=product)\n",
    "\n",
    "# Adding labels and title\n",
    "plt.xlabel('Month')\n",
    "plt.ylabel('Units Sold')\n",
    "plt.title('Number of Units Sold per Month for Each Product')\n",
    "\n",
    "# Adding legend\n",
    "plt.legend()\n",
    "\n",
    "# Display the chart\n",
    "plt.show()\n"
   ]
  },
  {
   "cell_type": "markdown",
   "metadata": {},
   "source": [
    "### 85. Create Bar Chart for soap of all months and Save the chart in folder"
   ]
  },
  {
   "cell_type": "code",
   "execution_count": 149,
   "metadata": {},
   "outputs": [
    {
     "data": {
      "image/png": "[encoded data removed]",
      "text/plain": [
       "<Figure size 640x480 with 1 Axes>"
      ]
     },
     "metadata": {},
     "output_type": "display_data"
    }
   ],
   "source": [
    "\n",
    "x_values = company_data['Month']\n",
    "y_values_soap = company_data['Soap']\n",
    "\n",
    "# Extracting only the month part (ignoring the year)\n",
    "x_values = [month.split('-')[0] for month in x_values]\n",
    "\n",
    "# Creating a bar chart for Soap\n",
    "plt.bar(x_values, y_values_soap, color='blue')\n",
    "\n",
    "# Adding labels and title\n",
    "plt.xlabel('Month')\n",
    "plt.ylabel('Units Sold (Soap)')\n",
    "plt.title('Soap Sales per Month')\n",
    "\n",
    "# Saving the figure.\n",
    "plt.savefig(\"output.jpg\")\n",
    "\n",
    "# Display the chart\n",
    "plt.show()\n",
    "\n"
   ]
  },
  {
   "cell_type": "markdown",
   "metadata": {},
   "source": [
    "### 86. Create Stacked Bar Chart for Soap, Shampo, ToothPaste for each month\n",
    "The bar chart should display the number of units sold per month for each product. Add a separate bar for each product in the same chart."
   ]
  },
  {
   "cell_type": "code",
   "execution_count": 148,
   "metadata": {},
   "outputs": [
    {
     "data": {
      "image/png": "[encoded data removed]",
      "text/plain": [
       "<Figure size 640x480 with 1 Axes>"
      ]
     },
     "metadata": {},
     "output_type": "display_data"
    }
   ],
   "source": [
    "\n",
    "x_values = company_data['Month']\n",
    "y_values_soap = company_data['Soap']\n",
    "y_values_shampoo = company_data['Shampo']\n",
    "y_values_toothpaste = company_data['ToothPaste']\n",
    "\n",
    "# Extracting only the month part (ignoring the year)\n",
    "x_values = [month.split('-')[0] for month in x_values]\n",
    "\n",
    "# Creating a stacked bar chart\n",
    "plt.bar(x_values, y_values_soap, label='Soap', color='blue')\n",
    "plt.bar(x_values, y_values_shampoo, bottom=y_values_soap, label='Shampo', color='green')\n",
    "plt.bar(x_values, y_values_toothpaste, bottom=y_values_soap+y_values_shampoo, label='ToothPaste', color='orange')\n",
    "\n",
    "# Adding labels and title\n",
    "plt.xlabel('Month')\n",
    "plt.ylabel('Units Sold')\n",
    "plt.title('Stacked Bar Chart: Sales per Month')\n",
    "\n",
    "# Adding legend\n",
    "plt.legend()\n",
    "\n",
    "# Display the chart\n",
    "plt.show()\n"
   ]
  },
  {
   "cell_type": "markdown",
   "metadata": {},
   "source": [
    "### 87. Create Histogram for Total Revenue"
   ]
  },
  {
   "cell_type": "code",
   "execution_count": 147,
   "metadata": {},
   "outputs": [
    {
     "data": {
      "image/png": "[encoded data removed]",
      "text/plain": [
       "<Figure size 640x480 with 1 Axes>"
      ]
     },
     "metadata": {},
     "output_type": "display_data"
    }
   ],
   "source": [
    "\n",
    "total_Revenue = company_data['Total_Revenue']\n",
    "\n",
    "# Creating a histogram\n",
    "plt.hist(total_Revenue, bins=20, color='skyblue', edgecolor='black')\n",
    "\n",
    "# Adding labels and title\n",
    "plt.xlabel('Total_Revenue')\n",
    "plt.ylabel('Frequency')\n",
    "plt.title('Histogram of Total Revenue')\n",
    "\n",
    "# Display the chart\n",
    "plt.show()\n"
   ]
  },
  {
   "cell_type": "markdown",
   "metadata": {},
   "source": [
    "### 88. Calculate total sales data (quantity) for 2019 for each product and show it using a Pie chart. Understand percentage contribution from each product"
   ]
  },
  {
   "cell_type": "code",
   "execution_count": 146,
   "metadata": {},
   "outputs": [
    {
     "data": {
      "image/png": "[encoded data removed]",
      "text/plain": [
       "<Figure size 640x480 with 1 Axes>"
      ]
     },
     "metadata": {},
     "output_type": "display_data"
    }
   ],
   "source": [
    "\n",
    "products = ['FaceCream', 'FaceWash', 'ToothPaste', 'Soap', 'Shampo', 'Moisturizer']\n",
    "\n",
    "# Filter data for the year 2019\n",
    "data_2019 = company_data[company_data['Month'].str.endswith('-19')]\n",
    "\n",
    "# Calculate total sales data for each product in 2019\n",
    "total_sales_per_product = data_2019[products].sum()\n",
    "\n",
    "# Create a pie chart\n",
    "plt.pie(total_sales_per_product, labels=products, startangle=90, colors=['skyblue', 'lightgreen', 'lightcoral', 'gold', 'lightsalmon', 'lightpink'])\n",
    "\n",
    "# Adding title\n",
    "plt.title('Total Sales Data for 2019 by Product')\n",
    "\n",
    "# Display the chart\n",
    "plt.show()\n"
   ]
  },
  {
   "cell_type": "markdown",
   "metadata": {},
   "source": [
    "### 89. Create line plots for Soap & Facewash of all months in a single plot using Subplot"
   ]
  },
  {
   "cell_type": "code",
   "execution_count": 145,
   "metadata": {},
   "outputs": [
    {
     "data": {
      "image/png": "[encoded data removed]",
      "text/plain": [
       "<Figure size 1000x800 with 2 Axes>"
      ]
     },
     "metadata": {},
     "output_type": "display_data"
    }
   ],
   "source": [
    "\n",
    "x_values = company_data['Month']\n",
    "y_values_soap = company_data['Soap']\n",
    "y_values_facewash = company_data['FaceWash']\n",
    "\n",
    "# Extracting only the month part (ignoring the year)\n",
    "x_values = [month.split('-')[0] for month in x_values]\n",
    "\n",
    "# Creating a subplot with 2 rows and 1 column\n",
    "fig, axs = plt.subplots(2, 1, figsize=(10, 8))\n",
    "\n",
    "# Plotting line chart for Soap\n",
    "axs[0].plot(x_values, y_values_soap, marker='o', linestyle='-', color='blue')\n",
    "axs[0].set_title('Soap Sales per Month')\n",
    "axs[0].set_ylabel('Units Sold (Soap)')\n",
    "\n",
    "# Plotting line chart for Facewash\n",
    "axs[1].plot(x_values, y_values_facewash, marker='o', linestyle='-', color='green')\n",
    "axs[1].set_title('Facewash Sales per Month')\n",
    "axs[1].set_xlabel('Month')\n",
    "axs[1].set_ylabel('Units Sold (Facewash)')\n",
    "\n",
    "# Display the chart\n",
    "plt.show()\n"
   ]
  },
  {
   "cell_type": "markdown",
   "metadata": {},
   "source": [
    "### 90. Create Box Plot for Total Profit variable"
   ]
  },
  {
   "cell_type": "code",
   "execution_count": 144,
   "metadata": {},
   "outputs": [
    {
     "data": {
      "image/png": "[encoded data removed]",
      "text/plain": [
       "<Figure size 640x480 with 1 Axes>"
      ]
     },
     "metadata": {},
     "output_type": "display_data"
    }
   ],
   "source": [
    "Total_Profit = company_data['Total_Profit']\n",
    "\n",
    "# Creating a box plot\n",
    "plt.boxplot(Total_Profit)\n",
    "\n",
    "# Adding labels and title\n",
    "plt.xlabel('Total_Profit')\n",
    "plt.ylabel('Values')\n",
    "plt.title('Box Plot of Total Profit')\n",
    "\n",
    "# Display the chart\n",
    "plt.show()\n"
   ]
  },
  {
   "cell_type": "code",
   "execution_count": null,
   "metadata": {},
   "outputs": [],
   "source": []
  }
 ],
 "metadata": {
  "kernelspec": {
   "display_name": "Python 3 (ipykernel)",
   "language": "python",
   "name": "python3"
  },
  "language_info": {
   "codemirror_mode": {
    "name": "ipython",
    "version": 3
   },
   "file_extension": ".py",
   "mimetype": "text/x-python",
   "name": "python",
   "nbconvert_exporter": "python",
   "pygments_lexer": "ipython3",
   "version": "3.11.5"
  },
  "varInspector": {
   "cols": {
    "lenName": 16,
    "lenType": 16,
    "lenVar": 40
   },
   "kernels_config": {
    "python": {
     "delete_cmd_postfix": "",
     "delete_cmd_prefix": "del ",
     "library": "var_list.py",
     "varRefreshCmd": "print(var_dic_list())"
    },
    "r": {
     "delete_cmd_postfix": ") ",
     "delete_cmd_prefix": "rm(",
     "library": "var_list.r",
     "varRefreshCmd": "cat(var_dic_list()) "
    }
   },
   "types_to_exclude": [
    "module",
    "function",
    "builtin_function_or_method",
    "instance",
    "_Feature"
   ],
   "window_display": false
  }
 },
 "nbformat": 4,
 "nbformat_minor": 2
}
